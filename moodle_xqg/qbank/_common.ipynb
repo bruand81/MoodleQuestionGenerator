{
 "cells": [
  {
   "cell_type": "markdown",
   "metadata": {},
   "source": [
    "Moodle XML Question Generator, (C) 2019 Kosaku Nagasaka (Kobe University)"
   ]
  },
  {
   "cell_type": "code",
   "execution_count": 4,
   "metadata": {},
   "outputs": [],
   "source": [
    "import sympy\n",
    "import io\n",
    "import re"
   ]
  },
  {
   "cell_type": "markdown",
   "metadata": {},
   "source": [
    "## general subroutines for internal quiz structure"
   ]
  },
  {
   "cell_type": "code",
   "execution_count": null,
   "metadata": {},
   "outputs": [],
   "source": [
    "def answer_union(answers):\n",
    "    \"\"\"This deletes the duplicate items w.r.t. 'data'.\"\"\"\n",
    "    results = []\n",
    "    for ans in answers:\n",
    "        is_found = False\n",
    "        for res in results:\n",
    "            if ans['data'] == res['data']:\n",
    "                is_found = True\n",
    "                break\n",
    "        if is_found == False:\n",
    "            results.append(ans)\n",
    "    return results"
   ]
  },
  {
   "cell_type": "markdown",
   "metadata": {},
   "source": [
    "## conversion from sympy expression to other formats"
   ]
  },
  {
   "cell_type": "code",
   "execution_count": 1,
   "metadata": {},
   "outputs": [],
   "source": [
    "def sympy_expr_to_text(expr, prefix='', suffix=''):\n",
    "    \"\"\"This converts the given sympy expresion into latex format with the math mode delimiters.\"\"\"\n",
    "    return r'\\( '+prefix+ sympy.latex(expr, mat_delim='', mat_str='pmatrix', order='lex') +suffix+r' \\)'\n",
    "def sympy_str_to_text(expr_as_str, prefix='', suffix=''):\n",
    "    \"\"\"This converts the given sympy expresion as text into latex format with the math mode delimiters.\n",
    "    Please take care of the limitations of sympy.sympify. For example, '0+1' will be '1'.\"\"\"\n",
    "    return r'\\( '+prefix+ sympy.latex(sympy.sympify(expr_as_str, evaluate=False), mat_delim='', mat_str='pmatrix', order='lex') +suffix+r' \\)'"
   ]
  },
  {
   "cell_type": "code",
   "execution_count": 15,
   "metadata": {},
   "outputs": [],
   "source": [
    "def sympy_expr_to_svg(f, **kwargs):\n",
    "    \"\"\"This converts the given sympy expression in one variable into svg of the graph y=f(x).\"\"\"\n",
    "    p1 = sympy.plotting.plot(f, show=False, **kwargs)\n",
    "    svg_data = io.StringIO()\n",
    "    if hasattr(p1, '_backend'):\n",
    "        p1._backend.close()\n",
    "    p1._backend = p1.backend(p1)\n",
    "    p1._backend.process_series()\n",
    "    p1._backend.fig.savefig(svg_data, format='svg')\n",
    "    p1._backend.close() #p1._backend.fig.clf()\n",
    "    svg_data.seek(0)\n",
    "    svg_str = svg_data.read()\n",
    "    svg_str = svg_str[svg_str.find('<svg '):]\n",
    "    svg_str = re.sub(r'height=\"(.*?)\" ', \"\", svg_str, 1)\n",
    "    svg_str = re.sub(r'width=\"(.*?)\" ', \"\", svg_str, 1)\n",
    "    return svg_str"
   ]
  },
  {
   "cell_type": "markdown",
   "metadata": {},
   "source": [
    "## generate the module file"
   ]
  },
  {
   "cell_type": "code",
   "execution_count": 1,
   "metadata": {},
   "outputs": [],
   "source": [
    "if __name__ == \"__main__\":\n",
    "    import subprocess\n",
    "    subprocess.run(['jupyter', 'nbconvert', '--to', 'python', '_common.ipynb','--output','common.py'])"
   ]
  },
  {
   "cell_type": "code",
   "execution_count": null,
   "metadata": {},
   "outputs": [],
   "source": []
  }
 ],
 "metadata": {
  "kernelspec": {
   "display_name": "Python 3",
   "language": "python",
   "name": "python3"
  },
  "language_info": {
   "codemirror_mode": {
    "name": "ipython",
    "version": 3
   },
   "file_extension": ".py",
   "mimetype": "text/x-python",
   "name": "python",
   "nbconvert_exporter": "python",
   "pygments_lexer": "ipython3",
   "version": "3.7.6"
  },
  "toc": {
   "base_numbering": 1,
   "nav_menu": {},
   "number_sections": true,
   "sideBar": true,
   "skip_h1_title": false,
   "title_cell": "Table of Contents",
   "title_sidebar": "Contents",
   "toc_cell": false,
   "toc_position": {},
   "toc_section_display": true,
   "toc_window_display": false
  }
 },
 "nbformat": 4,
 "nbformat_minor": 2
}
