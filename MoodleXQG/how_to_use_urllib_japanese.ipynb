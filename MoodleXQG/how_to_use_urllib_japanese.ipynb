{
 "cells": [
  {
   "cell_type": "markdown",
   "metadata": {},
   "source": [
    "Moodle XML Question Generator, (C) 2019-2020 Kosaku Nagasaka (Kobe University)"
   ]
  },
  {
   "cell_type": "markdown",
   "metadata": {},
   "source": [
    "# moodle_xqgでのネットからの問題の作り方"
   ]
  },
  {
   "cell_type": "markdown",
   "metadata": {},
   "source": [
    "Moodle XML Question Generator の Python 版である moodle_xqg で，ネットのリソースを使って問題を作る方法を説明します。"
   ]
  },
  {
   "cell_type": "markdown",
   "metadata": {},
   "source": [
    "## パッケージの読み込み"
   ]
  },
  {
   "cell_type": "markdown",
   "metadata": {},
   "source": [
    "**moodle_xqg.core**は必ず必要です。**moodle_xqgb.qbank.common**は数式のLaTeX化など，問題作成に必要なものが含まれているので，読み込んだほうがよいです。"
   ]
  },
  {
   "cell_type": "code",
   "execution_count": 1,
   "metadata": {},
   "outputs": [],
   "source": [
    "import moodle_xqg.core as mxqg\n",
    "import moodle_xqg.qbank.common as mxqg_common"
   ]
  },
  {
   "cell_type": "markdown",
   "metadata": {},
   "source": [
    "次のパッケージは作られる問題に依存しますが，多くの場合，乱数生成と数式処理のために，必要となると思います。今回は，SVGへの出力やその可能のために，**io**と**re**を必要とします。"
   ]
  },
  {
   "cell_type": "code",
   "execution_count": 2,
   "metadata": {},
   "outputs": [],
   "source": [
    "import random\n",
    "import re\n",
    "import urllib"
   ]
  },
  {
   "cell_type": "markdown",
   "metadata": {},
   "source": [
    "## 青空文庫からの文章を使った問題のサンプル"
   ]
  },
  {
   "cell_type": "markdown",
   "metadata": {},
   "source": [
    "問題生成器は，**Question**の小クラスとして定義する必要があります。必要なメソッドは，**question_generate**と**correct_answers_generate**と**incorrect_answers_generate**と**question_text**と**answer_text**の5つです。"
   ]
  },
  {
   "cell_type": "markdown",
   "metadata": {},
   "source": [
    "問題生成器は，**Quiz.quiz_identifier**に同じ問題であるかを判定可能なデータを必ず格納してください。この値でもって問題の区別をするので，格納していない場合，最初の1問しか自動生成されなくなってしまいます。 "
   ]
  },
  {
   "cell_type": "markdown",
   "metadata": {},
   "source": [
    "青空文庫の文章は， **urllib** を使って取り込み， **re** などで整形しています。"
   ]
  },
  {
   "cell_type": "code",
   "execution_count": 3,
   "metadata": {},
   "outputs": [],
   "source": [
    "class aozora_galaxy_night(mxqg.Question):\n",
    "    def __init__(self, show_lines=5, safty_lines=2):\n",
    "        self.show_lines = show_lines\n",
    "        self.safty_lines = safty_lines\n",
    "        universe_html = urllib.request.urlopen(\n",
    "            r'https://www.aozora.gr.jp/cards/000081/files/456_15050.html').read()\n",
    "        body_text = universe_html.decode('shift_jis')\n",
    "        main_text=re.findall(r'<div class=\"main_text\">.*<div class=\"bibliographical_information\">',body_text, re.DOTALL)[0]\n",
    "        lines = re.split(r'\\r\\n',main_text)\n",
    "        lines_wo_ruby = [re.sub(r'<ruby><rb>([^<]*)</rb><rp>（</rp><rt>[^<]*</rt><rp>）</rp></ruby>',r'\\1',line) for line in lines]\n",
    "        self.main_lines = []\n",
    "        for line in lines_wo_ruby:\n",
    "            if not re.match(r'<.*', line):\n",
    "                self.main_lines.append(line)\n",
    "        self.main_lines = [re.sub(r'<[^>]*>','',line.replace('\\u3000','')) \n",
    "                           for line in self.main_lines]\n",
    "        self.num_of_lines = len(self.main_lines)\n",
    "    def question_generate(self, _quiz_number=0):\n",
    "        quiz = mxqg.Quiz(name='銀河鉄道の夜より', quiz_number=_quiz_number, lang='ja')\n",
    "        quiz.data = random.randint(self.show_lines//2, self.num_of_lines-self.show_lines//2-1)        \n",
    "        quiz.quiz_identifier = hash(quiz.data)\n",
    "        # 正答の選択肢の生成\n",
    "        ans = { 'fraction': 100, 'data': self.main_lines[quiz.data] }\n",
    "        quiz.answers.append(ans)\n",
    "        return quiz        \n",
    "    def correct_answers_generate(self, quiz, size=1):\n",
    "        # 正答を個別には作らないので何もしない\n",
    "        pass\n",
    "    def incorrect_answers_generate(self, quiz, size=4):\n",
    "        answers = []\n",
    "        ans = { 'fraction': 0, 'feedback': '前後のつながりを確認しましょう。' }\n",
    "        # 傾き符号違い\n",
    "        target_ids = list(set(range(0,quiz.data - self.show_lines//2 - self.safty_lines)).union(\n",
    "                    set(range(quiz.data + self.show_lines//2 + self.safty_lines + 1, self.num_of_lines))))\n",
    "        while len(answers) < size:\n",
    "            idx_p = random.randint(0,len(target_ids))\n",
    "            idx = target_ids[idx_p]\n",
    "            del target_ids[idx_p]\n",
    "            ans['data'] = self.main_lines[idx]\n",
    "            answers.append(dict(ans))            \n",
    "        if len(answers) >= size:\n",
    "            return random.sample(answers,k=size)\n",
    "        return answers    \n",
    "    def question_text(self, quiz):\n",
    "        qtext = '<p>次の文章は，銀河鉄道の夜の一部分です。空欄に最も適すると思われる文を選択してください。</p>'\n",
    "        qtext += '<div style=\"padding: 1em\">'\n",
    "        for idx in range(quiz.data - self.show_lines//2, quiz.data):\n",
    "            qtext += '<p>' + self.main_lines[idx] + '</p>' \n",
    "        qtext += '<p>________（空欄）________</p>'\n",
    "        for idx in range(quiz.data + 1, quiz.data + self.show_lines//2 +1):\n",
    "            qtext += '<p>' + self.main_lines[idx] + '</p>' \n",
    "        qtext += '</div>'\n",
    "        return qtext\n",
    "    def answer_text(self, ans):\n",
    "        return ans['data']"
   ]
  },
  {
   "cell_type": "markdown",
   "metadata": {},
   "source": [
    "問題の自動生成は，**generate**を使いますが，それに先立ち，問題生成器のインスタンスを生成しておく必要があります。作成する問題数は，*generate*に**size=100**のような形で指定します（無指定時は，10個生成されます）。"
   ]
  },
  {
   "cell_type": "code",
   "execution_count": 4,
   "metadata": {},
   "outputs": [],
   "source": [
    "agn = aozora_galaxy_night()\n",
    "agn_quizzes = mxqg.generate(agn, category='青空文庫の問題サンプル')"
   ]
  },
  {
   "cell_type": "markdown",
   "metadata": {},
   "source": [
    "生成結果は，**Quizzes**のインスタンスとなっており，次のようにプレビューができます。"
   ]
  },
  {
   "cell_type": "code",
   "execution_count": 5,
   "metadata": {
    "scrolled": true
   },
   "outputs": [
    {
     "data": {
      "text/html": [
       "<div style=\"border: thin solid #000000; padding: 1em\"><div title=\"フィードバック:\n",
       "正答フィードバック:あなたの答えは正解です。\n",
       "部分フィードバック:あたなの答えは部分的に正解です。\n",
       "誤答フィードバック:あたなの答えは正しくありません。\"><p>次の文章は，銀河鉄道の夜の一部分です。空欄に最も適すると思われる文を選択してください。</p><div style=\"padding: 1em\"><p>ジョバンニはそのカムパネルラはもうあの銀河のはずれにしかいないというような気がしてしかたなかったのです。</p><p>けれどもみんなはまだ、どこかの波の間から、</p><p>________（空欄）________</p><p>「もう駄目です。落ちてから四十五分たちましたから。」</p><p>ジョバンニは思わずかけよって博士の前に立って、ぼくはカムパネルラの行った方を知っていますぼくはカムパネルラといっしょに歩いていたのですと云おうとしましたがもうのどがつまって何とも云えませんでした。すると博士はジョバンニが挨拶に来たとでも思ったものですか、しばらくしげしげジョバンニを見ていましたが</p></div><div style=\"text-align:right;font-size:smaller\">（問題整理番号:008）</div><ol style=\"list-style-type:none\"><li title=\"点数:0\n",
       "フィードバック:前後のつながりを確認しましょう。\"><input type=\"radio\" name=\"preview8\">「何かあったんですか。」と叫ぶようにききました。</li><li title=\"点数:0\n",
       "フィードバック:前後のつながりを確認しましょう。\"><input type=\"radio\" name=\"preview8\">青年はぞくっとしてからだをふるうようにしました。</li><li title=\"点数:0\n",
       "フィードバック:前後のつながりを確認しましょう。\"><input type=\"radio\" name=\"preview8\">「ここへかけてもようございますか。」</li><li title=\"点数:100\"><input type=\"radio\" name=\"preview8\">「ぼくずいぶん泳いだぞ。」と云いながらカムパネルラが出て来るか或いはカムパネルラがどこかの人の知らない洲にでも着いて立っていて誰かの来るのを待っているかというような気がして仕方ないらしいのでした。けれども俄かにカムパネルラのお父さんがきっぱり云いました。</li><li title=\"点数:0\n",
       "フィードバック:前後のつながりを確認しましょう。\"><input type=\"radio\" name=\"preview8\">「ああ、ジョバンニ、お仕事がひどかったろう。今日は涼しくてね。わたしはずうっと工合がいいよ。」</li></ol></div></div><div style=\"border: thin solid #000000; padding: 1em\"><div title=\"フィードバック:\n",
       "正答フィードバック:あなたの答えは正解です。\n",
       "部分フィードバック:あたなの答えは部分的に正解です。\n",
       "誤答フィードバック:あたなの答えは正しくありません。\"><p>次の文章は，銀河鉄道の夜の一部分です。空欄に最も適すると思われる文を選択してください。</p><div style=\"padding: 1em\"><p>その正面の青じろい時計はかっきり第二時を示しその振子は風もなくなり汽車もうごかずしずかなしずかな野原のなかにカチッカチッと正しく時を刻んで行くのでした。</p><p>そしてまったくその振子の音のたえまを遠くの遠くの野原のはてから、かすかなかすかな旋律が糸のように流れて来るのでした。「新世界交響楽だわ。」姉がひとりごとのようにこっちを見ながらそっと云いました。全くもう車の中ではあの黒服の丈高い青年も誰もみんなやさしい夢を見ているのでした。</p><p>________（空欄）________</p><p>「ええ、ええ、もうこの辺はひどい高原ですから。」うしろの方で誰かとしよりらしい人のいま眼がさめたという風ではきはき談している声がしました。</p><p>「とうもろこしだって棒で二尺も孔をあけておいてそこへ播かないと生えないんです。」</p></div><div style=\"text-align:right;font-size:smaller\">（問題整理番号:002）</div><ol style=\"list-style-type:none\"><li title=\"点数:0\n",
       "フィードバック:前後のつながりを確認しましょう。\"><input type=\"radio\" name=\"preview2\">「お母さん。今日は角砂糖を買ってきたよ。牛乳に入れてあげようと思って。」</li><li title=\"点数:100\"><input type=\"radio\" name=\"preview2\">（こんなしずかないいとこで僕はどうしてもっと愉快になれないだろう。どうしてこんなにひとりさびしいのだろう。けれどもカムパネルラなんかあんまりひどい、僕といっしょに汽車に乗っていながらまるであんな女の子とばかり談しているんだもの。僕はほんとうにつらい。）ジョバンニはまた両手で顔を半分かくすようにして向うの窓のそとを見つめていました。すきとおった硝子のような笛が鳴って汽車はしずかに動き出し、カムパネルラもさびしそうに星めぐりの口笛を吹きました。</li><li title=\"点数:0\n",
       "フィードバック:前後のつながりを確認しましょう。\"><input type=\"radio\" name=\"preview2\">気がついてみると、さっきから、ごとごとごとごと、ジョバンニの乗っている小さな列車が走りつづけていたのでした。ほんとうにジョバンニは、夜の軽便鉄道の、小さな黄いろの電燈のならんだ車室に、窓から外を見ながら座っていたのです。車室の中は、青い天蚕絨を張った腰掛けが、まるでがら明きで、向うの鼠いろのワニスを塗った壁には、真鍮の大きなぼたんが二つ光っているのでした。</li><li title=\"点数:0\n",
       "フィードバック:前後のつながりを確認しましょう。\"><input type=\"radio\" name=\"preview2\">「お母さんの牛乳は来ていないんだろうか。」</li><li title=\"点数:0\n",
       "フィードバック:前後のつながりを確認しましょう。\"><input type=\"radio\" name=\"preview2\">「蝎がやけて死んだのよ。その火がいまでも燃えてるってあたし何べんもお父さんから聴いたわ。」</li></ol></div></div>"
      ],
      "text/plain": [
       "<IPython.core.display.HTML object>"
      ]
     },
     "metadata": {},
     "output_type": "display_data"
    }
   ],
   "source": [
    "agn_quizzes.preview(size=2)"
   ]
  },
  {
   "cell_type": "markdown",
   "metadata": {},
   "source": [
    "このようにして生成した結果は，**save**を使ってMoodleにインポート可能なファイルに保存することができます。"
   ]
  },
  {
   "cell_type": "code",
   "execution_count": 6,
   "metadata": {},
   "outputs": [],
   "source": [
    "agn_quizzes.save('aozora_galaxy_night_in_japanese.xml')"
   ]
  },
  {
   "cell_type": "markdown",
   "metadata": {},
   "source": [
    "実際にインポートして確認してみてください。なお，問題整理番号の表示が不要な場合は，**show_quiz_number=False**をオプションとして*save*に付けてください。"
   ]
  },
  {
   "cell_type": "code",
   "execution_count": null,
   "metadata": {},
   "outputs": [],
   "source": []
  },
  {
   "cell_type": "markdown",
   "metadata": {},
   "source": [
    "## 形態素解析を使った問題のサンプル"
   ]
  },
  {
   "cell_type": "markdown",
   "metadata": {},
   "source": [
    "形態素解析は **janome** を使って行います。"
   ]
  },
  {
   "cell_type": "code",
   "execution_count": 7,
   "metadata": {},
   "outputs": [],
   "source": [
    "from janome.tokenizer import Tokenizer\n",
    "from janome.analyzer import Analyzer\n",
    "from janome.tokenfilter import *"
   ]
  },
  {
   "cell_type": "markdown",
   "metadata": {},
   "source": [
    "穴埋めにする名詞の選択肢を頻度に応じて採用するためと，実際に穴埋め部分を作るための分かち書きなどにするためで，都合2つの解析器を用意しています。"
   ]
  },
  {
   "cell_type": "code",
   "execution_count": 8,
   "metadata": {},
   "outputs": [],
   "source": [
    "class aozora_galaxy_night_noun(mxqg.Question):\n",
    "    def __init__(self):\n",
    "        universe_html = urllib.request.urlopen(\n",
    "            r'https://www.aozora.gr.jp/cards/000081/files/456_15050.html').read()\n",
    "        body_text = universe_html.decode('shift_jis')\n",
    "        main_text=re.findall(r'<div class=\"main_text\">.*<div class=\"bibliographical_information\">',body_text, re.DOTALL)[0]\n",
    "        lines = re.split(r'\\r\\n',main_text)\n",
    "        lines_wo_ruby = [re.sub(r'<ruby><rb>([^<]*)</rb><rp>（</rp><rt>[^<]*</rt><rp>）</rp></ruby>',r'\\1',line) for line in lines]\n",
    "        self.main_lines = []\n",
    "        for line in lines_wo_ruby:\n",
    "            if not re.match(r'<.*', line):\n",
    "                self.main_lines.append(line)\n",
    "        self.main_lines = [re.sub(r'<[^>]*>','',line.replace('\\u3000','')) \n",
    "                           for line in self.main_lines]\n",
    "        self.num_of_lines = len(self.main_lines)\n",
    "        self.main_text = ''\n",
    "        for line in self.main_lines:\n",
    "            self.main_text += line\n",
    "        self.ctoken_filters = [CompoundNounFilter(), POSKeepFilter('名詞'), POSStopFilter([\"名詞,代名詞\",\"名詞,非自立\",\"名詞,数\"]), TokenCountFilter()]\n",
    "        self.canalyzer = Analyzer(token_filters=self.ctoken_filters)\n",
    "        tokens = self.canalyzer.analyze(self.main_text)\n",
    "        self.nouns = []\n",
    "        self.weights = []\n",
    "        for token in tokens:\n",
    "            self.nouns.append(token[0])\n",
    "            self.weights.append(token[1])\n",
    "        self.wtoken_filters = [CompoundNounFilter()]\n",
    "        self.wanalyzer = Analyzer(token_filters=self.wtoken_filters)\n",
    "    def _question_generate(self):\n",
    "        line_id = random.randint(0, self.num_of_lines - 1)\n",
    "        tokens = self.canalyzer.analyze(self.main_lines[line_id])\n",
    "        words = []\n",
    "        for token in tokens:\n",
    "            words.append(token[0])\n",
    "        if len(words) == 0:\n",
    "            return self._question_generate()\n",
    "        target_noun = random.choice(words)\n",
    "        return [line_id, target_noun]\n",
    "    def question_generate(self, _quiz_number=0):\n",
    "        quiz = mxqg.Quiz(name='銀河鉄道の夜より穴埋め', quiz_number=_quiz_number, lang='ja')\n",
    "        quiz.data = self._question_generate()\n",
    "        quiz.quiz_identifier = hash('{}+{}'.format(quiz.data[0], quiz.data[1]))\n",
    "        # 正答の選択肢の生成\n",
    "        ans = { 'fraction': 100, 'data': quiz.data[1] }\n",
    "        quiz.answers.append(ans)\n",
    "        return quiz        \n",
    "    def correct_answers_generate(self, quiz, size=1):\n",
    "        # 正答を個別には作らないので何もしない\n",
    "        pass\n",
    "    def incorrect_answers_generate(self, quiz, size=4):\n",
    "        answers = []\n",
    "        ans = { 'fraction': 0 }\n",
    "        # 生成\n",
    "        while len(answers) < size:\n",
    "            wrong_noun = random.choices(self.nouns, self.weights)[0]\n",
    "            if wrong_noun != quiz.data[1]:\n",
    "                ans['data'] = wrong_noun\n",
    "                answers.append(dict(ans))            \n",
    "        if len(answers) >= size:\n",
    "            return random.sample(answers,k=size)\n",
    "        return answers    \n",
    "    def question_text(self, quiz):\n",
    "        qtext = '<p>次の文章は，銀河鉄道の夜の一部分です。空欄に最も適すると思われる語句を選択してください。</p>'\n",
    "        qtext += '<div style=\"padding: 1em\">'\n",
    "        tokens = self.wanalyzer.analyze(self.main_lines[quiz.data[0]])\n",
    "        for token in tokens:\n",
    "            if token.surface == quiz.data[1]:\n",
    "                qtext += '【空欄】'\n",
    "            else:\n",
    "                qtext += token.surface\n",
    "        qtext += '</div>'\n",
    "        return qtext\n",
    "    def answer_text(self, ans):\n",
    "        return ans['data']"
   ]
  },
  {
   "cell_type": "markdown",
   "metadata": {},
   "source": [
    "問題の自動生成は，**generate**を使いますが，それに先立ち，問題生成器のインスタンスを生成しておく必要があります。作成する問題数は，*generate*に**size=100**のような形で指定します（無指定時は，10個生成されます）。"
   ]
  },
  {
   "cell_type": "code",
   "execution_count": 9,
   "metadata": {},
   "outputs": [],
   "source": [
    "agnn = aozora_galaxy_night_noun()\n",
    "agnn_quizzes = mxqg.generate(agnn, category='形態素解析の問題サンプル')"
   ]
  },
  {
   "cell_type": "markdown",
   "metadata": {},
   "source": [
    "生成結果は，**Quizzes**のインスタンスとなっており，次のようにプレビューができます。"
   ]
  },
  {
   "cell_type": "code",
   "execution_count": 10,
   "metadata": {
    "scrolled": true
   },
   "outputs": [
    {
     "data": {
      "text/html": [
       "<div style=\"border: thin solid #000000; padding: 1em\"><div title=\"フィードバック:\n",
       "正答フィードバック:あなたの答えは正解です。\n",
       "部分フィードバック:あたなの答えは部分的に正解です。\n",
       "誤答フィードバック:あたなの答えは正しくありません。\"><p>次の文章は，銀河鉄道の夜の一部分です。空欄に最も適すると思われる語句を選択してください。</p><div style=\"padding: 1em\">「ええ、蝎は【空欄】よ。だけどいい【空欄】だわ。」</div><div style=\"text-align:right;font-size:smaller\">（問題整理番号:006）</div><ol style=\"list-style-type:none\"><li title=\"点数:0\"><input type=\"radio\" name=\"preview6\">川</li><li title=\"点数:100\"><input type=\"radio\" name=\"preview6\">虫</li><li title=\"点数:0\"><input type=\"radio\" name=\"preview6\">がさ</li><li title=\"点数:0\"><input type=\"radio\" name=\"preview6\">両面凸レンズ</li><li title=\"点数:0\"><input type=\"radio\" name=\"preview6\">帽子</li></ol></div></div><div style=\"border: thin solid #000000; padding: 1em\"><div title=\"フィードバック:\n",
       "正答フィードバック:あなたの答えは正解です。\n",
       "部分フィードバック:あたなの答えは部分的に正解です。\n",
       "誤答フィードバック:あたなの答えは正しくありません。\"><p>次の文章は，銀河鉄道の夜の一部分です。空欄に最も適すると思われる語句を選択してください。</p><div style=\"padding: 1em\">「うん、だけど僕、船に乗らなけ【空欄】。」</div><div style=\"text-align:right;font-size:smaller\">（問題整理番号:008）</div><ol style=\"list-style-type:none\"><li title=\"点数:0\"><input type=\"radio\" name=\"preview8\">男</li><li title=\"点数:0\"><input type=\"radio\" name=\"preview8\">川</li><li title=\"点数:100\"><input type=\"radio\" name=\"preview8\">ぁよかったなあ</li><li title=\"点数:0\"><input type=\"radio\" name=\"preview8\">街燈</li><li title=\"点数:0\"><input type=\"radio\" name=\"preview8\">洋服</li></ol></div></div>"
      ],
      "text/plain": [
       "<IPython.core.display.HTML object>"
      ]
     },
     "metadata": {},
     "output_type": "display_data"
    }
   ],
   "source": [
    "agnn_quizzes.preview(size=2)"
   ]
  },
  {
   "cell_type": "markdown",
   "metadata": {},
   "source": [
    "このようにして生成した結果は，**save**を使ってMoodleにインポート可能なファイルに保存することができます。"
   ]
  },
  {
   "cell_type": "code",
   "execution_count": 11,
   "metadata": {},
   "outputs": [],
   "source": [
    "agnn_quizzes.save('aozora_galaxy_night_noun_in_japanese.xml')"
   ]
  },
  {
   "cell_type": "markdown",
   "metadata": {},
   "source": [
    "実際にインポートして確認してみてください。なお，問題整理番号の表示が不要な場合は，**show_quiz_number=False**をオプションとして*save*に付けてください。"
   ]
  }
 ],
 "metadata": {
  "kernelspec": {
   "display_name": "Python 3",
   "language": "python",
   "name": "python3"
  },
  "language_info": {
   "codemirror_mode": {
    "name": "ipython",
    "version": 3
   },
   "file_extension": ".py",
   "mimetype": "text/x-python",
   "name": "python",
   "nbconvert_exporter": "python",
   "pygments_lexer": "ipython3",
   "version": "3.7.6"
  },
  "toc": {
   "base_numbering": 1,
   "nav_menu": {},
   "number_sections": true,
   "sideBar": true,
   "skip_h1_title": false,
   "title_cell": "Table of Contents",
   "title_sidebar": "Contents",
   "toc_cell": false,
   "toc_position": {},
   "toc_section_display": true,
   "toc_window_display": false
  }
 },
 "nbformat": 4,
 "nbformat_minor": 2
}
