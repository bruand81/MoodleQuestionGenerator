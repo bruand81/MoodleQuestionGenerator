{
 "cells": [
  {
   "cell_type": "markdown",
   "metadata": {},
   "source": [
    "Moodle XML Question Generator, (C) 2019-2020 Kosaku Nagasaka (Kobe University)"
   ]
  },
  {
   "cell_type": "markdown",
   "metadata": {},
   "source": [
    "# moodle_xqgの使い方"
   ]
  },
  {
   "cell_type": "markdown",
   "metadata": {},
   "source": [
    "Moodle XML Question Generator の Python 版である moodle_xqg の基本的な使い方について説明しています。"
   ]
  },
  {
   "cell_type": "markdown",
   "metadata": {},
   "source": [
    "## パッケージの読み込み"
   ]
  },
  {
   "cell_type": "markdown",
   "metadata": {},
   "source": [
    "**moodle_xqg.core**は必ず必要です。**moodle_xqgb.qbank.common**は数式のLaTeX化など，問題作成に必要なものが含まれているので，読み込んだほうがよいです。**moodle_xqgb.qbank.linear_algebra**と**moodle_xqg.qbank.linear_algebra_next_generation**は，線形代数に共通するいくつかの関数です。"
   ]
  },
  {
   "cell_type": "code",
   "execution_count": 1,
   "metadata": {},
   "outputs": [],
   "source": [
    "import moodle_xqg.core as mxqg\n",
    "import moodle_xqg.qbank.common as mxqg_common\n",
    "import moodle_xqg.qbank.linear_algebra as la\n",
    "import moodle_xqg.qbank.linear_algebra_next_generation as la_ng\n",
    "mxqg._force_to_this_lang = 'ja'"
   ]
  },
  {
   "cell_type": "markdown",
   "metadata": {},
   "source": [
    "実際に問題を定義しているのが，**moodle_xqgb.qbank.linear_algebra_1**, **moodle_xqgb.qbank.linear_algebra_2**, **moodle_xqgb.qbank.linear_algebra_3**, **moodle_xqgb.qbank.linear_algebra_4**, **moodle_xqg.qbank.basic_calculus_1**, **moodle_xqg.qbank.basic_calculus_2**, **moodle_xqg.qbank.basic_calculus_2_partial** です。"
   ]
  },
  {
   "cell_type": "code",
   "execution_count": 2,
   "metadata": {},
   "outputs": [],
   "source": [
    "import moodle_xqg.qbank.linear_algebra_1 as la_1\n",
    "import moodle_xqg.qbank.linear_algebra_2 as la_2\n",
    "import moodle_xqg.qbank.linear_algebra_3 as la_3\n",
    "import moodle_xqg.qbank.linear_algebra_4 as la_4\n",
    "import moodle_xqg.qbank.basic_calculus_1 as bc_1\n",
    "import moodle_xqg.qbank.basic_calculus_2 as bc_2\n",
    "import moodle_xqg.qbank.basic_calculus_2_partial as bc_2p"
   ]
  },
  {
   "cell_type": "markdown",
   "metadata": {},
   "source": [
    "定義されている問題の一覧です。"
   ]
  },
  {
   "cell_type": "code",
   "execution_count": 3,
   "metadata": {},
   "outputs": [
    {
     "data": {
      "text/html": [
       "<ul><li>matrix_notation_R22:行列の記法(2行2列の行列)</li><li>matrix_scalar_computation_R22:行列のスカラー倍(2行2列の整数行列)</li><li>matrix_matrix_addition_R22:行列同士の和(2行2列の整数行列)</li><li>matrix_vector_multiplication_R22:行列とベクトルの積(2行2列の整数行列)</li><li>matrix_matrix_multiplication_R22:行列同士の積(2行2列の整数行列)</li><li>matrix_expression_computation_R22:行列の式の計算(2行2列の整数行列)</li><li>linear_map_image_of_line_R22:直線の線形変換での像(R2の平面)</li><li>matrix_notation_Rmn:行列の記法(一般サイズの行列)</li><li>matrix_scalar_computation_Rmn:行列のスカラー倍(m行n列の整数行列)</li><li>matrix_matrix_addition_Rmn:行列同士の和(m行n列の整数行列)</li><li>matrix_vector_multiplication_Rmn:行列とベクトルの積(m行n列の整数行列)</li><li>matrix_matrix_multiplication_Rmn:行列同士の積(m行n列の整数行列)</li><li>matrix_expression_computation_Rmn:行列の式の計算(m行n列の整数行列)</li><li>conversion_poly_matrix_eqs:線形方程式の変換（多項式と行列間の変換）</li><li>conversion_eqn_augmented_mat:線形方程式の変換（方程式と拡大係数行列の変換）</li><li>result_by_elementary_row_operation:行の基本変形の適用結果（指定された操作の結果を選ぶ）</li><li>elementary_row_operation_for_result:適切な行の基本変形の選択（指定された結果を得るための変形を選ぶ）</li><li>rref_full_rank_matrix_nn1:簡約な行列を求める（(n,n+1)の階数nの行列）</li><li>select_all_pivots:主成分を答える（行主成分）</li><li>select_reduced_row_echelon_form:簡約な行列を選択する（行簡約行列の選択）</li><li>select_row_echelon_form:階段行列を選択する（行階段形の行列の選択）</li><li>rank_of_matrix:行列の階数を求める（簡約前の行列の階数）</li><li>reduced_row_echelon_form:簡約な行列を求める（簡約前の行列から）</li><li>degrees_of_freedom:解の自由度を答える（拡大係数行列の簡約な行列から）</li><li>conversion_between_rref_and_solution:線形方程式の解を構成する（拡大係数行列の簡約な行列から）</li><li>linear_equation:線形方程式を解く（一般の問題）</li></ul>"
      ],
      "text/plain": [
       "<IPython.core.display.HTML object>"
      ]
     },
     "metadata": {},
     "output_type": "display_data"
    }
   ],
   "source": [
    "la_1.listview()"
   ]
  },
  {
   "cell_type": "code",
   "execution_count": 4,
   "metadata": {},
   "outputs": [
    {
     "data": {
      "text/html": [
       "<ul><li>singular_or_nonsingular_ref:正則性の判定（階段行列の場合）</li><li>singular_or_nonsingular_nearly_ref:正則性の判定（ほぼ階段行列の場合）</li><li>inverse_matrix_with_rref:逆行列の計算（拡大した行列の掃き出し結果付き）</li><li>inverse_matrix:逆行列の計算（結果に含まれる要素での確認）</li><li>composition_permutations:置換の合成（置換表現の理解の確認）</li><li>inverse_permutations:逆置換（置換表現の理解の確認）</li><li>cycle_form_permutations:巡回置換への変換（置換表現の理解の確認）</li><li>transpositions_sign_permutations:互換の積と符号（置換表現の理解の確認）</li><li>determinant_by_sarrus:行列式の計算（サラスの方法での計算）</li><li>determinant_by_sarrus_plus_alpha:行列式の計算（スカラー倍とサイズダウン後にサラスの方法での計算）</li><li>same_determinant_by_row_ops:同じ行列式を持つ行列（行の基本変形と行列式）</li><li>determinant_of_nearly_ref:行列式の計算（ほぼ階段行列の場合）</li><li>minor_expansion:正しい余因子展開（余因子展開の公式の確認）</li><li>determinant_of_general_matrix:行列式の計算（一般の行列の場合）</li><li>adjugate_matrix_with_minors:余因子行列（小行列式の計算不要）</li><li>inverse_by_adjugate_matrix_with_minors:余因子行列による逆行列（小行列式の計算不要）</li><li>linear_equation_by_Cramer:線形方程式の解の計算（クラーメルの方法）</li></ul>"
      ],
      "text/plain": [
       "<IPython.core.display.HTML object>"
      ]
     },
     "metadata": {},
     "output_type": "display_data"
    }
   ],
   "source": [
    "la_2.listview()"
   ]
  },
  {
   "cell_type": "code",
   "execution_count": 5,
   "metadata": {},
   "outputs": [
    {
     "data": {
      "text/html": [
       "<ul><li>general_set_operations:集合の基本的な操作</li><li>general_set_notations:集合の定義の理解</li><li>same_subspace_recognition:同一の部分空間の認識</li><li>a_subspace_recognition:部分空間の選択</li><li>representable_vector_by_linear_combination:線形結合で表現可能なベクトル</li><li>nontrivial_linear_relation_vector:非自明な線形関係を持つベクトルの組を選ぶ</li><li>linearly_independent_check_equation:線形独立性の確認に必要な同次線形方程式</li><li>linearly_independent_check_equation_with_basis:線形独立性の確認に必要な同次線形方程式（他のベクトルの線形結合で与えられた場合）</li><li>rref_and_linearly_dependent_relation:掃き出し法の結果と線形従属なベクトルとの関係</li><li>maximum_linearly_independent_set:線形独立な最大個数とそのベクトルの組</li><li>maximum_linearly_independent_set_general_case:線形独立な最大個数とそのベクトルの組（一般）</li><li>matrix_const_for_basis_comp:基底計算に適する掃き出し対象の行列の構成</li><li>basis_from_reduced_row_echelon_form:掃き出し結果の行列から基底の組を構成する</li><li>basis_comp_for_subspace:様々な部分空間の基底の計算</li><li>dim_of_subspace_intersection:部分空間同士の共通部分の次元の計算</li><li>select_linear_maps:線型写像をすべて選択</li><li>kernel_of_linear_map:数ベクトル空間の線形写像の核の次元と基底</li><li>image_of_linear_map:数ベクトル空間の線形写像の像の次元と基底</li><li>matrix_representation_standard_standard_basis:線形写像の標準基底の標準基底に関する表現行列</li><li>matrix_representation_general_standard_basis:線形写像の一般基底の標準基底に関する表現行列</li><li>change_of_basis_matrix:線形空間の基底の変換行列</li><li>matrix_representation_general_general_numeric_basis:線形写像の一般基底の一般基底に関する表現行列（数ベクトル空間）</li><li>matrix_representation_general_general_basis:線形写像の一般基底の一般基底に関する表現行列</li><li>matrix_representation_general_numeric_basis:線形変換の一般基底に関する表現行列（数ベクトル空間）</li><li>matrix_representation_general_basis:線形変換の一般基底に関する表現行列</li></ul>"
      ],
      "text/plain": [
       "<IPython.core.display.HTML object>"
      ]
     },
     "metadata": {},
     "output_type": "display_data"
    }
   ],
   "source": [
    "la_3.listview()"
   ]
  },
  {
   "cell_type": "code",
   "execution_count": 6,
   "metadata": {},
   "outputs": [
    {
     "data": {
      "text/html": [
       "<ul><li>eigenvalue_for_eigenvector:線形変換の固有ベクトルに対する固有値の選択</li><li>select_eigenvector:線形変換の固有ベクトルの選択</li><li>characteristic_polynomial:数行列の固有多項式の選択</li><li>eigen_space_for_numeric_vector_space:数ベクトル空間の線形変換の固有空間の計算</li><li>eigen_space_for_polynomial_vector_space:ベクトル空間（多項式）の線形変換の固有空間の計算</li><li>select_diagonalizable_representation_matrix:表現行列が対角化可能な線形変換の選択</li><li>diagonalization_from_numeric_eigen_spaces:数ベクトル空間における線形変換の表現行列の対角化（固有空間から）</li><li>diagonalization_from_polynomial_eigen_spaces:多項式のベクトル空間における線形変換の表現行列の対角化（固有空間から）</li><li>diagonalization_of_matrix:行列の対角化（ヒントなし）</li><li>diagonalization_of_map:線形変換の表現行列の対角化（ヒントなし）</li><li>standard_inner_product_with_norm_in_Rn:標準内積とそのノルム（数ベクトル空間）</li><li>another_inner_product_with_norm_in_Rn:標準内積ではない内積とそのノルム（数ベクトル空間）</li><li>some_inner_product_with_norm_in_Rnm:ある内積とそのノルム（行列のベクトル空間）</li><li>expanding_inner_expression_with_numerical_values:内積やノルムを展開することで値を求める</li><li>expanding_inner_expression_without_numerical_values:内積やノルムを展開することで展開後の式を求める</li><li>basis_of_orthogonal_complement:直交補空間の一組の基底を選択する</li><li>orthonomal_basis_in_Rn_with_standard_inner_product:正規直交基底の選択（数ベクトル空間，標準内積）</li><li>orthogonalization_process_in_Rn_with_standard_inner_product:グラムシュミットの直交化部分の計算（数ベクトル空間，標準内積）</li><li>normalization_process_in_Rn_with_standard_inner_product:グラムシュミットの正規化部分の計算（数ベクトル空間，標準内積）</li><li>orthogonalization_process_in_Rn_with_some_inner_product:グラムシュミットの直交化部分の計算（数ベクトル空間，ある内積（標準内積でない））</li><li>normalization_process_in_Rn_with_some_inner_product:グラムシュミットの正規化部分の計算（数ベクトル空間，ある内積（標準内積でない））</li><li>some_inner_product_with_norm_in_Rx:ある内積とそのノルム（多項式のベクトル空間）</li><li>orthogonalization_process_in_Rx_with_some_inner_product:グラムシュミットの直交化部分の計算（多項式のベクトル空間，ある内積）</li><li>normalization_process_in_Rx_with_some_inner_product:グラムシュミットの正規化部分の計算（多項式のベクトル空間，ある内積）</li><li>select_orthogonal_matrix:直交行列の選択</li><li>unknown_element_in_orthogonal_matrix:直交行列となるパラメータの値の選択</li><li>select_symmetric_matrix:対称行列の選択</li><li>select_unitary_matrix:ユニタリー行列の選択</li><li>select_Hermitian_matrix:エルミート行列の選択</li><li>select_normal_matrix:正規行列の選択</li><li>diagonalization_of_real_symmetric_matrix:実対称行列が表現行列となる場合の対角化（固有空間から）</li></ul>"
      ],
      "text/plain": [
       "<IPython.core.display.HTML object>"
      ]
     },
     "metadata": {},
     "output_type": "display_data"
    }
   ],
   "source": [
    "la_4.listview()"
   ]
  },
  {
   "cell_type": "code",
   "execution_count": 7,
   "metadata": {},
   "outputs": [
    {
     "data": {
      "text/html": [
       "<ul><li>composite_function:合成関数（初等関数）</li><li>limit_of_polynomial_or_rational_function:多項式又は有理関数の極限（両側極限）</li><li>limit_of_polynomial_or_rational_function_with_nolimit:多項式又は有理関数の極限（両側極限がないのも含む）</li><li>directional_limit_of_rational_function:有理関数の片側極限（基本的に分母の根への片側極限）</li><li>asymptotic_behavior_of_limit:無限小・無限大（収束・発散の速さ）</li><li>limit_of_trigonometric_function:三角関数の極限（両側極限がないのも含む）</li><li>limit_of_exponential_and_logarithmic_function:指数関数と対数関数の極限</li><li>average_rate_of_change:平均変化率（微分係数の導入前段階）</li><li>differential_coefficient:微分係数の計算（多項式，有理関数及び区分的関数）</li><li>differential_coefficient_intermediate_expression:微分係数の途中式（不適切なものを選択）</li><li>derivative_by_definition:導関数の途中式（定義に基づく極限計算による）</li><li>derivative_by_linearity:線形性に基づく導関数の計算（基本公式と線形性の活用）</li><li>derivative_by_multiplication:積の微分法に基づく導関数の計算（基本公式と積の微分法の活用）</li><li>derivative_by_quotient:商の微分法に基づく導関数の計算（基本公式と商の微分法の活用）</li><li>derivative_by_composition:合成関数の微分法に基づく導関数の計算（基本公式と合成関数の微分法の活用）</li><li>derivative_by_taking_logarithm:対数微分法に基づく導関数の計算（基本公式と対数微分法の活用）</li><li>higher_derivative:高階導関数の計算</li><li>local_minimum_maximum:極大値と極小値（増減表からの決定）</li><li>inflection_points:変曲点（増減表からの決定）</li><li>power_series_expansion:級数展開（マクローリンとテイラー展開）</li></ul>"
      ],
      "text/plain": [
       "<IPython.core.display.HTML object>"
      ]
     },
     "metadata": {},
     "output_type": "display_data"
    }
   ],
   "source": [
    "bc_1.listview()"
   ]
  },
  {
   "cell_type": "code",
   "execution_count": 8,
   "metadata": {},
   "outputs": [
    {
     "data": {
      "text/html": [
       "<ul><li>antiderivative_by_linearity:線形性に基づく不定積分の計算（基本公式と線形性の活用）</li><li>definite_integral_by_linearity:線形性に基づく定積分の計算（基本公式と線形性の活用）</li><li>antiderivative_by_substitution:置換積分に基づく不定積分の計算（合成関数の微分法の逆）</li><li>definite_integral_by_substitution:置換積分に基づく定積分の計算（合成関数の微分法の逆）</li><li>antiderivative_by_parts:部分積分に基づく不定積分の計算（積の微分法の逆）</li><li>definite_integral_by_parts:部分積分に基づく定積分の計算（積の微分法の逆）</li><li>applications_of_integration:定積分の応用（体積，曲線の長さ，側面積）</li></ul>"
      ],
      "text/plain": [
       "<IPython.core.display.HTML object>"
      ]
     },
     "metadata": {},
     "output_type": "display_data"
    }
   ],
   "source": [
    "bc_2.listview()"
   ]
  },
  {
   "cell_type": "code",
   "execution_count": 9,
   "metadata": {},
   "outputs": [
    {
     "data": {
      "text/html": [
       "<ul><li>limit_of_bivariate_polynomial:2変数多項式の極限（原則代入で求まる）</li><li>limit_of_bivariate_rational_function_approaches_domain:2変数有理関数の極限（原則代入で求まる定義域への極限）</li><li>limit_of_bivariate_rational_function_approaches_domain_with_common_factor:2変数有理関数の極限（約分後，原則代入で求まる定義域への極限）</li><li>limit_of_bivariate_rational_function_approaches_boundary:2変数有理関数の極限（定義域の境界点への極限）</li><li>limit_with_sin_or_log_over_xpy:2変数有理関数の極限（分解でsinやlogの1変数に帰着）</li><li>partial_derivative:偏導関数</li><li>partial_higher_derivative:高階偏導関数</li><li>extremum_condition:極値を取るための必要十分条件</li><li>extremum_of_polynomial:極値（全次数が2次の2変数多項式の場合の極値問題）</li><li>Lagrangian_multipliers:ラグランジュの未定乗数法（解くべき方程式の確認）</li><li>derivative_of_implicit_function:陰関数の導関数（陰関数定理）</li><li>second_derivative_of_implicit_function:陰関数の2階導関数（陰関数定理）</li><li>extremum_condition_of_implicit_function:陰関数が極値を取るための条件</li></ul>"
      ],
      "text/plain": [
       "<IPython.core.display.HTML object>"
      ]
     },
     "metadata": {},
     "output_type": "display_data"
    }
   ],
   "source": [
    "bc_2p.listview()"
   ]
  },
  {
   "cell_type": "markdown",
   "metadata": {},
   "source": [
    "実際に使うには，問題生成用のインスタンスを生成し，**generate**に渡します。"
   ]
  },
  {
   "cell_type": "code",
   "execution_count": 10,
   "metadata": {},
   "outputs": [],
   "source": [
    "la_3_instances = la_3.generate()"
   ]
  },
  {
   "cell_type": "code",
   "execution_count": 11,
   "metadata": {
    "scrolled": false
   },
   "outputs": [],
   "source": [
    "all_quizzes = mxqg.generate(la_3_instances)"
   ]
  },
  {
   "cell_type": "markdown",
   "metadata": {},
   "source": [
    "生成された問題のプレビューやファイルへの出力も出来ます。"
   ]
  },
  {
   "cell_type": "code",
   "execution_count": 7,
   "metadata": {
    "scrolled": true
   },
   "outputs": [
    {
     "data": {
      "text/html": [
       "<div style=\"border: thin solid #000000; padding: 1em\"><div title=\"フィードバック:\n",
       "正答フィードバック:あなたの答えは正解です。\n",
       "部分フィードバック:あたなの答えは部分的に正解です。\n",
       "誤答フィードバック:あたなの答えは正しくありません。\">次の線形写像（\\(U=\\mathbb{R}^{3}\\)から\\(V=\\mathbb{R}^{3}\\)への写像）の\\(U\\)の基底\\( \\left\\{\\begin{pmatrix}-1\\\\-4\\\\-1\\end{pmatrix},\\;\\begin{pmatrix}-4\\\\-3\\\\4\\end{pmatrix},\\;\\begin{pmatrix}4\\\\-5\\\\0\\end{pmatrix}\\right\\} \\)の\\(V\\)の基底\\( \\left\\{\\begin{pmatrix}1\\\\0\\\\0\\end{pmatrix},\\;\\begin{pmatrix}-1\\\\1\\\\1\\end{pmatrix},\\;\\begin{pmatrix}0\\\\1\\\\2\\end{pmatrix}\\right\\} \\)に関する表現行列を求めてください。<br />\\( f:\\mathbb{R}^{3}\\rightarrow \\mathbb{R}^{3},\\;\\vec{x}\\mapsto \\begin{pmatrix}-5 & 3 & -5\\\\5 & 5 & -4\\\\4 & 3 & -4\\end{pmatrix}\\vec{x} \\)<br />なお，この\\(U\\)の標準基底の像は，\\( \\left\\{\\begin{pmatrix}-5\\\\5\\\\4\\end{pmatrix},\\;\\begin{pmatrix}3\\\\5\\\\3\\end{pmatrix},\\;\\begin{pmatrix}-5\\\\-4\\\\-4\\end{pmatrix}\\right\\} \\)となることと次の関係式を活用しても構いません。<br />\\(\\begin{pmatrix}-1 & -4 & -1\\\\-4 & -3 & 4\\\\4 & -5 & 0\\end{pmatrix}^{-1}=\\begin{pmatrix}- \\frac{5}{29} & - \\frac{5}{116} & \\frac{19}{116}\\\\- \\frac{4}{29} & - \\frac{1}{29} & - \\frac{2}{29}\\\\- \\frac{8}{29} & \\frac{21}{116} & \\frac{13}{116}\\end{pmatrix},\\;\\begin{pmatrix}-1 & -4 & 4\\\\-4 & -3 & -5\\\\-1 & 4 & 0\\end{pmatrix}^{-1}=\\begin{pmatrix}- \\frac{5}{29} & - \\frac{4}{29} & - \\frac{8}{29}\\\\- \\frac{5}{116} & - \\frac{1}{29} & \\frac{21}{116}\\\\\\frac{19}{116} & - \\frac{2}{29} & \\frac{13}{116}\\end{pmatrix},\\;\\begin{pmatrix}1 & 0 & 0\\\\-1 & 1 & 1\\\\0 & 1 & 2\\end{pmatrix}^{-1}=\\begin{pmatrix}1 & 0 & 0\\\\2 & 2 & -1\\\\-1 & -1 & 1\\end{pmatrix},\\;\\begin{pmatrix}1 & -1 & 0\\\\0 & 1 & 1\\\\0 & 1 & 2\\end{pmatrix}^{-1}=\\begin{pmatrix}1 & 2 & -1\\\\0 & 2 & -1\\\\0 & -1 & 1\\end{pmatrix}\\)<div style=\"text-align:right;font-size:smaller\">（問題整理番号:006）</div><ol style=\"list-style-type:none\"><li title=\"点数:0\n",
       "フィードバック:一般基底に関する表現行列は，標準基底での表現行列を求め，基底の変換行列を活用しましょう。基底そのものではありません。\"><input type=\"radio\" name=\"preview6\">\\(\\begin{pmatrix}-1 & -4 & -1\\\\-4 & -3 & 4\\\\4 & -5 & 0\\end{pmatrix}\\)</li><li title=\"点数:0\n",
       "フィードバック:一般基底に関する表現行列は，標準基底での表現行列を求め，基底の変換行列を活用しましょう。基底そのものではありません。\"><input type=\"radio\" name=\"preview6\">\\(\\begin{pmatrix}0 & 1 & 2\\\\-1 & 1 & 1\\\\1 & 0 & 0\\end{pmatrix}\\)</li><li title=\"点数:0\n",
       "フィードバック:一般基底に関する表現行列は，標準基底での表現行列を求め，基底の変換行列を活用しましょう。検算もしましょう。\"><input type=\"radio\" name=\"preview6\">\\(\\begin{pmatrix}-5 & 3 & -5\\\\5 & 5 & -4\\\\4 & 3 & -4\\end{pmatrix}\\)</li><li title=\"点数:0\n",
       "フィードバック:一般基底に関する表現行列は，標準基底での表現行列を求め，基底の変換行列を活用しましょう。検算もしましょう。\"><input type=\"radio\" name=\"preview6\">\\(\\begin{pmatrix}9 & 10 & 6\\\\-30 & -61 & -11\\\\-32 & -70 & -46\\end{pmatrix}\\)</li><li title=\"点数:100\"><input type=\"radio\" name=\"preview6\">\\(\\begin{pmatrix}-32 & -70 & -46\\\\-30 & -61 & -11\\\\9 & 10 & 6\\end{pmatrix}\\)</li></ol></div></div><div style=\"border: thin solid #000000; padding: 1em\"><div title=\"フィードバック:\n",
       "正答フィードバック:あなたの答えは正解です。\n",
       "部分フィードバック:あたなの答えは部分的に正解です。\n",
       "誤答フィードバック:あたなの答えは正しくありません。\">次の部分空間の基底として適切なものを選択してください。<br />\\( \\left\\{\\left.c_{1}\\begin{pmatrix}1\\\\1\\end{pmatrix}+c_{2}\\begin{pmatrix}1\\\\1\\end{pmatrix}+c_{3}\\begin{pmatrix}-3\\\\-3\\end{pmatrix}+c_{4}\\begin{pmatrix}2\\\\2\\end{pmatrix}\\;\\right|\\;c_{1},c_{2},c_{3},c_{4}\\in\\mathbb{R}\\right\\} \\)<div style=\"text-align:right;font-size:smaller\">（問題整理番号:003）</div><ol style=\"list-style-type:none\"><li title=\"点数:0\n",
       "フィードバック:基底は部分空間を張り，かつ，線形独立である必要があります。\"><input type=\"radio\" name=\"preview3\">\\( \\left\\{\\begin{pmatrix}2\\\\2\\end{pmatrix},\\;\\begin{pmatrix}1\\\\1\\end{pmatrix},\\;\\begin{pmatrix}-3\\\\-3\\end{pmatrix}\\right\\} \\)</li><li title=\"点数:0\n",
       "フィードバック:ケアレスミスの可能性があります。よく要素を確認しましょう。\"><input type=\"radio\" name=\"preview3\">\\( \\left\\{\\begin{pmatrix}0\\\\1\\end{pmatrix}\\right\\} \\)</li><li title=\"点数:100\"><input type=\"radio\" name=\"preview3\">\\( \\left\\{\\begin{pmatrix}1\\\\1\\end{pmatrix}\\right\\} \\)</li><li title=\"点数:0\n",
       "フィードバック:基底は部分空間を張り，かつ，線形独立である必要があります。\"><input type=\"radio\" name=\"preview3\">\\( \\left\\{\\begin{pmatrix}2\\\\1\\end{pmatrix},\\;\\begin{pmatrix}1\\\\1\\end{pmatrix},\\;\\begin{pmatrix}-3\\\\-3\\end{pmatrix}\\right\\} \\)</li></ol></div></div><div style=\"border: thin solid #000000; padding: 1em\"><div title=\"フィードバック:\n",
       "正答フィードバック:あなたの答えは正解です。\n",
       "部分フィードバック:あたなの答えは部分的に正解です。\n",
       "誤答フィードバック:あたなの答えは正しくありません。\">次のベクトル\\( \\vec{u_{1}},\\;\\vec{u_{2}},\\;\\vec{u_{3}} \\)により張られる部分空間の基底を，これらのベクトルの組として求めるため，行列\\( \\begin{pmatrix}\\vec{u_{1}}\\;\\vec{u_{2}}\\;\\vec{u_{3}}\\end{pmatrix} \\)と列の線形関係が同一の数値行列に対して行の基本変形を行ったところ，次の行列\\( A \\)が得られた。この結果から部分空間の1組の基底として適切なものを選択してください。<br />\\( \\vec{u_{1}} = x - 1,\\;\\vec{u_{2}} = 3 x + 3,\\;\\vec{u_{3}} = - 11 x - 7 \\)<br />\\( A = \\begin{pmatrix}1 & 0 & -2\\\\0 & 1 & -3\\end{pmatrix} \\)<div style=\"text-align:right;font-size:smaller\">（問題整理番号:010）</div><ol style=\"list-style-type:none\"><li title=\"点数:0\n",
       "フィードバック:ベクトルの種類が変化しています。部分空間を生成しているベクトルの種類を確認しましょう。\"><input type=\"radio\" name=\"preview10\">\\( \\begin{pmatrix}-1\\\\1\\end{pmatrix},\\;\\begin{pmatrix}3\\\\3\\end{pmatrix},\\;\\begin{pmatrix}-7\\\\-11\\end{pmatrix} \\)</li><li title=\"点数:0\n",
       "フィードバック:基底は掃き出した行列の主成分に対応する元のベクトルになります。\"><input type=\"radio\" name=\"preview10\">\\( x - 1,\\;3 x + 3,\\;- 11 x - 7 \\)</li><li title=\"点数:0\n",
       "フィードバック:基底は掃き出した行列の主成分に対応する元のベクトルになります。\"><input type=\"radio\" name=\"preview10\">\\( 1 - 2 x^{2},\\;- 3 x^{2} + x \\)</li><li title=\"点数:0\n",
       "フィードバック:基底は掃き出した行列の主成分に対応する元のベクトルになります。\"><input type=\"radio\" name=\"preview10\">\\( 1,\\;x \\)</li><li title=\"点数:100\"><input type=\"radio\" name=\"preview10\">\\( x - 1,\\;3 x + 3 \\)</li></ol></div></div><div style=\"border: thin solid #000000; padding: 1em\"><div title=\"フィードバック:\n",
       "正答フィードバック:あなたの答えは正解です。\n",
       "部分フィードバック:あたなの答えは部分的に正解です。\n",
       "誤答フィードバック:あたなの答えは正しくありません。\">ベクトル\\( \\vec{u}_{1},\\;\\vec{u}_{2} \\)が線形独立であるとき，次のベクトル\\( \\vec{v}_{1},\\;\\vec{v}_{2},\\;\\vec{v}_{3} \\)が線形独立であるか定義に基づき確認する場合に構成すべき同次線形方程式を選択してください。<br />\\( \\vec{v}_{1}=9\\vec{u}_{1}+\\vec{u}_{2},\\;\\vec{v}_{2}=-6\\vec{u}_{1}-2\\vec{u}_{2},\\;\\vec{v}_{3}=9\\vec{u}_{1}-2\\vec{u}_{2} \\)<div style=\"text-align:right;font-size:smaller\">（問題整理番号:003）</div><ol style=\"list-style-type:none\"><li title=\"点数:100\"><input type=\"radio\" name=\"preview3\">\\( \\begin{pmatrix}9 & -6 & 9\\\\-2 & -2 & 1\\end{pmatrix}\\begin{pmatrix}c_{1}\\\\ c_{2}\\\\ c_{3}\\end{pmatrix}=\\vec{0} \\)</li><li title=\"点数:0\n",
       "フィードバック:よく確認しましょう。線形独立性を確認する場合，ベクトルの順序は関係ありません。\"><input type=\"radio\" name=\"preview3\">\\( \\begin{pmatrix}9 & -6 & 9\\\\1 & -2 & -3\\end{pmatrix}\\begin{pmatrix}c_{1}\\\\ c_{2}\\\\ c_{3}\\end{pmatrix}=\\vec{0} \\)</li><li title=\"点数:0\n",
       "フィードバック:よく確認しましょう。線形独立性を確認する場合，ベクトルの順序は関係ありません。\"><input type=\"radio\" name=\"preview3\">\\( \\begin{pmatrix}9 & -6 & 8\\\\1 & -2 & -2\\end{pmatrix}\\begin{pmatrix}c_{1}\\\\ c_{2}\\\\ c_{3}\\end{pmatrix}=\\vec{0} \\)</li><li title=\"点数:0\n",
       "フィードバック:each vector is multiplied by the uknowns (variables). collecting the coefficients gets the equation.\"><input type=\"radio\" name=\"preview3\">\\( \\begin{pmatrix}9 & 1\\\\-6 & -2\\\\9 & -2\\end{pmatrix}\\begin{pmatrix}c_{1}\\\\ c_{2}\\end{pmatrix}=\\vec{0} \\)</li><li title=\"点数:0\n",
       "フィードバック:未知数は，それぞれのベクトルに掛け合わされることに注意して読み解きましょう。\"><input type=\"radio\" name=\"preview3\">\\( \\begin{pmatrix}9 & 1\\\\-5 & -2\\\\9 & -2\\end{pmatrix}\\begin{pmatrix}c_{1}\\\\ c_{2}\\end{pmatrix}=\\vec{0} \\)</li></ol></div></div><div style=\"border: thin solid #000000; padding: 1em\"><div title=\"フィードバック:\n",
       "正答フィードバック:あなたの答えは正解です。\n",
       "部分フィードバック:あたなの答えは部分的に正解です。\n",
       "誤答フィードバック:あたなの答えは正しくありません。\">次の部分空間の基底として適切なものを選択してください。<br />\\( \\left\\{\\vec{x}\\in\\mathbb{R}^{3}\\;\\left|\\;\\begin{pmatrix}1 & 3 & -2\\\\-1 & -3 & 2\\\\-3 & -9 & 6\\end{pmatrix}\\vec{x} = \\vec{0}\\right.\\right\\} \\)<div style=\"text-align:right;font-size:smaller\">（問題整理番号:007）</div><ol style=\"list-style-type:none\"><li title=\"点数:0\n",
       "フィードバック:基底は部分空間を張り，かつ，線形独立である必要があります。\"><input type=\"radio\" name=\"preview7\">\\( \\left\\{\\begin{pmatrix}-10\\\\4\\\\1\\end{pmatrix},\\;\\begin{pmatrix}14\\\\-2\\\\4\\end{pmatrix},\\;\\begin{pmatrix}-11\\\\2\\\\-3\\end{pmatrix},\\;\\begin{pmatrix}2\\\\-2\\\\-2\\end{pmatrix}\\right\\} \\)</li><li title=\"点数:0\n",
       "フィードバック:ケアレスミスの可能性があります。よく要素を確認しましょう。\"><input type=\"radio\" name=\"preview7\">\\( \\left\\{\\begin{pmatrix}-3\\\\1\\\\-2\\end{pmatrix},\\;\\begin{pmatrix}2\\\\0\\\\1\\end{pmatrix}\\right\\} \\)</li><li title=\"点数:100\"><input type=\"radio\" name=\"preview7\">\\( \\left\\{\\begin{pmatrix}-3\\\\1\\\\0\\end{pmatrix},\\;\\begin{pmatrix}2\\\\0\\\\1\\end{pmatrix}\\right\\} \\)</li><li title=\"点数:0\n",
       "フィードバック:基底は部分空間を張り，かつ，線形独立である必要があります。\"><input type=\"radio\" name=\"preview7\">\\( \\left\\{\\begin{pmatrix}-10\\\\4\\\\1\\end{pmatrix},\\;\\begin{pmatrix}14\\\\-2\\\\4\\end{pmatrix},\\;\\begin{pmatrix}-12\\\\2\\\\-3\\end{pmatrix},\\;\\begin{pmatrix}2\\\\-2\\\\-2\\end{pmatrix}\\right\\} \\)</li></ol></div></div>"
      ],
      "text/plain": [
       "<IPython.core.display.HTML object>"
      ]
     },
     "metadata": {},
     "output_type": "display_data"
    }
   ],
   "source": [
    "all_quizzes.preview(size=5)"
   ]
  },
  {
   "cell_type": "markdown",
   "metadata": {},
   "source": [
    "行列の記法は次のように変更します。なお，標準状態で，KaTeXでは「``bm``」が使えるようですが，MathJaxでは使えないようなので注意してください。"
   ]
  },
  {
   "cell_type": "code",
   "execution_count": 8,
   "metadata": {
    "scrolled": true
   },
   "outputs": [
    {
     "data": {
      "text/html": [
       "<div style=\"border: thin solid #000000; padding: 1em\"><div title=\"フィードバック:\n",
       "正答フィードバック:あなたの答えは正解です。\n",
       "部分フィードバック:あたなの答えは部分的に正解です。\n",
       "誤答フィードバック:あたなの答えは正しくありません。\">次の部分空間と同じ部分空間を選択してください。<br />\\( \\left\\{\\left.c_{1}\\begin{bmatrix}-6\\\\6\\\\9\\end{bmatrix}+c_{2}\\begin{bmatrix}6\\\\-6\\\\-9\\end{bmatrix}+c_{3}\\begin{bmatrix}-4\\\\4\\\\3\\end{bmatrix}\\;\\right|\\;c_{1},c_{2},c_{3}\\in\\mathbb{R}\\right\\} \\)<div style=\"text-align:right;font-size:smaller\">（問題整理番号:005）</div><ol style=\"list-style-type:none\"><li title=\"点数:0\n",
       "フィードバック:ベクトルの要素が含まれる集合を確認しましょう。\"><input type=\"radio\" name=\"preview5\">\\( \\left\\{\\left.c_{1}(4 - 2 x)+c_{2}(x - 2)+c_{3}(2 - x)\\;\\right|\\;c_{1},c_{2},c_{3}\\in\\mathbb{R}\\right\\} \\)</li><li title=\"点数:0\n",
       "フィードバック:ベクトルの要素が含まれる集合を確認しましょう。\"><input type=\"radio\" name=\"preview5\">\\( \\left\\{\\left.c_{1}(9 x^{2} + 6 x - 6)+c_{2}(- 9 x^{2} - 6 x + 6)+c_{3}(3 x^{2} + 4 x - 4)\\;\\right|\\;c_{1},c_{2},c_{3}\\in\\mathbb{R}\\right\\} \\)</li><li title=\"点数:0\n",
       "フィードバック:ベクトルの要素が含まれる集合を確認しましょう。\"><input type=\"radio\" name=\"preview5\">\\( \\left\\{\\left.c_{1}(- 6 x^{2} - 2 x - 6)+c_{2}(- 6 x^{2} + 3 x + 9)+c_{3}(4 x^{2} + 3 x + 9)+c_{4}(- 6 x^{2} - x - 3)\\;\\right|\\;c_{1},c_{2},c_{3},c_{4}\\in\\mathbb{R}\\right\\} \\)</li><li title=\"点数:0\n",
       "フィードバック:ベクトルの次元を確認しましょう。\"><input type=\"radio\" name=\"preview5\">\\( \\left\\{\\left.c_{1}\\begin{bmatrix}-1\\\\2\\end{bmatrix}+c_{2}\\begin{bmatrix}2\\\\-4\\end{bmatrix}+c_{3}\\begin{bmatrix}3\\\\-6\\end{bmatrix}\\;\\right|\\;c_{1},c_{2},c_{3}\\in\\mathbb{R}\\right\\} \\)</li><li title=\"点数:100\"><input type=\"radio\" name=\"preview5\">\\( \\left\\{\\left.c_{1}\\begin{bmatrix}2\\\\-2\\\\-6\\end{bmatrix}+c_{2}\\begin{bmatrix}4\\\\-4\\\\9\\end{bmatrix}+c_{3}\\begin{bmatrix}2\\\\-2\\\\3\\end{bmatrix}\\;\\right|\\;c_{1},c_{2},c_{3}\\in\\mathbb{R}\\right\\} \\)</li></ol></div></div><div style=\"border: thin solid #000000; padding: 1em\"><div title=\"フィードバック:\n",
       "正答フィードバック:あなたの答えは正解です。\n",
       "部分フィードバック:あたなの答えは部分的に正解です。\n",
       "誤答フィードバック:あたなの答えは正しくありません。\">次のベクトルにより張られる部分空間の基底を，これらのベクトルの組として求めるとします。この計算を，行の基本変形により求める場合，どのような行列に掃き出しを行えばよいでしょうか。もっとも適切と思われる行列を選択してください。<br />\\( 1 - 6 x,\\;4 x + 3,\\;- 2 x - 3,\\;2 x - 1 \\)<div style=\"text-align:right;font-size:smaller\">（問題整理番号:009）</div><ol style=\"list-style-type:none\"><li title=\"点数:0\n",
       "フィードバック:今回の基底の計算に必要な行列は，列が1つのベクトルに対応する必要があります。\"><input type=\"radio\" name=\"preview9\">\\( \\begin{bmatrix}1 & -6\\\\3 & 4\\\\-3 & -2\\\\-1 & 2\\end{bmatrix} \\)</li><li title=\"点数:0\n",
       "フィードバック:今回の基底の計算に必要な行列は，列が1つのベクトルに対応する必要があります。\"><input type=\"radio\" name=\"preview9\">\\( \\begin{bmatrix}1 & -6\\\\3 & 4\\\\-2 & -2\\\\-1 & 2\\end{bmatrix} \\)</li><li title=\"点数:0\n",
       "フィードバック:今回の基底の計算に必要な行列は，列が1つのベクトルに対応する必要があります。\"><input type=\"radio\" name=\"preview9\">\\( \\begin{bmatrix}1 & -6\\\\3 & 4\\\\-3 & 0\\\\-1 & 2\\end{bmatrix} \\)</li><li title=\"点数:100\"><input type=\"radio\" name=\"preview9\">\\( \\begin{bmatrix}1 & 3 & -3 & -1\\\\-6 & 4 & -2 & 2\\end{bmatrix} \\)</li><li title=\"点数:0\n",
       "フィードバック:各要素をきちんと確認しましょう。\"><input type=\"radio\" name=\"preview9\">\\( \\begin{bmatrix}1 & 3 & -3 & -1\\\\-6 & 4 & 0 & 2\\end{bmatrix} \\)</li></ol></div></div><div style=\"border: thin solid #000000; padding: 1em\"><div title=\"フィードバック:\n",
       "正答フィードバック:あなたの答えは正解です。\n",
       "部分フィードバック:あたなの答えは部分的に正解です。\n",
       "誤答フィードバック:あたなの答えは正しくありません。\">次の線形写像（\\(U=\\mathbb{R}^{4}\\)から\\(V=\\mathbb{R}^{4}\\)への写像）の\\(U\\)の基底\\( \\left\\{\\begin{bmatrix}1\\\\0\\\\0\\\\0\\end{bmatrix},\\;\\begin{bmatrix}0\\\\1\\\\0\\\\0\\end{bmatrix},\\;\\begin{bmatrix}0\\\\0\\\\1\\\\0\\end{bmatrix},\\;\\begin{bmatrix}0\\\\0\\\\0\\\\1\\end{bmatrix}\\right\\} \\)の\\(V\\)の基底\\( \\left\\{\\begin{bmatrix}1\\\\0\\\\0\\\\0\\end{bmatrix},\\;\\begin{bmatrix}0\\\\1\\\\0\\\\0\\end{bmatrix},\\;\\begin{bmatrix}0\\\\0\\\\1\\\\0\\end{bmatrix},\\;\\begin{bmatrix}0\\\\0\\\\0\\\\1\\end{bmatrix}\\right\\} \\)に関する表現行列を求めてください。なお，この\\(U\\)の基底の像は，\\( \\left\\{\\begin{bmatrix}2\\\\-1\\\\-4\\\\-5\\end{bmatrix},\\;\\begin{bmatrix}5\\\\4\\\\3\\\\-3\\end{bmatrix},\\;\\begin{bmatrix}-23\\\\-21\\\\-19\\\\10\\end{bmatrix},\\;\\begin{bmatrix}-3\\\\-5\\\\4\\\\2\\end{bmatrix}\\right\\} \\)となることを活用しても構いません。<br />\\( f:\\mathbb{R}^{4}\\rightarrow \\mathbb{R}^{4},\\;\\boldsymbol{x}\\mapsto \\begin{bmatrix}2 & 5 & -23 & -3\\\\-1 & 4 & -21 & -5\\\\-4 & 3 & -19 & 4\\\\-5 & -3 & 10 & 2\\end{bmatrix}\\boldsymbol{x} \\)<div style=\"text-align:right;font-size:smaller\">（問題整理番号:009）</div><ol style=\"list-style-type:none\"><li title=\"点数:0\n",
       "フィードバック:標準基底に関する表現行列は，標準基底の像を標準基底の線形結合で表したものです。基底そのものではありません。\"><input type=\"radio\" name=\"preview9\">\\(\\begin{bmatrix}0 & 0 & 0 & 1\\\\0 & 0 & 1 & 0\\\\0 & 1 & 0 & 0\\\\1 & 0 & 0 & 0\\end{bmatrix}\\)</li><li title=\"点数:100\"><input type=\"radio\" name=\"preview9\">\\(\\begin{bmatrix}2 & 5 & -23 & -3\\\\-1 & 4 & -21 & -5\\\\-4 & 3 & -19 & 4\\\\-5 & -3 & 10 & 2\\end{bmatrix}\\)</li><li title=\"点数:0\n",
       "フィードバック:標準基底に関する表現行列は，標準基底の像を標準基底の線形結合で表したものです。基底の像が一致するか検算しましょう。\"><input type=\"radio\" name=\"preview9\">\\(\\begin{bmatrix}2 & -1 & -4 & -5\\\\5 & 4 & 3 & -3\\\\-23 & -21 & -19 & 10\\\\-3 & -5 & 4 & 2\\end{bmatrix}\\)</li><li title=\"点数:0\n",
       "フィードバック:標準基底に関する表現行列は，標準基底の像を標準基底の線形結合で表したものです。基底の像が一致するか検算しましょう。\"><input type=\"radio\" name=\"preview9\">\\(\\begin{bmatrix}-5 & -3 & 10 & 2\\\\-4 & 3 & -19 & 4\\\\-1 & 4 & -21 & -5\\\\2 & 5 & -23 & -3\\end{bmatrix}\\)</li><li title=\"点数:0\n",
       "フィードバック:標準基底に関する表現行列は，標準基底の像を標準基底の線形結合で表したものです。基底そのものではありません。\"><input type=\"radio\" name=\"preview9\">\\(\\begin{bmatrix}1 & 0 & 0 & 0\\\\0 & 1 & 0 & 0\\\\0 & 0 & 1 & 0\\\\0 & 0 & 0 & 1\\end{bmatrix}\\)</li></ol></div></div><div style=\"border: thin solid #000000; padding: 1em\"><div title=\"フィードバック:\n",
       "正答フィードバック:あなたの答えは正解です。\n",
       "部分フィードバック:あたなの答えは部分的に正解です。\n",
       "誤答フィードバック:あたなの答えは正しくありません。\">次の線形写像（\\(U=\\mathbb{R}^{4}\\)から\\(V=\\mathbb{R}^{2}\\)への写像）の\\(U\\)の基底\\( \\left\\{\\begin{bmatrix}-4\\\\-1\\\\-3\\\\5\\end{bmatrix},\\;\\begin{bmatrix}1\\\\4\\\\-4\\\\4\\end{bmatrix},\\;\\begin{bmatrix}2\\\\5\\\\-2\\\\4\\end{bmatrix},\\;\\begin{bmatrix}-5\\\\-5\\\\5\\\\-5\\end{bmatrix}\\right\\} \\)の\\(V\\)の基底\\( \\left\\{\\begin{bmatrix}1\\\\0\\end{bmatrix},\\;\\begin{bmatrix}-1\\\\1\\end{bmatrix}\\right\\} \\)に関する表現行列を求めてください。<br />\\( f:\\mathbb{R}^{4}\\rightarrow \\mathbb{R}^{2},\\;\\boldsymbol{x}\\mapsto \\begin{bmatrix}4 & -16 & 3 & 0\\\\4 & -16 & -4 & -28\\end{bmatrix}\\boldsymbol{x} \\)<br />なお，この\\(U\\)の標準基底の像は，\\( \\left\\{\\begin{bmatrix}4\\\\4\\end{bmatrix},\\;\\begin{bmatrix}-16\\\\-16\\end{bmatrix},\\;\\begin{bmatrix}3\\\\-4\\end{bmatrix},\\;\\begin{bmatrix}0\\\\-28\\end{bmatrix}\\right\\} \\)となることと次の関係式を活用しても構いません。<br />\\(\\begin{bmatrix}-4 & -1 & -3 & 5\\\\1 & 4 & -4 & 4\\\\2 & 5 & -2 & 4\\\\-5 & -5 & 5 & -5\\end{bmatrix}^{-1}=\\begin{bmatrix}0 & - \\frac{1}{3} & 0 & - \\frac{4}{15}\\\\- \\frac{1}{7} & \\frac{1}{3} & \\frac{1}{7} & \\frac{5}{21}\\\\\\frac{1}{14} & - \\frac{1}{2} & \\frac{3}{7} & \\frac{1}{70}\\\\\\frac{3}{14} & - \\frac{1}{2} & \\frac{2}{7} & - \\frac{11}{70}\\end{bmatrix},\\;\\begin{bmatrix}-4 & 1 & 2 & -5\\\\-1 & 4 & 5 & -5\\\\-3 & -4 & -2 & 5\\\\5 & 4 & 4 & -5\\end{bmatrix}^{-1}=\\begin{bmatrix}0 & - \\frac{1}{7} & \\frac{1}{14} & \\frac{3}{14}\\\\- \\frac{1}{3} & \\frac{1}{3} & - \\frac{1}{2} & - \\frac{1}{2}\\\\0 & \\frac{1}{7} & \\frac{3}{7} & \\frac{2}{7}\\\\- \\frac{4}{15} & \\frac{5}{21} & \\frac{1}{70} & - \\frac{11}{70}\\end{bmatrix},\\;\\begin{bmatrix}1 & 0\\\\-1 & 1\\end{bmatrix}^{-1}=\\begin{bmatrix}1 & 0\\\\1 & 1\\end{bmatrix},\\;\\begin{bmatrix}1 & -1\\\\0 & 1\\end{bmatrix}^{-1}=\\begin{bmatrix}1 & 1\\\\0 & 1\\end{bmatrix}\\)<div style=\"text-align:right;font-size:smaller\">（問題整理番号:003）</div><ol style=\"list-style-type:none\"><li title=\"点数:100\"><input type=\"radio\" name=\"preview3\">\\(\\begin{bmatrix}-137 & -228 & -254 & 255\\\\-128 & -156 & -176 & 180\\end{bmatrix}\\)</li><li title=\"点数:0\n",
       "フィードバック:一般基底に関する表現行列は，標準基底での表現行列を求め，基底の変換行列を活用しましょう。検算もしましょう。\"><input type=\"radio\" name=\"preview3\">\\(\\begin{bmatrix}4 & -16 & -4 & -28\\\\4 & -16 & 3 & 0\\end{bmatrix}\\)</li><li title=\"点数:0\n",
       "フィードバック:一般基底に関する表現行列は，標準基底での表現行列を求め，基底の変換行列を活用しましょう。検算もしましょう。\"><input type=\"radio\" name=\"preview3\">\\(\\begin{bmatrix}255 & 180\\\\-254 & -176\\\\-228 & -156\\\\-137 & -128\\end{bmatrix}\\)</li><li title=\"点数:0\n",
       "フィードバック:一般基底に関する表現行列は，標準基底での表現行列を求め，基底の変換行列を活用しましょう。基底そのものではありません。\"><input type=\"radio\" name=\"preview3\">\\(\\begin{bmatrix}-1 & 1\\\\1 & 0\\end{bmatrix}\\)</li><li title=\"点数:0\n",
       "フィードバック:一般基底に関する表現行列は，標準基底での表現行列を求め，基底の変換行列を活用しましょう。検算もしましょう。\"><input type=\"radio\" name=\"preview3\">\\(\\begin{bmatrix}-128 & -156 & -176 & 180\\\\-137 & -228 & -254 & 255\\end{bmatrix}\\)</li></ol></div></div><div style=\"border: thin solid #000000; padding: 1em\"><div title=\"フィードバック:\n",
       "正答フィードバック:あなたの答えは正解です。\n",
       "部分フィードバック:あたなの答えは部分的に正解です。\n",
       "誤答フィードバック:あたなの答えは正しくありません。\">次の集合と一致するものを選んでください。なお，\\( A \\setminus B \\) は，AからBに含まれる要素を取り除く操作を表します。<br />\\( \\left\\{0, 2, 3, 8, 9\\right\\}\\setminus\\left\\{8\\right\\} \\)<div style=\"text-align:right;font-size:smaller\">（問題整理番号:009）</div><ol style=\"list-style-type:none\"><li title=\"点数:0\n",
       "フィードバック:丁寧に集合の計算をし直してみましょう。\"><input type=\"radio\" name=\"preview9\">\\( \\left\\{0, 3, 5, 7, 8\\right\\} \\)</li><li title=\"点数:0\n",
       "フィードバック:丁寧に集合の計算をし直してみましょう。\"><input type=\"radio\" name=\"preview9\">\\( \\left\\{0, 1, 2, 7, 9\\right\\} \\)</li><li title=\"点数:0\n",
       "フィードバック:和集合と差集合を取り違えています。\"><input type=\"radio\" name=\"preview9\">\\( \\left\\{0, 2, 3, 8, 9\\right\\} \\)</li><li title=\"点数:100\"><input type=\"radio\" name=\"preview9\">\\( \\left\\{0, 2, 3, 9\\right\\} \\)</li><li title=\"点数:0\n",
       "フィードバック:共通部分と差集合を取り違えています。\"><input type=\"radio\" name=\"preview9\">\\( \\left\\{8\\right\\} \\)</li></ol></div></div>"
      ],
      "text/plain": [
       "<IPython.core.display.HTML object>"
      ]
     },
     "metadata": {},
     "output_type": "display_data"
    }
   ],
   "source": [
    "all_quizzes.preview(size=5, translate={'\\\\vec{':'\\\\boldsymbol{', '{pmatrix}':'{bmatrix}'})"
   ]
  },
  {
   "cell_type": "code",
   "execution_count": 7,
   "metadata": {},
   "outputs": [],
   "source": [
    "all_quizzes.save('all.xml')"
   ]
  },
  {
   "cell_type": "markdown",
   "metadata": {},
   "source": [
    "特定の問題を生成する場合には，リストのクラス名で判断するか，リストの部分取り出しで対応します。"
   ]
  },
  {
   "cell_type": "code",
   "execution_count": 12,
   "metadata": {},
   "outputs": [
    {
     "data": {
      "text/html": [
       "<ul><li>general_set_operations:集合の基本的な操作</li><li>general_set_notations:集合の定義の理解</li><li>same_subspace_recognition:同一の部分空間の認識</li><li>a_subspace_recognition:部分空間の選択</li><li>representable_vector_by_linear_combination:線形結合で表現可能なベクトル</li><li>nontrivial_linear_relation_vector:非自明な線形関係を持つベクトルの組を選ぶ</li><li>linearly_independent_check_equation:線形独立性の確認に必要な同次線形方程式</li><li>linearly_independent_check_equation_with_basis:線形独立性の確認に必要な同次線形方程式（他のベクトルの線形結合で与えられた場合）</li><li>rref_and_linearly_dependent_relation:掃き出し法の結果と線形従属なベクトルとの関係</li><li>maximum_linearly_independent_set:線形独立な最大個数とそのベクトルの組</li><li>maximum_linearly_independent_set_general_case:線形独立な最大個数とそのベクトルの組（一般）</li><li>matrix_const_for_basis_comp:基底計算に適する掃き出し対象の行列の構成</li><li>basis_from_reduced_row_echelon_form:掃き出し結果の行列から基底の組を構成する</li><li>basis_comp_for_subspace:様々な部分空間の基底の計算</li><li>dim_of_subspace_intersection:部分空間同士の共通部分の次元の計算</li><li>select_linear_maps:線型写像をすべて選択</li><li>kernel_of_linear_map:数ベクトル空間の線形写像の核の次元と基底</li><li>image_of_linear_map:数ベクトル空間の線形写像の像の次元と基底</li><li>matrix_representation_standard_standard_basis:線形写像の標準基底の標準基底に関する表現行列</li><li>matrix_representation_general_standard_basis:線形写像の一般基底の標準基底に関する表現行列</li><li>change_of_basis_matrix:線形空間の基底の変換行列</li><li>matrix_representation_general_general_numeric_basis:線形写像の一般基底の一般基底に関する表現行列（数ベクトル空間）</li><li>matrix_representation_general_general_basis:線形写像の一般基底の一般基底に関する表現行列</li><li>matrix_representation_general_numeric_basis:線形変換の一般基底に関する表現行列（数ベクトル空間）</li><li>matrix_representation_general_basis:線形変換の一般基底に関する表現行列</li></ul>"
      ],
      "text/plain": [
       "<IPython.core.display.HTML object>"
      ]
     },
     "metadata": {},
     "output_type": "display_data"
    }
   ],
   "source": [
    "la_3.listview()"
   ]
  },
  {
   "cell_type": "code",
   "execution_count": 9,
   "metadata": {},
   "outputs": [
    {
     "data": {
      "text/html": [
       "<div style=\"border: thin solid #000000; padding: 1em\"><div title=\"フィードバック:\n",
       "正答フィードバック:あなたの答えは正解です。\n",
       "部分フィードバック:あたなの答えは部分的に正解です。\n",
       "誤答フィードバック:あたなの答えは正しくありません。\">次の集合と一致するものを選んでください。なお，\\( A \\setminus B \\) は，AからBに含まれる要素を取り除く操作を表します。<br />\\( \\left(\\left\\{1, 2, 3, 6\\right\\}\\bigcup\\left\\{4, 7, 9\\right\\}\\right)\\setminus\\left(\\left\\{0, 1, 4\\right\\}\\setminus\\left\\{2, 4\\right\\}\\right) \\)<div style=\"text-align:right;font-size:smaller\">（問題整理番号:009）</div><ol style=\"list-style-type:none\"><li title=\"点数:100\"><input type=\"radio\" name=\"preview9\">\\( \\left\\{2, 3, 4, 6, 7, 9\\right\\} \\)</li><li title=\"点数:0\n",
       "フィードバック:共通部分と差集合を取り違えています。\"><input type=\"radio\" name=\"preview9\">\\( \\left\\{4\\right\\} \\)</li><li title=\"点数:0\n",
       "フィードバック:和集合と共通部分を取り違えています。\"><input type=\"radio\" name=\"preview9\">\\( \\left\\{\\right\\} \\)</li><li title=\"点数:0\n",
       "フィードバック:丁寧に集合の計算をし直してみましょう。\"><input type=\"radio\" name=\"preview9\">\\( \\left\\{0, 1, 4, 5, 7, 8, 9\\right\\} \\)</li><li title=\"点数:0\n",
       "フィードバック:和集合と差集合を取り違えています。\"><input type=\"radio\" name=\"preview9\">\\( \\left\\{0, 1, 2, 3, 4, 6\\right\\} \\)</li></ol></div></div>"
      ],
      "text/plain": [
       "<IPython.core.display.HTML object>"
      ]
     },
     "metadata": {},
     "output_type": "display_data"
    }
   ],
   "source": [
    "gso = la_3.general_set_operations()\n",
    "gso_quizzes = mxqg.generate(gso)\n",
    "gso_quizzes.preview()"
   ]
  },
  {
   "cell_type": "code",
   "execution_count": 10,
   "metadata": {},
   "outputs": [
    {
     "data": {
      "text/html": [
       "<div style=\"border: thin solid #000000; padding: 1em\"><div title=\"フィードバック:\n",
       "正答フィードバック:あなたの答えは正解です。\n",
       "部分フィードバック:あたなの答えは部分的に正解です。\n",
       "誤答フィードバック:あたなの答えは正しくありません。\">次の集合に含まれるベクトルを選んでください。<br />\\( \\left\\{\\vec{x}\\in\\mathbb{Z}^{2}\\;\\left|\\;\\begin{pmatrix}-3 & -5\\\\-12 & -20\\end{pmatrix}\\vec{x} = \\begin{pmatrix}8\\\\32\\end{pmatrix}\\right.\\right\\} \\)<div style=\"text-align:right;font-size:smaller\">（問題整理番号:008）</div><ol style=\"list-style-type:none\"><li title=\"点数:100\"><input type=\"radio\" name=\"preview8\">\\( \\begin{pmatrix}24\\\\-16\\end{pmatrix} \\)</li><li title=\"点数:0\n",
       "フィードバック:ベクトルの向きを確認しましょう。\"><input type=\"radio\" name=\"preview8\">\\( \\begin{pmatrix}1 & -5 & 4\\end{pmatrix} \\)</li><li title=\"点数:0\n",
       "フィードバック:ベクトルの向きを確認しましょう。\"><input type=\"radio\" name=\"preview8\">\\( \\begin{pmatrix}2\\end{pmatrix} \\)</li><li title=\"点数:0\n",
       "フィードバック:ベクトルの向きを確認しましょう。\"><input type=\"radio\" name=\"preview8\">\\( \\begin{pmatrix}84 & -52\\end{pmatrix} \\)</li><li title=\"点数:0\n",
       "フィードバック:ベクトルの次元を確認しましょう。\"><input type=\"radio\" name=\"preview8\">\\( \\begin{pmatrix}4\\end{pmatrix} \\)</li></ol></div></div>"
      ],
      "text/plain": [
       "<IPython.core.display.HTML object>"
      ]
     },
     "metadata": {},
     "output_type": "display_data"
    }
   ],
   "source": [
    "gsn_quizzes = mxqg.generate(la_3_instances[1])\n",
    "gsn_quizzes.preview()"
   ]
  },
  {
   "cell_type": "code",
   "execution_count": null,
   "metadata": {},
   "outputs": [],
   "source": []
  }
 ],
 "metadata": {
  "kernelspec": {
   "display_name": "Python 3",
   "language": "python",
   "name": "python3"
  },
  "language_info": {
   "codemirror_mode": {
    "name": "ipython",
    "version": 3
   },
   "file_extension": ".py",
   "mimetype": "text/x-python",
   "name": "python",
   "nbconvert_exporter": "python",
   "pygments_lexer": "ipython3",
   "version": "3.7.7"
  },
  "toc": {
   "base_numbering": 1,
   "nav_menu": {},
   "number_sections": true,
   "sideBar": true,
   "skip_h1_title": false,
   "title_cell": "Table of Contents",
   "title_sidebar": "Contents",
   "toc_cell": false,
   "toc_position": {},
   "toc_section_display": true,
   "toc_window_display": false
  }
 },
 "nbformat": 4,
 "nbformat_minor": 2
}
