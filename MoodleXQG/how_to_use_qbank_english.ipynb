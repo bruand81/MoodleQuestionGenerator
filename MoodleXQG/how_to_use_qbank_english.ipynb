{
 "cells": [
  {
   "cell_type": "markdown",
   "metadata": {},
   "source": [
    "Moodle XML Question Generator, (C) 2019-2020 Kosaku Nagasaka (Kobe University)"
   ]
  },
  {
   "cell_type": "markdown",
   "metadata": {},
   "source": [
    "# how to use moodle_xqg"
   ]
  },
  {
   "cell_type": "markdown",
   "metadata": {},
   "source": [
    "The basic usage of moodle_xqg (Moodle XML Question Generator for Python) is as follows."
   ]
  },
  {
   "cell_type": "markdown",
   "metadata": {},
   "source": [
    "## loading the package"
   ]
  },
  {
   "cell_type": "markdown",
   "metadata": {},
   "source": [
    "**moodle_xqg.core** is required mandatory. **moodle_xqgb.qbank.common** is not required but recommended since this includes some useful functions (e.g. deleting duplicate answers). Moreover, **moodle_xqgb.qbank.linear_algebra** and  **moodle_xqg.qbank.linear_algebra_next_generation** are for some internal useful functions for linear algebra."
   ]
  },
  {
   "cell_type": "code",
   "execution_count": 1,
   "metadata": {},
   "outputs": [],
   "source": [
    "import moodle_xqg.core as mxqg\n",
    "import moodle_xqg.qbank.common as mxqg_common\n",
    "import moodle_xqg.qbank.linear_algebra as la\n",
    "import moodle_xqg.qbank.linear_algebra_next_generation as la_ng"
   ]
  },
  {
   "cell_type": "markdown",
   "metadata": {},
   "source": [
    "Actual question generators are implemented in **moodle_xqgb.qbank.linear_algebra_english**."
   ]
  },
  {
   "cell_type": "code",
   "execution_count": 2,
   "metadata": {},
   "outputs": [],
   "source": [
    "import moodle_xqg.qbank.linear_algebra_in_english as la"
   ]
  },
  {
   "cell_type": "markdown",
   "metadata": {},
   "source": [
    "All the defined generators are as follows."
   ]
  },
  {
   "cell_type": "code",
   "execution_count": 3,
   "metadata": {},
   "outputs": [
    {
     "data": {
      "text/html": [
       "<ul><li>elementary_row_operation_for_result:elementary row operation to get the desired matrix</li><li>inverse_matrix_with_rref:inverse computation with rref of concatenation with identity matrix</li><li>minor_expansion:determinant expansion by minors</li><li>adjugate_matrix_with_minors:adjugate matrix (with the minors computed)</li><li>linearly_independent_check_equation_with_basis:linear equation for linearly independent check (with basis)</li><li>rref_and_linearly_dependent_relation:linearly dependent relation of columns is elementary row operations invariant</li><li>select_eigenvector:eigen vector of linear transformation</li><li>expanding_inner_expression_with_numerical_values:expansion of inner/norm expression by linearity</li></ul>"
      ],
      "text/plain": [
       "<IPython.core.display.HTML object>"
      ]
     },
     "metadata": {},
     "output_type": "display_data"
    }
   ],
   "source": [
    "la.listview()"
   ]
  },
  {
   "cell_type": "markdown",
   "metadata": {},
   "source": [
    "To generate questions, we need to generate their instances and put them to the core method **generate**."
   ]
  },
  {
   "cell_type": "code",
   "execution_count": 4,
   "metadata": {},
   "outputs": [],
   "source": [
    "la_instances = la.generate()"
   ]
  },
  {
   "cell_type": "code",
   "execution_count": 5,
   "metadata": {
    "scrolled": false
   },
   "outputs": [],
   "source": [
    "all_quizzes = mxqg.generate(la_instances)"
   ]
  },
  {
   "cell_type": "markdown",
   "metadata": {},
   "source": [
    "The following show a preview with 5 questions generated."
   ]
  },
  {
   "cell_type": "code",
   "execution_count": 6,
   "metadata": {
    "scrolled": true
   },
   "outputs": [
    {
     "data": {
      "text/html": [
       "<div style=\"border: thin solid #000000; padding: 1em\"><div title=\"General Feedback:\n",
       "Correct Feedback:Your answer is correct.\n",
       "Partially Correct Feedback:Your answer is incorrect.\n",
       "Incorrect Feedback:Your answer is partially correct.\">Choose the (Laplace/cofactor) expansion of the following matrix along the 3rd column.<br />\\( \\begin{vmatrix}-1 & 0 & -3 & 2\\\\-2 & 0 & 0 & -3\\\\0 & 3 & -3 & 1\\\\2 & -2 & -3 & 0\\end{vmatrix} \\)<div style=\"text-align:right;font-size:smaller\">(Quiz ID:004)</div><ol style=\"list-style-type:none\"><li title=\"Score:0\n",
       "Feedback:The signs of summands are changing. Take care of signs.\"><input type=\"radio\" name=\"preview4\">\\( -3\\times\\begin{vmatrix}-2 & 0 & -3\\\\0 & 3 & 1\\\\2 & -2 & 0\\end{vmatrix}+0\\times\\begin{vmatrix}-1 & 0 & 2\\\\0 & 3 & 1\\\\2 & -2 & 0\\end{vmatrix}-3\\times\\begin{vmatrix}-1 & 0 & 2\\\\-2 & 0 & -3\\\\2 & -2 & 0\\end{vmatrix}-3\\times\\begin{vmatrix}-1 & 0 & 2\\\\-2 & 0 & -3\\\\0 & 3 & 1\\end{vmatrix} \\)</li><li title=\"Score:0\n",
       "Feedback:The signs are incorrect. Take care of signs.\"><input type=\"radio\" name=\"preview4\">\\( +3\\times\\begin{vmatrix}-2 & 0 & -3\\\\0 & 3 & 1\\\\2 & -2 & 0\\end{vmatrix}+0\\times\\begin{vmatrix}-1 & 0 & 2\\\\0 & 3 & 1\\\\2 & -2 & 0\\end{vmatrix}+3\\times\\begin{vmatrix}-1 & 0 & 2\\\\-2 & 0 & -3\\\\2 & -2 & 0\\end{vmatrix}-3\\times\\begin{vmatrix}-1 & 0 & 2\\\\-2 & 0 & -3\\\\0 & 3 & 1\\end{vmatrix} \\)</li><li title=\"Score:0\n",
       "Feedback:Take care of the location of the specified row or column.\"><input type=\"radio\" name=\"preview4\">\\( -3\\times\\begin{vmatrix}0 & 0 & -3\\\\3 & -3 & 1\\\\-2 & -3 & 0\\end{vmatrix}+0\\times\\begin{vmatrix}0 & -3 & 2\\\\3 & -3 & 1\\\\-2 & -3 & 0\\end{vmatrix}-3\\times\\begin{vmatrix}0 & -3 & 2\\\\0 & 0 & -3\\\\-2 & -3 & 0\\end{vmatrix}+3\\times\\begin{vmatrix}0 & -3 & 2\\\\0 & 0 & -3\\\\3 & -3 & 1\\end{vmatrix} \\)</li><li title=\"Score:0\n",
       "Feedback:Do not mix up row and column.\"><input type=\"radio\" name=\"preview4\">\\( +0\\times\\begin{vmatrix}0 & -3 & 2\\\\0 & 0 & -3\\\\-2 & -3 & 0\\end{vmatrix}-3\\times\\begin{vmatrix}-1 & -3 & 2\\\\-2 & 0 & -3\\\\2 & -3 & 0\\end{vmatrix}-3\\times\\begin{vmatrix}-1 & 0 & 2\\\\-2 & 0 & -3\\\\2 & -2 & 0\\end{vmatrix}-1\\times\\begin{vmatrix}-1 & 0 & -3\\\\-2 & 0 & 0\\\\2 & -2 & -3\\end{vmatrix} \\)</li><li title=\"Score:100\"><input type=\"radio\" name=\"preview4\">\\( -3\\times\\begin{vmatrix}-2 & 0 & -3\\\\0 & 3 & 1\\\\2 & -2 & 0\\end{vmatrix}+0\\times\\begin{vmatrix}-1 & 0 & 2\\\\0 & 3 & 1\\\\2 & -2 & 0\\end{vmatrix}-3\\times\\begin{vmatrix}-1 & 0 & 2\\\\-2 & 0 & -3\\\\2 & -2 & 0\\end{vmatrix}+3\\times\\begin{vmatrix}-1 & 0 & 2\\\\-2 & 0 & -3\\\\0 & 3 & 1\\end{vmatrix} \\)</li></ol></div></div><div style=\"border: thin solid #000000; padding: 1em\"><div title=\"General Feedback:\n",
       "Correct Feedback:Your answer is correct.\n",
       "Partially Correct Feedback:Your answer is incorrect.\n",
       "Incorrect Feedback:Your answer is partially correct.\">Which elementary row operation is required to get the following matrix \\( B \\) from the following matrix \\( A \\).<br />\\( A=\\begin{pmatrix}-1 & -1\\\\-3 & 2\\\\1 & 1\\\\3 & 3\\end{pmatrix},\\;B=\\begin{pmatrix}3 & 3\\\\-3 & 2\\\\1 & 1\\\\-1 & -1\\end{pmatrix} \\)<div style=\"text-align:right;font-size:smaller\">(Quiz ID:006)</div><ol style=\"list-style-type:none\"><li title=\"Score:0\n",
       "Feedback:this operation does not produce the matrix \\( B \\), and this fact can be confirmed by applying the operation to the matrix \\( A \\).\"><input type=\"radio\" name=\"preview6\">multiply the 3rd row by 3.</li><li title=\"Score:100\"><input type=\"radio\" name=\"preview6\">interchange the 1st and 4th rows.</li><li title=\"Score:0\n",
       "Feedback:this operation does not produce the matrix \\( B \\), and this fact can be confirmed by applying the operation to the matrix \\( A \\).\"><input type=\"radio\" name=\"preview6\">add the 1st row multiplied by 3 to the 2nd row.</li><li title=\"Score:0\n",
       "Feedback:this operation does not produce the matrix \\( B \\), and this fact can be confirmed by applying the operation to the matrix \\( A \\).\"><input type=\"radio\" name=\"preview6\">multiply the 2nd row by 3.</li><li title=\"Score:0\n",
       "Feedback:this operation does not produce the matrix \\( B \\), and this fact can be confirmed by applying the operation to the matrix \\( A \\).\"><input type=\"radio\" name=\"preview6\">multiply the 1st row by 3.</li></ol></div></div><div style=\"border: thin solid #000000; padding: 1em\"><div title=\"General Feedback:\n",
       "Correct Feedback:Your answer is correct.\n",
       "Partially Correct Feedback:Your answer is incorrect.\n",
       "Incorrect Feedback:Your answer is partially correct.\">Which elementary row operation is required to get the following matrix \\( B \\) from the following matrix \\( A \\).<br />\\( A=\\begin{pmatrix}3 & -3\\\\0 & 3\\end{pmatrix},\\;B=\\begin{pmatrix}-3 & 3\\\\0 & 3\\end{pmatrix} \\)<div style=\"text-align:right;font-size:smaller\">(Quiz ID:002)</div><ol style=\"list-style-type:none\"><li title=\"Score:0\n",
       "Feedback:this operation does not produce the matrix \\( B \\), and this fact can be confirmed by applying the operation to the matrix \\( A \\).\"><input type=\"radio\" name=\"preview2\">add the 1st row multiplied by -1 to the 2nd row.</li><li title=\"Score:100\"><input type=\"radio\" name=\"preview2\">multiply the 1st row by -1.</li><li title=\"Score:0\n",
       "Feedback:this operation does not produce the matrix \\( B \\), and this fact can be confirmed by applying the operation to the matrix \\( A \\).\"><input type=\"radio\" name=\"preview2\">multiply the 2nd row by -1.</li><li title=\"Score:0\n",
       "Feedback:this operation does not produce the matrix \\( B \\), and this fact can be confirmed by applying the operation to the matrix \\( A \\).\"><input type=\"radio\" name=\"preview2\">interchange the 2nd and 1st rows.</li></ol></div></div><div style=\"border: thin solid #000000; padding: 1em\"><div title=\"General Feedback:\n",
       "Correct Feedback:Your answer is correct.\n",
       "Partially Correct Feedback:Your answer is incorrect.\n",
       "Incorrect Feedback:Your answer is partially correct.\">Suppose that \\( \\vec{u}_{1},\\;\\vec{u}_{2} \\) are linearly independent. Choose the linear equation that is suitable to check whether \\( \\vec{v}_{1},\\;\\vec{v}_{2} \\) are linearly independent or not.<br />\\( \\vec{v}_{1}=-3\\vec{u}_{1}+3\\vec{u}_{2},\\;\\vec{v}_{2}=\\vec{u}_{1}-\\vec{u}_{2} \\)<div style=\"text-align:right;font-size:smaller\">(Quiz ID:003)</div><ol style=\"list-style-type:none\"><li title=\"Score:0\n",
       "Feedback:the order of vectors is not important for linearly independent check.\"><input type=\"radio\" name=\"preview3\">\\( \\begin{pmatrix}1 & -3\\\\-1 & 4\\end{pmatrix}\\begin{pmatrix}c_{1}\\\\ c_{2}\\end{pmatrix}=\\vec{0} \\)</li><li title=\"Score:0\n",
       "Feedback:each vector is multiplied by the uknowns (variables). collecting the coefficients gets the equation.\"><input type=\"radio\" name=\"preview3\">\\( \\begin{pmatrix}2 & -1\\\\-3 & 3\\end{pmatrix}\\begin{pmatrix}c_{1}\\\\ c_{2}\\end{pmatrix}=\\vec{0} \\)</li><li title=\"Score:100\"><input type=\"radio\" name=\"preview3\">\\( \\begin{pmatrix}-3 & 1\\\\3 & -1\\end{pmatrix}\\begin{pmatrix}c_{1}\\\\ c_{2}\\end{pmatrix}=\\vec{0} \\)</li><li title=\"Score:0\n",
       "Feedback:the order of vectors is not important for linearly independent check.\"><input type=\"radio\" name=\"preview3\">\\( \\begin{pmatrix}1 & -4\\\\-1 & 3\\end{pmatrix}\\begin{pmatrix}c_{1}\\\\ c_{2}\\end{pmatrix}=\\vec{0} \\)</li><li title=\"Score:0\n",
       "Feedback:each vector is multiplied by the uknowns (variables). collecting the coefficients gets the equation.\"><input type=\"radio\" name=\"preview3\">\\( \\begin{pmatrix}-3 & 3\\\\1 & -1\\end{pmatrix}\\begin{pmatrix}c_{1}\\\\ c_{2}\\end{pmatrix}=\\vec{0} \\)</li></ol></div></div><div style=\"border: thin solid #000000; padding: 1em\"><div title=\"General Feedback:\n",
       "Correct Feedback:Your answer is correct.\n",
       "Partially Correct Feedback:Your answer is incorrect.\n",
       "Incorrect Feedback:Your answer is partially correct.\">Choose an eigen vector of the following linear transformation.<br />\\( f:\\mathbb{R}[x]_{2}\\rightarrow \\mathbb{R}[x]_{2},\\;a_{3}x^{2}+a_{2}x+a_{1}\\mapsto - 2 a_{1} - 2 a_{2} x + x^{2} \\left(- 3 a_{2} + a_{3}\\right) \\)<div style=\"text-align:right;font-size:smaller\">(Quiz ID:008)</div><ol style=\"list-style-type:none\"><li title=\"Score:100\"><input type=\"radio\" name=\"preview8\">\\( - 2 x^{2} \\)</li><li title=\"Score:0\n",
       "Feedback:just transform each vector by the linear transformation, and check each image against the definition of eigen vector.\"><input type=\"radio\" name=\"preview8\">\\( 1 - x^{2} \\)</li><li title=\"Score:0\n",
       "Feedback:just transform each vector by the linear transformation, and check each image against the definition of eigen vector.\"><input type=\"radio\" name=\"preview8\">\\( 2 x - 1 \\)</li><li title=\"Score:0\n",
       "Feedback:just transform each vector by the linear transformation, and check each image against the definition of eigen vector.\"><input type=\"radio\" name=\"preview8\">\\( x^{2} + 1 \\)</li><li title=\"Score:0\n",
       "Feedback:just transform each vector by the linear transformation, and check each image against the definition of eigen vector.\"><input type=\"radio\" name=\"preview8\">\\( 0 \\)</li></ol></div></div>"
      ],
      "text/plain": [
       "<IPython.core.display.HTML object>"
      ]
     },
     "metadata": {},
     "output_type": "display_data"
    }
   ],
   "source": [
    "all_quizzes.preview(size=5)"
   ]
  },
  {
   "cell_type": "markdown",
   "metadata": {},
   "source": [
    "The notation of matrix can be modified by the following option use. Note that acceptable notations in KaTeX and MathJax are different."
   ]
  },
  {
   "cell_type": "code",
   "execution_count": 10,
   "metadata": {
    "scrolled": true
   },
   "outputs": [
    {
     "data": {
      "text/html": [
       "<div style=\"border: thin solid #000000; padding: 1em\"><div title=\"General Feedback:\n",
       "Correct Feedback:Your answer is correct.\n",
       "Partially Correct Feedback:Your answer is incorrect.\n",
       "Incorrect Feedback:Your answer is partially correct.\">To find a maximally linearly independent subset of the following vectors \\( \\boldsymbol{u}_{1},\\;\\boldsymbol{u}_{2},\\;\\boldsymbol{u}_{3},\\;\\boldsymbol{u}_{4},\\;\\boldsymbol{u}_{5} \\), we computed the following reduced row echelon form \\( A \\) of the matrix \\( \\begin{bmatrix}\\boldsymbol{u}_{1}\\;\\boldsymbol{u}_{2}\\;\\boldsymbol{u}_{3}\\;\\boldsymbol{u}_{4}\\;\\boldsymbol{u}_{5}\\end{bmatrix} \\). Take the vectors corresponding to the pivots as a basis, and choose the correct linear combinations of basis vectors for the rest of vectors.<br />\\( \\boldsymbol{u}_{1}=\\begin{bmatrix}-3\\\\-1\\\\2\\\\1\\end{bmatrix},\\;\\boldsymbol{u}_{2}=\\begin{bmatrix}6\\\\2\\\\-4\\\\-2\\end{bmatrix},\\;\\boldsymbol{u}_{3}=\\begin{bmatrix}3\\\\-3\\\\1\\\\1\\end{bmatrix},\\;\\boldsymbol{u}_{4}=\\begin{bmatrix}-3\\\\-1\\\\-3\\\\2\\end{bmatrix},\\;\\boldsymbol{u}_{5}=\\begin{bmatrix}-1\\\\-1\\\\1\\\\2\\end{bmatrix} \\)<br />\\( A=\\begin{bmatrix}1 & -2 & 0 & 0 & 0\\\\0 & 0 & 1 & 0 & 0\\\\0 & 0 & 0 & 1 & 0\\\\0 & 0 & 0 & 0 & 1\\end{bmatrix} \\)<div style=\"text-align:right;font-size:smaller\">(Quiz ID:004)</div><ol style=\"list-style-type:none\"><li title=\"Score:0\n",
       "Feedback:linearly dependent relation of columns is not changed by any elementary row operations. be careful for signs.\"><input type=\"radio\" name=\"preview4\">\\( \\boldsymbol{u}_{2}=2\\boldsymbol{u}_{1} \\)</li><li title=\"Score:0\n",
       "Feedback:linearly dependent relation of columns is not changed by any elementary row operations. be careful for positions of pivots that are vectors may form a basis.\"><input type=\"radio\" name=\"preview4\">\\( \\boldsymbol{u}_{2}=\\boldsymbol{u}_{1} \\)</li><li title=\"Score:0\n",
       "Feedback:linearly dependent relation of columns is not changed by any elementary row operations. be careful for positions of pivots that are vectors may form a basis.\"><input type=\"radio\" name=\"preview4\">\\( \\boldsymbol{u}_{4}=-3\\boldsymbol{u}_{1}+3\\boldsymbol{u}_{2}-\\boldsymbol{u}_{3} \\)</li><li title=\"Score:100\"><input type=\"radio\" name=\"preview4\">\\( \\boldsymbol{u}_{2}=-2\\boldsymbol{u}_{1} \\)</li><li title=\"Score:0\n",
       "Feedback:linearly dependent relation of columns is not changed by any elementary row operations. be careful for positions of pivots that are vectors may form a basis.\"><input type=\"radio\" name=\"preview4\">\\( \\boldsymbol{u}_{5}=-2\\boldsymbol{u}_{1}-3\\boldsymbol{u}_{2}-2\\boldsymbol{u}_{3}+\\boldsymbol{u}_{4} \\)</li></ol></div></div><div style=\"border: thin solid #000000; padding: 1em\"><div title=\"General Feedback:\n",
       "Correct Feedback:Your answer is correct.\n",
       "Partially Correct Feedback:Your answer is incorrect.\n",
       "Incorrect Feedback:Your answer is partially correct.\">Choose the adjugate matrix of the following \\( A \\).<br />\\( A=\\begin{bmatrix}2 & 2 & 1\\\\-2 & 1 & -2\\\\2 & 1 & 1\\end{bmatrix} \\)<br />For your information, we have the minors:<br />\\( |A_{1,1}|=3,\\;|A_{1,2}|=2,\\;|A_{1,3}|=-4,\\;|A_{2,1}|=1,\\;|A_{2,2}|=0,\\;|A_{2,3}|=-2,\\;|A_{3,1}|=-5,\\;|A_{3,2}|=-2,\\;|A_{3,3}|=6 \\)<div style=\"text-align:right;font-size:smaller\">(Quiz ID:003)</div><ol style=\"list-style-type:none\"><li title=\"Score:100\"><input type=\"radio\" name=\"preview3\">\\( \\begin{bmatrix}3 & -1 & -5\\\\-2 & 0 & 2\\\\-4 & 2 & 6\\end{bmatrix} \\)</li><li title=\"Score:0\n",
       "Feedback:be careful on signs and subscript indices of elements of adjugate matrix.\"><input type=\"radio\" name=\"preview3\">\\( \\begin{bmatrix}3 & 2 & -4\\\\1 & 0 & -2\\\\-5 & -2 & 6\\end{bmatrix} \\)</li><li title=\"Score:0\n",
       "Feedback:be careful on subscript indices of elements of adjugate matrix.\"><input type=\"radio\" name=\"preview3\">\\( \\begin{bmatrix}3 & -2 & -4\\\\-1 & 0 & 2\\\\-5 & 2 & 6\\end{bmatrix} \\)</li><li title=\"Score:0\n",
       "Feedback:be careful on signs of elements of adjugate matrix.\"><input type=\"radio\" name=\"preview3\">\\( \\begin{bmatrix}3 & 1 & -5\\\\2 & 0 & -2\\\\-4 & -2 & 6\\end{bmatrix} \\)</li></ol></div></div><div style=\"border: thin solid #000000; padding: 1em\"><div title=\"General Feedback:\n",
       "Correct Feedback:Your answer is correct.\n",
       "Partially Correct Feedback:Your answer is incorrect.\n",
       "Incorrect Feedback:Your answer is partially correct.\">Suppose that \\( \\boldsymbol{u}_{1},\\;\\boldsymbol{u}_{2},\\;\\boldsymbol{u}_{3} \\) are linearly independent. Choose the linear equation that is suitable to check whether \\( \\boldsymbol{v}_{1},\\;\\boldsymbol{v}_{2} \\) are linearly independent or not.<br />\\( \\boldsymbol{v}_{1}=-2\\boldsymbol{u}_{1}-6\\boldsymbol{u}_{2}-2\\boldsymbol{u}_{3},\\;\\boldsymbol{v}_{2}=\\boldsymbol{u}_{1}+3\\boldsymbol{u}_{2}+4\\boldsymbol{u}_{3} \\)<div style=\"text-align:right;font-size:smaller\">(Quiz ID:001)</div><ol style=\"list-style-type:none\"><li title=\"Score:0\n",
       "Feedback:each vector is multiplied by the uknowns (variables). collecting the coefficients gets the equation.\"><input type=\"radio\" name=\"preview1\">\\( \\begin{bmatrix}1 & 3 & 4\\\\-2 & -7 & -2\\end{bmatrix}\\begin{bmatrix}c_{1}\\\\ c_{2}\\\\ c_{3}\\end{bmatrix}=\\boldsymbol{0} \\)</li><li title=\"Score:0\n",
       "Feedback:each vector is multiplied by the uknowns (variables). collecting the coefficients gets the equation.\"><input type=\"radio\" name=\"preview1\">\\( \\begin{bmatrix}-2 & -6 & -2\\\\1 & 3 & 4\\end{bmatrix}\\begin{bmatrix}c_{1}\\\\ c_{2}\\\\ c_{3}\\end{bmatrix}=\\boldsymbol{0} \\)</li><li title=\"Score:100\"><input type=\"radio\" name=\"preview1\">\\( \\begin{bmatrix}-2 & 1\\\\-6 & 3\\\\-2 & 4\\end{bmatrix}\\begin{bmatrix}c_{1}\\\\ c_{2}\\end{bmatrix}=\\boldsymbol{0} \\)</li><li title=\"Score:0\n",
       "Feedback:each vector is multiplied by the uknowns (variables). collecting the coefficients gets the equation.\"><input type=\"radio\" name=\"preview1\">\\( \\begin{bmatrix}-2 & -6 & -1\\\\1 & 3 & 4\\end{bmatrix}\\begin{bmatrix}c_{1}\\\\ c_{2}\\\\ c_{3}\\end{bmatrix}=\\boldsymbol{0} \\)</li><li title=\"Score:0\n",
       "Feedback:each vector is multiplied by the uknowns (variables). collecting the coefficients gets the equation.\"><input type=\"radio\" name=\"preview1\">\\( \\begin{bmatrix}-3 & -6 & -2\\\\1 & 3 & 4\\end{bmatrix}\\begin{bmatrix}c_{1}\\\\ c_{2}\\\\ c_{3}\\end{bmatrix}=\\boldsymbol{0} \\)</li></ol></div></div><div style=\"border: thin solid #000000; padding: 1em\"><div title=\"General Feedback:\n",
       "Correct Feedback:Your answer is correct.\n",
       "Partially Correct Feedback:Your answer is incorrect.\n",
       "Incorrect Feedback:Your answer is partially correct.\">Choose the (Laplace/cofactor) expansion of the following matrix along the 1st column.<br />\\( \\begin{vmatrix}-1 & 2 & 0\\\\2 & 0 & -3\\\\3 & -1 & -1\\end{vmatrix} \\)<div style=\"text-align:right;font-size:smaller\">(Quiz ID:003)</div><ol style=\"list-style-type:none\"><li title=\"Score:0\n",
       "Feedback:The signs of summands are changing. Take care of signs.\"><input type=\"radio\" name=\"preview3\">\\( -1\\times\\begin{vmatrix}0 & -3\\\\-1 & -1\\end{vmatrix}+2\\times\\begin{vmatrix}2 & 0\\\\-1 & -1\\end{vmatrix}+3\\times\\begin{vmatrix}2 & 0\\\\0 & -3\\end{vmatrix} \\)</li><li title=\"Score:0\n",
       "Feedback:The signs are incorrect. Take care of signs, and do not mix up row and column.\"><input type=\"radio\" name=\"preview3\">\\( +1\\times\\begin{vmatrix}0 & -3\\\\-1 & -1\\end{vmatrix}+2\\times\\begin{vmatrix}2 & -3\\\\3 & -1\\end{vmatrix}+0\\times\\begin{vmatrix}2 & 0\\\\3 & -1\\end{vmatrix} \\)</li><li title=\"Score:0\n",
       "Feedback:Take care of the location of the specified row or column.\"><input type=\"radio\" name=\"preview3\">\\( -1\\times\\begin{vmatrix}2 & 0\\\\3 & -1\\end{vmatrix}-2\\times\\begin{vmatrix}-1 & 2\\\\3 & -1\\end{vmatrix}+3\\times\\begin{vmatrix}-1 & 2\\\\2 & 0\\end{vmatrix} \\)</li><li title=\"Score:100\"><input type=\"radio\" name=\"preview3\">\\( -1\\times\\begin{vmatrix}0 & -3\\\\-1 & -1\\end{vmatrix}-2\\times\\begin{vmatrix}2 & 0\\\\-1 & -1\\end{vmatrix}+3\\times\\begin{vmatrix}2 & 0\\\\0 & -3\\end{vmatrix} \\)</li><li title=\"Score:0\n",
       "Feedback:Take care of the location of the specified row or column.\"><input type=\"radio\" name=\"preview3\">\\( -2\\times\\begin{vmatrix}2 & -3\\\\3 & -1\\end{vmatrix}+0\\times\\begin{vmatrix}-1 & 0\\\\3 & -1\\end{vmatrix}+1\\times\\begin{vmatrix}-1 & 0\\\\2 & -3\\end{vmatrix} \\)</li></ol></div></div><div style=\"border: thin solid #000000; padding: 1em\"><div title=\"General Feedback:\n",
       "Correct Feedback:Your answer is correct.\n",
       "Partially Correct Feedback:Your answer is incorrect.\n",
       "Incorrect Feedback:Your answer is partially correct.\">Which elementary row operation is required to get the following matrix \\( B \\) from the following matrix \\( A \\).<br />\\( A=\\begin{bmatrix}0 & 2\\\\3 & 0\\\\3 & 2\\\\-1 & 1\\end{bmatrix},\\;B=\\begin{bmatrix}0 & 2\\\\3 & 2\\\\3 & 0\\\\-1 & 1\\end{bmatrix} \\)<div style=\"text-align:right;font-size:smaller\">(Quiz ID:004)</div><ol style=\"list-style-type:none\"><li title=\"Score:0\n",
       "Feedback:this operation does not produce the matrix \\( B \\), and this fact can be confirmed by applying the operation to the matrix \\( A \\).\"><input type=\"radio\" name=\"preview4\">add the 1st row multiplied by 3 to the 4th row.</li><li title=\"Score:100\"><input type=\"radio\" name=\"preview4\">interchange the 3rd and 2nd rows.</li><li title=\"Score:0\n",
       "Feedback:this operation does not produce the matrix \\( B \\), and this fact can be confirmed by applying the operation to the matrix \\( A \\).\"><input type=\"radio\" name=\"preview4\">interchange the 2nd and 1st rows.</li><li title=\"Score:0\n",
       "Feedback:this operation does not produce the matrix \\( B \\), and this fact can be confirmed by applying the operation to the matrix \\( A \\).\"><input type=\"radio\" name=\"preview4\">add the 1st row multiplied by 3 to the 3rd row.</li><li title=\"Score:0\n",
       "Feedback:this operation does not produce the matrix \\( B \\), and this fact can be confirmed by applying the operation to the matrix \\( A \\).\"><input type=\"radio\" name=\"preview4\">interchange the 4th and 1st rows.</li></ol></div></div>"
      ],
      "text/plain": [
       "<IPython.core.display.HTML object>"
      ]
     },
     "metadata": {},
     "output_type": "display_data"
    }
   ],
   "source": [
    "all_quizzes.preview(size=5, translate={'\\\\vec{':'\\\\boldsymbol{', '{pmatrix}':'{bmatrix}'})"
   ]
  },
  {
   "cell_type": "markdown",
   "metadata": {},
   "source": [
    "Finally, the **save** method writes the quizzes in the specified file in the Moodle XML format that can be imported to Moodle."
   ]
  },
  {
   "cell_type": "code",
   "execution_count": 7,
   "metadata": {},
   "outputs": [],
   "source": [
    "all_quizzes.save('all.xml')"
   ]
  },
  {
   "cell_type": "markdown",
   "metadata": {},
   "source": [
    "To generate a set of the specific question only, use the name of child classes or each item of instances."
   ]
  },
  {
   "cell_type": "code",
   "execution_count": 11,
   "metadata": {},
   "outputs": [
    {
     "data": {
      "text/html": [
       "<ul><li>elementary_row_operation_for_result:elementary row operation to get the desired matrix</li><li>inverse_matrix_with_rref:inverse computation with rref of concatenation with identity matrix</li><li>minor_expansion:determinant expansion by minors</li><li>adjugate_matrix_with_minors:adjugate matrix (with the minors computed)</li><li>linearly_independent_check_equation_with_basis:linear equation for linearly independent check (with basis)</li><li>rref_and_linearly_dependent_relation:linearly dependent relation of columns is elementary row operations invariant</li><li>select_eigenvector:eigen vector of linear transformation</li><li>expanding_inner_expression_with_numerical_values:expansion of inner/norm expression by linearity</li></ul>"
      ],
      "text/plain": [
       "<IPython.core.display.HTML object>"
      ]
     },
     "metadata": {},
     "output_type": "display_data"
    }
   ],
   "source": [
    "la.listview()"
   ]
  },
  {
   "cell_type": "code",
   "execution_count": 12,
   "metadata": {},
   "outputs": [
    {
     "data": {
      "text/html": [
       "<div style=\"border: thin solid #000000; padding: 1em\"><div title=\"General Feedback:\n",
       "Correct Feedback:Your answer is correct.\n",
       "Partially Correct Feedback:Your answer is incorrect.\n",
       "Incorrect Feedback:Your answer is partially correct.\">Choose the (Laplace/cofactor) expansion of the following matrix along the 1st row.<br />\\( \\begin{vmatrix}0 & 0 & 0\\\\-2 & 1 & 1\\\\-3 & 2 & -1\\end{vmatrix} \\)<div style=\"text-align:right;font-size:smaller\">(Quiz ID:006)</div><ol style=\"list-style-type:none\"><li title=\"Score:0\n",
       "Feedback:Take care of the location of the specified row or column, and do not mix up row and column.\"><input type=\"radio\" name=\"preview6\">\\( +0\\times\\begin{vmatrix}-2 & 1\\\\-3 & 2\\end{vmatrix}+2\\times\\begin{vmatrix}0 & 0\\\\-3 & 2\\end{vmatrix}-3\\times\\begin{vmatrix}0 & 0\\\\-2 & 1\\end{vmatrix} \\)</li><li title=\"Score:0\n",
       "Feedback:Take care of the location of the specified row or column.\"><input type=\"radio\" name=\"preview6\">\\( +2\\times\\begin{vmatrix}0 & 0\\\\2 & -1\\end{vmatrix}+1\\times\\begin{vmatrix}0 & 0\\\\-3 & -1\\end{vmatrix}-1\\times\\begin{vmatrix}0 & 0\\\\-3 & 2\\end{vmatrix} \\)</li><li title=\"Score:100\"><input type=\"radio\" name=\"preview6\">\\( +0\\times\\begin{vmatrix}1 & 1\\\\2 & -1\\end{vmatrix}+0\\times\\begin{vmatrix}-2 & 1\\\\-3 & -1\\end{vmatrix}+0\\times\\begin{vmatrix}-2 & 1\\\\-3 & 2\\end{vmatrix} \\)</li><li title=\"Score:0\n",
       "Feedback:The signs of summands are changing. Take care of signs, and do not mix up row and column.\"><input type=\"radio\" name=\"preview6\">\\( +0\\times\\begin{vmatrix}1 & 1\\\\2 & -1\\end{vmatrix}-2\\times\\begin{vmatrix}0 & 0\\\\2 & -1\\end{vmatrix}-3\\times\\begin{vmatrix}0 & 0\\\\1 & 1\\end{vmatrix} \\)</li><li title=\"Score:0\n",
       "Feedback:The signs are incorrect. Take care of signs, and do not mix up row and column.\"><input type=\"radio\" name=\"preview6\">\\( +0\\times\\begin{vmatrix}1 & 1\\\\2 & -1\\end{vmatrix}-2\\times\\begin{vmatrix}0 & 0\\\\2 & -1\\end{vmatrix}+3\\times\\begin{vmatrix}0 & 0\\\\1 & 1\\end{vmatrix} \\)</li></ol></div></div>"
      ],
      "text/plain": [
       "<IPython.core.display.HTML object>"
      ]
     },
     "metadata": {},
     "output_type": "display_data"
    }
   ],
   "source": [
    "me = la.minor_expansion()\n",
    "me_quizzes = mxqg.generate(me)\n",
    "me_quizzes.preview()"
   ]
  },
  {
   "cell_type": "code",
   "execution_count": 13,
   "metadata": {},
   "outputs": [
    {
     "data": {
      "text/html": [
       "<div style=\"border: thin solid #000000; padding: 1em\"><div title=\"General Feedback:\n",
       "Correct Feedback:Your answer is correct.\n",
       "Partially Correct Feedback:Your answer is incorrect.\n",
       "Incorrect Feedback:Your answer is partially correct.\">Choose the inverse matrix of the following matrix \\( A \\).<br />\\( A = \\begin{pmatrix}0 & 1 & 1\\\\-2 & -4 & -4\\\\0 & 0 & 0\\\\-1 & -2 & -2\\end{pmatrix} \\)<br />For your information, the matrix on the right is the reduced row echelon form of the matrix on the left.<br />\\( \\begin{pmatrix}0 & 1 & 1 & 1 & 0 & 0 & 0\\\\-2 & -4 & -4 & 0 & 1 & 0 & 0\\\\0 & 0 & 0 & 0 & 0 & 1 & 0\\\\-1 & -2 & -2 & 0 & 0 & 0 & 1\\end{pmatrix}\\;\\rightarrow\\;\\begin{pmatrix}1 & 0 & 0 & -2 & 0 & 0 & -1\\\\0 & 1 & 1 & 1 & 0 & 0 & 0\\\\0 & 0 & 0 & 0 & 1 & 0 & -2\\\\0 & 0 & 0 & 0 & 0 & 1 & 0\\end{pmatrix} \\)<div style=\"text-align:right;font-size:smaller\">(Quiz ID:010)</div><ol style=\"list-style-type:none\"><li title=\"Score:0\n",
       "Feedback:It is a necessary condition for a matrix to be invertible that it is a square matrix.\"><input type=\"radio\" name=\"preview10\">\\( \\begin{pmatrix}-2 & 0 & 0 & -1\\\\1 & 0 & 0 & 0\\\\0 & 1 & 0 & -2\\\\0 & 0 & 1 & 0\\end{pmatrix} \\)</li><li title=\"Score:100\"><input type=\"radio\" name=\"preview10\">This is not a square matrix.</li><li title=\"Score:0\n",
       "Feedback:It is a necessary condition for a matrix to be invertible that it is a square matrix.\"><input type=\"radio\" name=\"preview10\">\\( \\begin{pmatrix}0 & 0 & 1\\\\0 & 0 & 0\\\\-1 & 0 & 2\\\\0 & -1 & 0\\end{pmatrix} \\)</li><li title=\"Score:0\n",
       "Feedback:It is a necessary condition for a matrix to be invertible that it is a square matrix.\"><input type=\"radio\" name=\"preview10\">\\( \\begin{pmatrix}2 & 0 & 0 & 1\\\\-1 & 0 & 0 & 0\\\\0 & -1 & 0 & 2\\\\0 & 0 & -1 & 0\\end{pmatrix} \\)</li><li title=\"Score:0\n",
       "Feedback:It is a necessary condition for a matrix to be invertible that it is a square matrix.\"><input type=\"radio\" name=\"preview10\">\\( \\begin{pmatrix}0 & 0 & -1\\\\0 & 0 & 0\\\\1 & 0 & -2\\\\0 & 1 & 0\\end{pmatrix} \\)</li><li title=\"Score:0\n",
       "Feedback:Check the definition of the inverse matrix. Changing the sign of the matrix does not make the inverse in general.\"><input type=\"radio\" name=\"preview10\">\\( \\begin{pmatrix}0 & -1 & -1\\\\2 & 4 & 4\\\\0 & 0 & 0\\\\1 & 2 & 2\\end{pmatrix} \\)</li></ol></div></div>"
      ],
      "text/plain": [
       "<IPython.core.display.HTML object>"
      ]
     },
     "metadata": {},
     "output_type": "display_data"
    }
   ],
   "source": [
    "imwr_quizzes = mxqg.generate(la_instances[1])\n",
    "imwr_quizzes.preview()"
   ]
  },
  {
   "cell_type": "code",
   "execution_count": null,
   "metadata": {},
   "outputs": [],
   "source": []
  }
 ],
 "metadata": {
  "kernelspec": {
   "display_name": "Python 3",
   "language": "python",
   "name": "python3"
  },
  "language_info": {
   "codemirror_mode": {
    "name": "ipython",
    "version": 3
   },
   "file_extension": ".py",
   "mimetype": "text/x-python",
   "name": "python",
   "nbconvert_exporter": "python",
   "pygments_lexer": "ipython3",
   "version": "3.7.6"
  },
  "toc": {
   "base_numbering": 1,
   "nav_menu": {},
   "number_sections": true,
   "sideBar": true,
   "skip_h1_title": false,
   "title_cell": "Table of Contents",
   "title_sidebar": "Contents",
   "toc_cell": false,
   "toc_position": {},
   "toc_section_display": true,
   "toc_window_display": false
  }
 },
 "nbformat": 4,
 "nbformat_minor": 2
}
