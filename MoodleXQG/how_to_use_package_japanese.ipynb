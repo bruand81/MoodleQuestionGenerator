{
 "cells": [
  {
   "cell_type": "markdown",
   "metadata": {},
   "source": [
    "Moodle XML Question Generator, (C) 2019-2020 Kosaku Nagasaka (Kobe University)"
   ]
  },
  {
   "cell_type": "markdown",
   "metadata": {},
   "source": [
    "# moodle_xqgの使い方"
   ]
  },
  {
   "cell_type": "markdown",
   "metadata": {},
   "source": [
    "Moodle XML Question Generator の Python 版である moodle_xqg の基本的な使い方について説明しています。"
   ]
  },
  {
   "cell_type": "markdown",
   "metadata": {},
   "source": [
    "## パッケージの読み込み"
   ]
  },
  {
   "cell_type": "markdown",
   "metadata": {},
   "source": [
    "**moodle_xqg.core**は必ず必要です。**moodle_xqgb.qbank.common**は数式のLaTeX化など，問題作成に必要なものが含まれているので，読み込んだほうがよいです。"
   ]
  },
  {
   "cell_type": "code",
   "execution_count": 1,
   "metadata": {},
   "outputs": [],
   "source": [
    "import moodle_xqg.core as mxqg\n",
    "import moodle_xqg.qbank.common as mxqg_common"
   ]
  },
  {
   "cell_type": "markdown",
   "metadata": {},
   "source": [
    "次のパッケージは作られる問題に依存しますが，多くの場合，乱数生成と数式処理のために，必要となると思います。"
   ]
  },
  {
   "cell_type": "code",
   "execution_count": 2,
   "metadata": {},
   "outputs": [],
   "source": [
    "import random\n",
    "import sympy"
   ]
  },
  {
   "cell_type": "markdown",
   "metadata": {},
   "source": [
    "## 最小限の問題サンプル"
   ]
  },
  {
   "cell_type": "markdown",
   "metadata": {},
   "source": [
    "問題生成器は，**Question**の小クラスとして定義する必要があります。必要なメソッドは，**question_generate**と**correct_answers_generate**と**incorrect_answers_generate**と**question_text**と**answer_text**の5つです。"
   ]
  },
  {
   "cell_type": "markdown",
   "metadata": {},
   "source": [
    "問題生成器は，**Quiz.quiz_identifier**に同じ問題であるかを判定可能なデータを必ず格納してください。この値でもって問題の区別をするので，格納していない場合，最初の1問しか自動生成されなくなってしまいます。 "
   ]
  },
  {
   "cell_type": "code",
   "execution_count": 3,
   "metadata": {},
   "outputs": [],
   "source": [
    "class integer_addition_simple(mxqg.Question):\n",
    "    def question_generate(self, _quiz_number=0):\n",
    "        quiz = mxqg.Quiz(name='整数の足し算', quiz_number=_quiz_number, lang='ja')\n",
    "        # 問題データの生成\n",
    "        quiz.data = [random.choice([-9,-8,-7,-6,-5,-4,-3,-2,-1,1,2,3,4,5,6,7,8,9]) for i in range(2)]\n",
    "        quiz.quiz_identifier = hash('{}+{}'.format(quiz.data[0], quiz.data[1]))\n",
    "        # 正答の生成\n",
    "        quiz.data.append(quiz.data[0] + quiz.data[1])\n",
    "        # 正答の選択肢の生成\n",
    "        ans = { 'fraction': 100, 'data': quiz.data[2] }\n",
    "        quiz.answers.append(ans)\n",
    "        return quiz        \n",
    "    def correct_answers_generate(self, quiz, size=1):\n",
    "        # 正答を個別には作らないので何もしない\n",
    "        pass\n",
    "    def incorrect_answers_generate(self, quiz, size=4):\n",
    "        # ランダムに誤答を作る（本来は推奨されない）\n",
    "        answers = []\n",
    "        ans = { 'fraction': 0, 'data': quiz.data[2] }\n",
    "        while len(answers) < size:\n",
    "            ans['data'] += random.randint(-9,9)\n",
    "            ans['feedback'] = '丁寧に計算し直してみましょう。'\n",
    "            if ans['data'] != quiz.data[2]:\n",
    "                answers.append(dict(ans)) # 同じ ans を使いまわすときはコピーが必要\n",
    "            answers = mxqg_common.answer_union(answers)\n",
    "        return answers    \n",
    "    def question_text(self, quiz):\n",
    "        return '次の数式の値を求めよ。<br />' + \\\n",
    "                mxqg_common.sympy_str_to_text('{}+{}'.format(quiz.data[0], quiz.data[1]))\n",
    "    def answer_text(self, ans):\n",
    "        return mxqg_common.sympy_expr_to_text(ans['data'])"
   ]
  },
  {
   "cell_type": "markdown",
   "metadata": {},
   "source": [
    "問題の自動生成は，**generate**を使いますが，それに先立ち，問題生成器のインスタンスを生成しておく必要があります。作成する問題数は，*generate*に**size=100**のような形で指定します（無指定時は，10個生成されます）。"
   ]
  },
  {
   "cell_type": "code",
   "execution_count": 4,
   "metadata": {},
   "outputs": [],
   "source": [
    "ias = integer_addition_simple()\n",
    "ias_quizzes = mxqg.generate(ias, category='最小限の問題サンプル')"
   ]
  },
  {
   "cell_type": "markdown",
   "metadata": {},
   "source": [
    "生成結果は，**Quizzes**のインスタンスとなっており，次のようにプレビューができます。"
   ]
  },
  {
   "cell_type": "code",
   "execution_count": 5,
   "metadata": {},
   "outputs": [
    {
     "data": {
      "text/html": [
       "<ul><li>最小限の問題サンプル<ul><li>整数の足し算 (id:001)</li><li>整数の足し算 (id:002)</li><li>整数の足し算 (id:003)</li><li>整数の足し算 (id:004)</li><li>整数の足し算 (id:005)</li><li>整数の足し算 (id:006)</li><li>整数の足し算 (id:007)</li><li>整数の足し算 (id:008)</li><li>整数の足し算 (id:009)</li><li>整数の足し算 (id:010)</li></ul></li></ul>"
      ],
      "text/plain": [
       "<IPython.core.display.HTML object>"
      ]
     },
     "metadata": {},
     "output_type": "display_data"
    }
   ],
   "source": [
    "ias_quizzes.listview()"
   ]
  },
  {
   "cell_type": "code",
   "execution_count": 6,
   "metadata": {},
   "outputs": [
    {
     "data": {
      "text/html": [
       "<div style=\"border: thin solid #000000; padding: 1em\"><div title=\"フィードバック:\n",
       "正答フィードバック:あなたの答えは正解です。\n",
       "部分フィードバック:あたなの答えは部分的に正解です。\n",
       "誤答フィードバック:あたなの答えは正しくありません。\">次の数式の値を求めよ。<br />\\( 3 + 8 \\)<div style=\"text-align:right;font-size:smaller\">（問題整理番号:002）</div><ol style=\"list-style-type:none\"><li title=\"点数:0\n",
       "フィードバック:丁寧に計算し直してみましょう。\"><input type=\"radio\" name=\"preview2\">\\( 16 \\)</li><li title=\"点数:0\n",
       "フィードバック:丁寧に計算し直してみましょう。\"><input type=\"radio\" name=\"preview2\">\\( 10 \\)</li><li title=\"点数:100\"><input type=\"radio\" name=\"preview2\">\\( 11 \\)</li><li title=\"点数:0\n",
       "フィードバック:丁寧に計算し直してみましょう。\"><input type=\"radio\" name=\"preview2\">\\( 8 \\)</li><li title=\"点数:0\n",
       "フィードバック:丁寧に計算し直してみましょう。\"><input type=\"radio\" name=\"preview2\">\\( 12 \\)</li></ol></div></div><div style=\"border: thin solid #000000; padding: 1em\"><div title=\"フィードバック:\n",
       "正答フィードバック:あなたの答えは正解です。\n",
       "部分フィードバック:あたなの答えは部分的に正解です。\n",
       "誤答フィードバック:あたなの答えは正しくありません。\">次の数式の値を求めよ。<br />\\( -4 + 6 \\)<div style=\"text-align:right;font-size:smaller\">（問題整理番号:001）</div><ol style=\"list-style-type:none\"><li title=\"点数:0\n",
       "フィードバック:丁寧に計算し直してみましょう。\"><input type=\"radio\" name=\"preview1\">\\( 1 \\)</li><li title=\"点数:0\n",
       "フィードバック:丁寧に計算し直してみましょう。\"><input type=\"radio\" name=\"preview1\">\\( 3 \\)</li><li title=\"点数:0\n",
       "フィードバック:丁寧に計算し直してみましょう。\"><input type=\"radio\" name=\"preview1\">\\( 12 \\)</li><li title=\"点数:0\n",
       "フィードバック:丁寧に計算し直してみましょう。\"><input type=\"radio\" name=\"preview1\">\\( 7 \\)</li><li title=\"点数:100\"><input type=\"radio\" name=\"preview1\">\\( 2 \\)</li></ol></div></div>"
      ],
      "text/plain": [
       "<IPython.core.display.HTML object>"
      ]
     },
     "metadata": {},
     "output_type": "display_data"
    }
   ],
   "source": [
    "ias_quizzes.preview(size=2)"
   ]
  },
  {
   "cell_type": "markdown",
   "metadata": {},
   "source": [
    "語句の修正をする場合は，辞書型で指定します。次の例では「数式」をすべて「計算結果」に置き換えた状態でプレビューが行われます。ただし，インスタンスの中身自体は変更されていないので注意をしてください。"
   ]
  },
  {
   "cell_type": "code",
   "execution_count": 13,
   "metadata": {},
   "outputs": [
    {
     "data": {
      "text/html": [
       "<div style=\"border: thin solid #000000; padding: 1em\"><div title=\"フィードバック:\n",
       "正答フィードバック:あなたの答えは正解です。\n",
       "部分フィードバック:あたなの答えは部分的に正解です。\n",
       "誤答フィードバック:あたなの答えは正しくありません。\">次の計算結果の値を求めよ。<br />\\( -7 + 9 \\)<div style=\"text-align:right;font-size:smaller\">（問題整理番号:005）</div><ol style=\"list-style-type:none\"><li title=\"点数:0\n",
       "フィードバック:丁寧に計算し直してみましょう。\"><input type=\"radio\" name=\"preview5\">\\( -7 \\)</li><li title=\"点数:0\n",
       "フィードバック:丁寧に計算し直してみましょう。\"><input type=\"radio\" name=\"preview5\">\\( -20 \\)</li><li title=\"点数:0\n",
       "フィードバック:丁寧に計算し直してみましょう。\"><input type=\"radio\" name=\"preview5\">\\( -14 \\)</li><li title=\"点数:100\"><input type=\"radio\" name=\"preview5\">\\( 2 \\)</li><li title=\"点数:0\n",
       "フィードバック:丁寧に計算し直してみましょう。\"><input type=\"radio\" name=\"preview5\">\\( -24 \\)</li></ol></div></div><div style=\"border: thin solid #000000; padding: 1em\"><div title=\"フィードバック:\n",
       "正答フィードバック:あなたの答えは正解です。\n",
       "部分フィードバック:あたなの答えは部分的に正解です。\n",
       "誤答フィードバック:あたなの答えは正しくありません。\">次の計算結果の値を求めよ。<br />\\( -8 + 5 \\)<div style=\"text-align:right;font-size:smaller\">（問題整理番号:009）</div><ol style=\"list-style-type:none\"><li title=\"点数:0\n",
       "フィードバック:丁寧に計算し直してみましょう。\"><input type=\"radio\" name=\"preview9\">\\( -16 \\)</li><li title=\"点数:0\n",
       "フィードバック:丁寧に計算し直してみましょう。\"><input type=\"radio\" name=\"preview9\">\\( -15 \\)</li><li title=\"点数:0\n",
       "フィードバック:丁寧に計算し直してみましょう。\"><input type=\"radio\" name=\"preview9\">\\( -7 \\)</li><li title=\"点数:100\"><input type=\"radio\" name=\"preview9\">\\( -3 \\)</li><li title=\"点数:0\n",
       "フィードバック:丁寧に計算し直してみましょう。\"><input type=\"radio\" name=\"preview9\">\\( -5 \\)</li></ol></div></div>"
      ],
      "text/plain": [
       "<IPython.core.display.HTML object>"
      ]
     },
     "metadata": {},
     "output_type": "display_data"
    }
   ],
   "source": [
    "ias_quizzes.preview(size=2, translate={'数式':'計算結果'})"
   ]
  },
  {
   "cell_type": "markdown",
   "metadata": {},
   "source": [
    "問題整理番号を本文に記載せず，問題表題にのみ付与する場合は次のようにオプションを付けます。"
   ]
  },
  {
   "cell_type": "code",
   "execution_count": 7,
   "metadata": {},
   "outputs": [
    {
     "data": {
      "text/html": [
       "<div style=\"border: thin solid #000000; padding: 1em\"><div title=\"フィードバック:\n",
       "正答フィードバック:あなたの答えは正解です。\n",
       "部分フィードバック:あたなの答えは部分的に正解です。\n",
       "誤答フィードバック:あたなの答えは正しくありません。\">次の数式の値を求めよ。<br />\\( -8 - 1 \\)<ol style=\"list-style-type:none\"><li title=\"点数:0\n",
       "フィードバック:丁寧に計算し直してみましょう。\"><input type=\"radio\" name=\"preview7\">\\( -2 \\)</li><li title=\"点数:0\n",
       "フィードバック:丁寧に計算し直してみましょう。\"><input type=\"radio\" name=\"preview7\">\\( -8 \\)</li><li title=\"点数:0\n",
       "フィードバック:丁寧に計算し直してみましょう。\"><input type=\"radio\" name=\"preview7\">\\( -3 \\)</li><li title=\"点数:0\n",
       "フィードバック:丁寧に計算し直してみましょう。\"><input type=\"radio\" name=\"preview7\">\\( 1 \\)</li><li title=\"点数:100\"><input type=\"radio\" name=\"preview7\">\\( -9 \\)</li></ol></div></div><div style=\"border: thin solid #000000; padding: 1em\"><div title=\"フィードバック:\n",
       "正答フィードバック:あなたの答えは正解です。\n",
       "部分フィードバック:あたなの答えは部分的に正解です。\n",
       "誤答フィードバック:あたなの答えは正しくありません。\">次の数式の値を求めよ。<br />\\( 7 + 9 \\)<ol style=\"list-style-type:none\"><li title=\"点数:0\n",
       "フィードバック:丁寧に計算し直してみましょう。\"><input type=\"radio\" name=\"preview2\">\\( 5 \\)</li><li title=\"点数:0\n",
       "フィードバック:丁寧に計算し直してみましょう。\"><input type=\"radio\" name=\"preview2\">\\( 20 \\)</li><li title=\"点数:0\n",
       "フィードバック:丁寧に計算し直してみましょう。\"><input type=\"radio\" name=\"preview2\">\\( 14 \\)</li><li title=\"点数:100\"><input type=\"radio\" name=\"preview2\">\\( 16 \\)</li><li title=\"点数:0\n",
       "フィードバック:丁寧に計算し直してみましょう。\"><input type=\"radio\" name=\"preview2\">\\( 11 \\)</li></ol></div></div>"
      ],
      "text/plain": [
       "<IPython.core.display.HTML object>"
      ]
     },
     "metadata": {},
     "output_type": "display_data"
    }
   ],
   "source": [
    "ias_quizzes.preview(size=2, show_quiz_number_adminonly=True)"
   ]
  },
  {
   "cell_type": "markdown",
   "metadata": {},
   "source": [
    "このようにして生成した結果は，**save**を使ってMoodleにインポート可能なファイルに保存することができます。"
   ]
  },
  {
   "cell_type": "code",
   "execution_count": 7,
   "metadata": {},
   "outputs": [],
   "source": [
    "ias_quizzes.save('integer_addition_simple_in_japanese.xml', translate={'数式':'計算結果'})"
   ]
  },
  {
   "cell_type": "markdown",
   "metadata": {},
   "source": [
    "実際にインポートして確認してみてください。なお，問題整理番号の表示が不要な場合は，**show_quiz_number=False**をオプションとして*save*に付けてください。"
   ]
  },
  {
   "cell_type": "markdown",
   "metadata": {},
   "source": [
    "## 最小限の問題サンプルの多少の改善"
   ]
  },
  {
   "cell_type": "markdown",
   "metadata": {},
   "source": [
    "次にもう少しだけ複雑な問題生成器を作成します。前述のものを少しだけ修正しています。"
   ]
  },
  {
   "cell_type": "code",
   "execution_count": 8,
   "metadata": {},
   "outputs": [],
   "source": [
    "class integer_addition(mxqg.Question):\n",
    "    def __init__(self, lower=-10, upper=10):\n",
    "        # 生成する整数の範囲を指定できるように修正\n",
    "        self.lower = lower\n",
    "        self.upper = upper\n",
    "    def question_generate(self, _quiz_number=0):\n",
    "        quiz = mxqg.Quiz(name='整数の足し算', quiz_number=_quiz_number, lang='ja')\n",
    "        # 問題データの生成（SymPyは，0を計算せずにLaTeXへは変換できないので，0を除外してる）\n",
    "        quiz.data = [random.choice(list(set(range(self.lower, self.upper + 1))-{0})) for i in range(2)]\n",
    "        quiz.quiz_identifier = hash('{}+{}'.format(quiz.data[0], quiz.data[1]))\n",
    "        # 正答の生成\n",
    "        quiz.data.append(quiz.data[0] + quiz.data[1])  \n",
    "        # 正答の選択肢の生成\n",
    "        ans = { 'fraction': 100, 'data': quiz.data[2] }\n",
    "        quiz.answers.append(ans)\n",
    "        return quiz        \n",
    "    def correct_answers_generate(self, quiz, size=1):\n",
    "        # 正答を個別には作らないので何もしない\n",
    "        pass\n",
    "    def incorrect_answers_generate(self, quiz, size=4):\n",
    "        answers = []\n",
    "        ans = { 'fraction': 0 }\n",
    "        # 二項演算子の勘違い\n",
    "        ans['data'] = quiz.data[0] - quiz.data[1]\n",
    "        ans['feedback'] = '引き算ではありません。'\n",
    "        if ans['data'] != quiz.data[2]:\n",
    "            answers.append(dict(ans))\n",
    "        ans['data'] = quiz.data[0] * quiz.data[1]\n",
    "        ans['feedback'] = '掛け算ではありません。'\n",
    "        if ans['data'] != quiz.data[2]:\n",
    "            answers.append(dict(ans))\n",
    "        if quiz.data[1] != 0:\n",
    "            ans['data'] = sympy.Rational(quiz.data[0], quiz.data[1])\n",
    "            ans['feedback'] = '割り算ではありません。'\n",
    "            if ans['data'] != quiz.data[2]:\n",
    "                answers.append(dict(ans))\n",
    "        answers = mxqg_common.answer_union(answers)\n",
    "        if len(answers) >= size:\n",
    "            return random.sample(answers,k=size)\n",
    "        # ランダムに誤答を作る（本来は推奨されない）\n",
    "        count = 0\n",
    "        ans['data'] = quiz.data[0] + quiz.data[1]\n",
    "        while len(answers) < size and count < 10:\n",
    "            count += 1\n",
    "            ans['data'] += random.randint(self.lower, self.upper)\n",
    "            ans['feedback'] = '丁寧に計算し直してみましょう。'\n",
    "            if ans['data'] != quiz.data[2]:\n",
    "                answers.append(dict(ans))\n",
    "            answers = mxqg_common.answer_union(answers)\n",
    "        return answers    \n",
    "    def question_text(self, quiz):\n",
    "        return '次の数式の値を求めよ。<br />' + \\\n",
    "                mxqg_common.sympy_str_to_text('{}+{}'.format(quiz.data[0], quiz.data[1]))\n",
    "    def answer_text(self, ans):\n",
    "        return mxqg_common.sympy_expr_to_text(ans['data'])"
   ]
  },
  {
   "cell_type": "markdown",
   "metadata": {},
   "source": [
    "問題生成器が引数を取れるのであれば，インスタンス生成時に与えるようにします。"
   ]
  },
  {
   "cell_type": "code",
   "execution_count": 14,
   "metadata": {},
   "outputs": [],
   "source": [
    "ia = integer_addition(lower=-500, upper=500)\n",
    "ia_quizzes = mxqg.generate(ia, category='最小限の問題サンプルの多少の改善')"
   ]
  },
  {
   "cell_type": "markdown",
   "metadata": {},
   "source": [
    "なお，プレビュー時には，フィードバックや割り当てられた得点などが，マウスを選択肢などに重ねた際に，ポップアップ表示されるようになっているので，確認してみてください。"
   ]
  },
  {
   "cell_type": "code",
   "execution_count": 15,
   "metadata": {},
   "outputs": [
    {
     "data": {
      "text/html": [
       "<div style=\"border: thin solid #000000; padding: 1em\"><div title=\"フィードバック:\n",
       "正答フィードバック:あなたの答えは正解です。\n",
       "部分フィードバック:あたなの答えは部分的に正解です。\n",
       "誤答フィードバック:あたなの答えは正しくありません。\">次の数式の値を求めよ。<br />\\( 54 + 298 \\)<div style=\"text-align:right;font-size:smaller\">（問題整理番号:001）</div><ol style=\"list-style-type:none\"><li title=\"点数:100\"><input type=\"radio\" name=\"preview1\">\\( 352 \\)</li><li title=\"点数:0\n",
       "フィードバック:掛け算ではありません。\"><input type=\"radio\" name=\"preview1\">\\( 16092 \\)</li><li title=\"点数:0\n",
       "フィードバック:丁寧に計算し直してみましょう。\"><input type=\"radio\" name=\"preview1\">\\( 724 \\)</li><li title=\"点数:0\n",
       "フィードバック:割り算ではありません。\"><input type=\"radio\" name=\"preview1\">\\( \\frac{27}{149} \\)</li><li title=\"点数:0\n",
       "フィードバック:引き算ではありません。\"><input type=\"radio\" name=\"preview1\">\\( -244 \\)</li></ol></div></div><div style=\"border: thin solid #000000; padding: 1em\"><div title=\"フィードバック:\n",
       "正答フィードバック:あなたの答えは正解です。\n",
       "部分フィードバック:あたなの答えは部分的に正解です。\n",
       "誤答フィードバック:あたなの答えは正しくありません。\">次の数式の値を求めよ。<br />\\( -399 - 280 \\)<div style=\"text-align:right;font-size:smaller\">（問題整理番号:004）</div><ol style=\"list-style-type:none\"><li title=\"点数:100\"><input type=\"radio\" name=\"preview4\">\\( -679 \\)</li><li title=\"点数:0\n",
       "フィードバック:引き算ではありません。\"><input type=\"radio\" name=\"preview4\">\\( -119 \\)</li><li title=\"点数:0\n",
       "フィードバック:丁寧に計算し直してみましょう。\"><input type=\"radio\" name=\"preview4\">\\( -706 \\)</li><li title=\"点数:0\n",
       "フィードバック:割り算ではありません。\"><input type=\"radio\" name=\"preview4\">\\( \\frac{57}{40} \\)</li><li title=\"点数:0\n",
       "フィードバック:掛け算ではありません。\"><input type=\"radio\" name=\"preview4\">\\( 111720 \\)</li></ol></div></div>"
      ],
      "text/plain": [
       "<IPython.core.display.HTML object>"
      ]
     },
     "metadata": {},
     "output_type": "display_data"
    }
   ],
   "source": [
    "ia_quizzes.preview(size=2)"
   ]
  },
  {
   "cell_type": "markdown",
   "metadata": {},
   "source": [
    "ファイルへの出力は，XML形式だけではなく，**internal=True**を指定することで，オブジェクトのまま保存することも可能です。"
   ]
  },
  {
   "cell_type": "code",
   "execution_count": 17,
   "metadata": {},
   "outputs": [],
   "source": [
    "ia_quizzes.save('integer_addition_in_japanese.pickle', internal=True)"
   ]
  },
  {
   "cell_type": "markdown",
   "metadata": {},
   "source": [
    "この形式で保存したものは，あとで作業のために再度読み込めます。読み込みには，**load_internal**を使ってください。"
   ]
  },
  {
   "cell_type": "code",
   "execution_count": 18,
   "metadata": {},
   "outputs": [],
   "source": [
    "ia_quizzes = mxqg.load_internal('integer_addition_in_japanese.pickle')"
   ]
  },
  {
   "cell_type": "code",
   "execution_count": 19,
   "metadata": {},
   "outputs": [
    {
     "data": {
      "text/html": [
       "<div style=\"border: thin solid #000000; padding: 1em\"><div title=\"フィードバック:\n",
       "正答フィードバック:あなたの答えは正解です。\n",
       "部分フィードバック:あたなの答えは部分的に正解です。\n",
       "誤答フィードバック:あたなの答えは正しくありません。\">次の数式の値を求めよ。<br />\\( 295 + 328 \\)<div style=\"text-align:right;font-size:smaller\">（問題整理番号:003）</div><ol style=\"list-style-type:none\"><li title=\"点数:100\"><input type=\"radio\" name=\"preview3\">\\( 623 \\)</li><li title=\"点数:0\n",
       "フィードバック:丁寧に計算し直してみましょう。\"><input type=\"radio\" name=\"preview3\">\\( 797 \\)</li><li title=\"点数:0\n",
       "フィードバック:引き算ではありません。\"><input type=\"radio\" name=\"preview3\">\\( 33 \\)</li><li title=\"点数:0\n",
       "フィードバック:掛け算ではありません。\"><input type=\"radio\" name=\"preview3\">\\( 96760 \\)</li><li title=\"点数:0\n",
       "フィードバック:割り算ではありません。\"><input type=\"radio\" name=\"preview3\">\\( \\frac{328}{295} \\)</li></ol></div></div>"
      ],
      "text/plain": [
       "<IPython.core.display.HTML object>"
      ]
     },
     "metadata": {},
     "output_type": "display_data"
    }
   ],
   "source": [
    "ia_quizzes.preview(size=1)"
   ]
  },
  {
   "cell_type": "markdown",
   "metadata": {},
   "source": [
    "なお，一旦，XML形式に変換したものであっても，再度読み込むことは可能です。"
   ]
  },
  {
   "cell_type": "code",
   "execution_count": 21,
   "metadata": {},
   "outputs": [],
   "source": [
    "ia_quizzes.save('integer_addition_in_japanese.xml')"
   ]
  },
  {
   "cell_type": "markdown",
   "metadata": {},
   "source": [
    "XML形式からの読み込みには，**load_xml**を使います。ただし，XML形式からの読み込み時には，問題生成時には存在した問題作成用の内部データ（*data*）や本来の問題整理番号（*quiz_number*）や区別子（*quiz_identifier*）は存在しないので，少しだけ注意が必要です。"
   ]
  },
  {
   "cell_type": "code",
   "execution_count": 22,
   "metadata": {},
   "outputs": [],
   "source": [
    "ia_quizzes = mxqg.load_xml('integer_addition_in_japanese.xml')"
   ]
  },
  {
   "cell_type": "markdown",
   "metadata": {},
   "source": [
    "具体的には，*preview*やさらなる*save*のときには，**show_quiz_number=False**を付けてあげる必要があります。"
   ]
  },
  {
   "cell_type": "code",
   "execution_count": 23,
   "metadata": {},
   "outputs": [
    {
     "data": {
      "text/html": [
       "<div style=\"border: thin solid #000000; padding: 1em\"><div title=\"フィードバック:\n",
       "正答フィードバック:あなたの答えは正解です。\n",
       "部分フィードバック:あたなの答えは部分的に正解です。\n",
       "誤答フィードバック:あたなの答えは正しくありません。\">次の数式の値を求めよ。<br />\\( 295 + 328 \\)<div style=\"text-align:right;font-size:smaller\">（問題整理番号:003）</div><ol style=\"list-style-type:none\"><li title=\"点数:0.0\n",
       "フィードバック:掛け算ではありません。\"><input type=\"radio\" name=\"preview0\">\\( 96760 \\)</li><li title=\"点数:100.0\"><input type=\"radio\" name=\"preview0\">\\( 623 \\)</li><li title=\"点数:0.0\n",
       "フィードバック:引き算ではありません。\"><input type=\"radio\" name=\"preview0\">\\( 33 \\)</li><li title=\"点数:0.0\n",
       "フィードバック:丁寧に計算し直してみましょう。\"><input type=\"radio\" name=\"preview0\">\\( 797 \\)</li><li title=\"点数:0.0\n",
       "フィードバック:割り算ではありません。\"><input type=\"radio\" name=\"preview0\">\\( \\frac{328}{295} \\)</li></ol></div></div>"
      ],
      "text/plain": [
       "<IPython.core.display.HTML object>"
      ]
     },
     "metadata": {},
     "output_type": "display_data"
    }
   ],
   "source": [
    "ia_quizzes.preview(size=1, show_quiz_number=False)"
   ]
  },
  {
   "cell_type": "code",
   "execution_count": null,
   "metadata": {},
   "outputs": [],
   "source": []
  }
 ],
 "metadata": {
  "kernelspec": {
   "display_name": "Python 3",
   "language": "python",
   "name": "python3"
  },
  "language_info": {
   "codemirror_mode": {
    "name": "ipython",
    "version": 3
   },
   "file_extension": ".py",
   "mimetype": "text/x-python",
   "name": "python",
   "nbconvert_exporter": "python",
   "pygments_lexer": "ipython3",
   "version": "3.7.6"
  },
  "toc": {
   "base_numbering": 1,
   "nav_menu": {},
   "number_sections": true,
   "sideBar": true,
   "skip_h1_title": false,
   "title_cell": "Table of Contents",
   "title_sidebar": "Contents",
   "toc_cell": false,
   "toc_position": {},
   "toc_section_display": true,
   "toc_window_display": false
  }
 },
 "nbformat": 4,
 "nbformat_minor": 2
}
