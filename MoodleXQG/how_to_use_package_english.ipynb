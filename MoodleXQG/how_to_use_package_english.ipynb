{
 "cells": [
  {
   "cell_type": "markdown",
   "metadata": {},
   "source": [
    "Moodle XML Question Generator, (C) 2019-2020 Kosaku Nagasaka (Kobe University)"
   ]
  },
  {
   "cell_type": "markdown",
   "metadata": {},
   "source": [
    "# how to use moodle_xqg"
   ]
  },
  {
   "cell_type": "markdown",
   "metadata": {},
   "source": [
    "The basic usage of moodle_xqg (Moodle XML Question Generator for Python) is as follows."
   ]
  },
  {
   "cell_type": "markdown",
   "metadata": {},
   "source": [
    "## loading the package"
   ]
  },
  {
   "cell_type": "markdown",
   "metadata": {},
   "source": [
    "**moodle_xqg.core** is required mandatory. **moodle_xqgb.qbank.common** is not required but recommended since this includes some useful functions (e.g. deleting duplicate answers)."
   ]
  },
  {
   "cell_type": "code",
   "execution_count": 1,
   "metadata": {},
   "outputs": [],
   "source": [
    "import moodle_xqg.core as mxqg\n",
    "import moodle_xqg.qbank.common as mxqg_common"
   ]
  },
  {
   "cell_type": "markdown",
   "metadata": {},
   "source": [
    "Mostly the following modules are necessary. For example, random integer generations and manipulating mathematical expressions are very common tasks."
   ]
  },
  {
   "cell_type": "code",
   "execution_count": 2,
   "metadata": {},
   "outputs": [],
   "source": [
    "import random\n",
    "import sympy"
   ]
  },
  {
   "cell_type": "markdown",
   "metadata": {},
   "source": [
    "## minimum example of question generator"
   ]
  },
  {
   "cell_type": "markdown",
   "metadata": {},
   "source": [
    "Your question generator must be defined as a child class of **Question**, and the class implements the following 5 methods: **question_generate**, **correct_answers_generate**, **incorrect_answers_generate**, **question_text** and **answer_text**."
   ]
  },
  {
   "cell_type": "markdown",
   "metadata": {},
   "source": [
    "Your question generator class has to generate the identifier of each quiz and store it in the variable **Quiz.quiz_identifier**. The package distinguish quizzes by this value. Therefore, the package generates only one quiz if you forget to implement this part."
   ]
  },
  {
   "cell_type": "code",
   "execution_count": 3,
   "metadata": {},
   "outputs": [],
   "source": [
    "class integer_addition_simple(mxqg.Question):\n",
    "    def question_generate(self, _quiz_number=0):\n",
    "        quiz = mxqg.Quiz(name='addition of integers', quiz_number=_quiz_number)\n",
    "        # generates a quiz data \n",
    "        quiz.data = [random.choice([-9,-8,-7,-6,-5,-4,-3,-2,-1,1,2,3,4,5,6,7,8,9]) for i in range(2)]\n",
    "        quiz.quiz_identifier = hash('{}+{}'.format(quiz.data[0], quiz.data[1]))\n",
    "        # generates the correct answer\n",
    "        quiz.data.append(quiz.data[0] + quiz.data[1])\n",
    "        # generates the correct choice\n",
    "        ans = { 'fraction': 100, 'data': quiz.data[2] }\n",
    "        quiz.answers.append(ans)\n",
    "        return quiz        \n",
    "    def correct_answers_generate(self, quiz, size=1):\n",
    "        # nothing to do since we already have the correct answer generated\n",
    "        pass\n",
    "    def incorrect_answers_generate(self, quiz, size=4):\n",
    "        # generates incorrect choices randomly (simple random generation is not recommended though)\n",
    "        answers = []\n",
    "        ans = { 'fraction': 0, 'data': quiz.data[2] }\n",
    "        while len(answers) < size:\n",
    "            ans['data'] += random.randint(-9,9)\n",
    "            ans['feedback'] = 'think and compute carefully. it is just a simple addition.'\n",
    "            if ans['data'] != quiz.data[2]:\n",
    "                answers.append(dict(ans)) # you may need to copy the object if reuse it\n",
    "            answers = mxqg_common.answer_union(answers)\n",
    "        return answers    \n",
    "    def question_text(self, quiz):\n",
    "        return 'Choose the result of the following arithmetic.<br />' + \\\n",
    "                mxqg_common.sympy_str_to_text('{}+{}'.format(quiz.data[0], quiz.data[1]))\n",
    "    def answer_text(self, ans):\n",
    "        return mxqg_common.sympy_expr_to_text(ans['data'])"
   ]
  },
  {
   "cell_type": "markdown",
   "metadata": {},
   "source": [
    "To generate actual quizzes, the **generate** method is used. However, before calling the method, we have to generate an instance of the question generator. The number of quizzes to be generated is specified by **size=100** for *generate* (in the default, 10 quizzes will be generated)."
   ]
  },
  {
   "cell_type": "code",
   "execution_count": 4,
   "metadata": {},
   "outputs": [],
   "source": [
    "ias = integer_addition_simple()\n",
    "ias_quizzes = mxqg.generate(ias, category='minimum example', size=5)"
   ]
  },
  {
   "cell_type": "markdown",
   "metadata": {},
   "source": [
    "The result of question generation is an instance of the **Quizzes** class. We can use the methods of the class as follows."
   ]
  },
  {
   "cell_type": "code",
   "execution_count": 5,
   "metadata": {},
   "outputs": [
    {
     "data": {
      "text/html": [
       "<ul><li>minimum example<ul><li>addition of integers (id:001)</li><li>addition of integers (id:002)</li><li>addition of integers (id:003)</li><li>addition of integers (id:004)</li><li>addition of integers (id:005)</li></ul></li></ul>"
      ],
      "text/plain": [
       "<IPython.core.display.HTML object>"
      ]
     },
     "metadata": {},
     "output_type": "display_data"
    }
   ],
   "source": [
    "ias_quizzes.listview()"
   ]
  },
  {
   "cell_type": "markdown",
   "metadata": {},
   "source": [
    "In the following preview, the scores and feedbacks will be appeared as mouse over text."
   ]
  },
  {
   "cell_type": "code",
   "execution_count": 6,
   "metadata": {},
   "outputs": [
    {
     "data": {
      "text/html": [
       "<div style=\"border: thin solid #000000; padding: 1em\"><div title=\"General Feedback:\n",
       "Correct Feedback:Your answer is correct.\n",
       "Partially Correct Feedback:Your answer is incorrect.\n",
       "Incorrect Feedback:Your answer is partially correct.\">Choose the result of the following arithmetic.<br />\\( 1 + 5 \\)<div style=\"text-align:right;font-size:smaller\">(Quiz ID:001)</div><ol style=\"list-style-type:none\"><li title=\"Score:0\n",
       "Feedback:think and compute carefully. it is just a simple addition.\"><input type=\"radio\" name=\"preview1\">\\( -7 \\)</li><li title=\"Score:100\"><input type=\"radio\" name=\"preview1\">\\( 6 \\)</li><li title=\"Score:0\n",
       "Feedback:think and compute carefully. it is just a simple addition.\"><input type=\"radio\" name=\"preview1\">\\( -12 \\)</li><li title=\"Score:0\n",
       "Feedback:think and compute carefully. it is just a simple addition.\"><input type=\"radio\" name=\"preview1\">\\( -2 \\)</li><li title=\"Score:0\n",
       "Feedback:think and compute carefully. it is just a simple addition.\"><input type=\"radio\" name=\"preview1\">\\( -10 \\)</li></ol></div></div><div style=\"border: thin solid #000000; padding: 1em\"><div title=\"General Feedback:\n",
       "Correct Feedback:Your answer is correct.\n",
       "Partially Correct Feedback:Your answer is incorrect.\n",
       "Incorrect Feedback:Your answer is partially correct.\">Choose the result of the following arithmetic.<br />\\( -8 + 6 \\)<div style=\"text-align:right;font-size:smaller\">(Quiz ID:003)</div><ol style=\"list-style-type:none\"><li title=\"Score:0\n",
       "Feedback:think and compute carefully. it is just a simple addition.\"><input type=\"radio\" name=\"preview3\">\\( 12 \\)</li><li title=\"Score:0\n",
       "Feedback:think and compute carefully. it is just a simple addition.\"><input type=\"radio\" name=\"preview3\">\\( 5 \\)</li><li title=\"Score:0\n",
       "Feedback:think and compute carefully. it is just a simple addition.\"><input type=\"radio\" name=\"preview3\">\\( 2 \\)</li><li title=\"Score:100\"><input type=\"radio\" name=\"preview3\">\\( -2 \\)</li><li title=\"Score:0\n",
       "Feedback:think and compute carefully. it is just a simple addition.\"><input type=\"radio\" name=\"preview3\">\\( 4 \\)</li></ol></div></div>"
      ],
      "text/plain": [
       "<IPython.core.display.HTML object>"
      ]
     },
     "metadata": {},
     "output_type": "display_data"
    }
   ],
   "source": [
    "ias_quizzes.preview(size=2)"
   ]
  },
  {
   "cell_type": "markdown",
   "metadata": {},
   "source": [
    "Without modifying the definition of the question generator class, we can translate the messages by specifying the *translate* option (dict). However, please note that this does not change the instance, and it changed just a preview only."
   ]
  },
  {
   "cell_type": "code",
   "execution_count": 9,
   "metadata": {},
   "outputs": [
    {
     "data": {
      "text/html": [
       "<div style=\"border: thin solid #000000; padding: 1em\"><div title=\"General Feedback:\n",
       "Correct Feedback:Your answer is correct.\n",
       "Partially Correct Feedback:Your answer is incorrect.\n",
       "Incorrect Feedback:Your answer is partially correct.\">Choose the result of the following mathematical expression.<br />\\( -3 + 3 \\)<div style=\"text-align:right;font-size:smaller\">(Quiz ID:005)</div><ol style=\"list-style-type:none\"><li title=\"Score:100\"><input type=\"radio\" name=\"preview5\">\\( 0 \\)</li><li title=\"Score:0\n",
       "Feedback:think and compute carefully. it is just a simple addition.\"><input type=\"radio\" name=\"preview5\">\\( 17 \\)</li><li title=\"Score:0\n",
       "Feedback:think and compute carefully. it is just a simple addition.\"><input type=\"radio\" name=\"preview5\">\\( 8 \\)</li><li title=\"Score:0\n",
       "Feedback:think and compute carefully. it is just a simple addition.\"><input type=\"radio\" name=\"preview5\">\\( 15 \\)</li><li title=\"Score:0\n",
       "Feedback:think and compute carefully. it is just a simple addition.\"><input type=\"radio\" name=\"preview5\">\\( 9 \\)</li></ol></div></div><div style=\"border: thin solid #000000; padding: 1em\"><div title=\"General Feedback:\n",
       "Correct Feedback:Your answer is correct.\n",
       "Partially Correct Feedback:Your answer is incorrect.\n",
       "Incorrect Feedback:Your answer is partially correct.\">Choose the result of the following mathematical expression.<br />\\( 6 + 7 \\)<div style=\"text-align:right;font-size:smaller\">(Quiz ID:002)</div><ol style=\"list-style-type:none\"><li title=\"Score:0\n",
       "Feedback:think and compute carefully. it is just a simple addition.\"><input type=\"radio\" name=\"preview2\">\\( 19 \\)</li><li title=\"Score:0\n",
       "Feedback:think and compute carefully. it is just a simple addition.\"><input type=\"radio\" name=\"preview2\">\\( 21 \\)</li><li title=\"Score:0\n",
       "Feedback:think and compute carefully. it is just a simple addition.\"><input type=\"radio\" name=\"preview2\">\\( 29 \\)</li><li title=\"Score:0\n",
       "Feedback:think and compute carefully. it is just a simple addition.\"><input type=\"radio\" name=\"preview2\">\\( 22 \\)</li><li title=\"Score:100\"><input type=\"radio\" name=\"preview2\">\\( 13 \\)</li></ol></div></div>"
      ],
      "text/plain": [
       "<IPython.core.display.HTML object>"
      ]
     },
     "metadata": {},
     "output_type": "display_data"
    }
   ],
   "source": [
    "ias_quizzes.preview(size=2, translate={'arithmetic':'mathematical expression'})"
   ]
  },
  {
   "cell_type": "markdown",
   "metadata": {},
   "source": [
    "Use the *show_quiz_number_adminonly* option to disable the quiz id appearance."
   ]
  },
  {
   "cell_type": "code",
   "execution_count": 10,
   "metadata": {},
   "outputs": [
    {
     "data": {
      "text/html": [
       "<div style=\"border: thin solid #000000; padding: 1em\"><div title=\"General Feedback:\n",
       "Correct Feedback:Your answer is correct.\n",
       "Partially Correct Feedback:Your answer is incorrect.\n",
       "Incorrect Feedback:Your answer is partially correct.\">Choose the result of the following arithmetic.<br />\\( -2 + 4 \\)<ol style=\"list-style-type:none\"><li title=\"Score:0\n",
       "Feedback:think and compute carefully. it is just a simple addition.\"><input type=\"radio\" name=\"preview4\">\\( -4 \\)</li><li title=\"Score:0\n",
       "Feedback:think and compute carefully. it is just a simple addition.\"><input type=\"radio\" name=\"preview4\">\\( -5 \\)</li><li title=\"Score:0\n",
       "Feedback:think and compute carefully. it is just a simple addition.\"><input type=\"radio\" name=\"preview4\">\\( -3 \\)</li><li title=\"Score:100\"><input type=\"radio\" name=\"preview4\">\\( 2 \\)</li><li title=\"Score:0\n",
       "Feedback:think and compute carefully. it is just a simple addition.\"><input type=\"radio\" name=\"preview4\">\\( -12 \\)</li></ol></div></div><div style=\"border: thin solid #000000; padding: 1em\"><div title=\"General Feedback:\n",
       "Correct Feedback:Your answer is correct.\n",
       "Partially Correct Feedback:Your answer is incorrect.\n",
       "Incorrect Feedback:Your answer is partially correct.\">Choose the result of the following arithmetic.<br />\\( -3 + 3 \\)<ol style=\"list-style-type:none\"><li title=\"Score:0\n",
       "Feedback:think and compute carefully. it is just a simple addition.\"><input type=\"radio\" name=\"preview5\">\\( 9 \\)</li><li title=\"Score:0\n",
       "Feedback:think and compute carefully. it is just a simple addition.\"><input type=\"radio\" name=\"preview5\">\\( 17 \\)</li><li title=\"Score:0\n",
       "Feedback:think and compute carefully. it is just a simple addition.\"><input type=\"radio\" name=\"preview5\">\\( 8 \\)</li><li title=\"Score:100\"><input type=\"radio\" name=\"preview5\">\\( 0 \\)</li><li title=\"Score:0\n",
       "Feedback:think and compute carefully. it is just a simple addition.\"><input type=\"radio\" name=\"preview5\">\\( 15 \\)</li></ol></div></div>"
      ],
      "text/plain": [
       "<IPython.core.display.HTML object>"
      ]
     },
     "metadata": {},
     "output_type": "display_data"
    }
   ],
   "source": [
    "ias_quizzes.preview(size=2, show_quiz_number_adminonly=True)"
   ]
  },
  {
   "cell_type": "markdown",
   "metadata": {},
   "source": [
    "Finally, the **save** method writes the quizzes in the specified file in the Moodle XML format that can be imported to Moodle."
   ]
  },
  {
   "cell_type": "code",
   "execution_count": 7,
   "metadata": {},
   "outputs": [],
   "source": [
    "ias_quizzes.save('integer_addition_simple_in_english.xml', translate={'arithmetic':'mathematical expression'})"
   ]
  },
  {
   "cell_type": "markdown",
   "metadata": {},
   "source": [
    "Moreover, if you do not need the quiz id in the question text, specify **show_quiz_number=False** as an additional option to *save*."
   ]
  },
  {
   "cell_type": "markdown",
   "metadata": {},
   "source": [
    "## refined minimum example of question generator"
   ]
  },
  {
   "cell_type": "markdown",
   "metadata": {},
   "source": [
    "The following generator is a refined one based on the previous minimum example."
   ]
  },
  {
   "cell_type": "code",
   "execution_count": 4,
   "metadata": {},
   "outputs": [],
   "source": [
    "class integer_addition(integer_addition_simple):\n",
    "    def __init__(self, lower=-10, upper=10):\n",
    "        # now we can specify the range of integers to be generated.\n",
    "        self.lower = lower\n",
    "        self.upper = upper\n",
    "    def question_generate(self, _quiz_number=0):\n",
    "        quiz = mxqg.Quiz(name='addition of integers', quiz_number=_quiz_number)\n",
    "        # generates a quiz data (exclude 0 since SymPy can not convert 0 to LaTeX)\n",
    "        quiz.data = [random.choice(list(set(range(self.lower, self.upper + 1))-{0})) for i in range(2)]\n",
    "        quiz.quiz_identifier = hash('{}+{}'.format(quiz.data[0], quiz.data[1]))\n",
    "        # generates the correct answer\n",
    "        quiz.data.append(quiz.data[0] + quiz.data[1])  \n",
    "        # generates the correct choice\n",
    "        ans = { 'fraction': 100, 'data': quiz.data[2] }\n",
    "        quiz.answers.append(ans)\n",
    "        return quiz        \n",
    "    def incorrect_answers_generate(self, quiz, size=7):\n",
    "        answers = []\n",
    "        ans = { 'fraction': 0 }\n",
    "        # using incorrect binary operator\n",
    "        ans['data'] = quiz.data[0] - quiz.data[1]\n",
    "        ans['feedback'] = 'The given arithmetic is not a substraction.'\n",
    "        if ans['data'] != quiz.data[2]:\n",
    "            answers.append(dict(ans))\n",
    "        ans['data'] = quiz.data[0] * quiz.data[1]\n",
    "        ans['feedback'] = 'The given arithmetic is not a multiplication.'\n",
    "        if ans['data'] != quiz.data[2]:\n",
    "            answers.append(dict(ans))\n",
    "        if quiz.data[1] != 0:\n",
    "            ans['data'] = sympy.Rational(quiz.data[0], quiz.data[1])\n",
    "            ans['feedback'] = 'The given arithmetic is not a division.'\n",
    "            if ans['data'] != quiz.data[2]:\n",
    "                answers.append(dict(ans))\n",
    "        answers = mxqg_common.answer_union(answers)\n",
    "        if len(answers) >= size:\n",
    "            return random.sample(answers,k=size)\n",
    "        # generates incorrect choices randomly (simple random generation is not recommended though)\n",
    "        count = 0\n",
    "        ans['data'] = quiz.data[0] + quiz.data[1]\n",
    "        while len(answers) < size and count < 10:\n",
    "            count += 1\n",
    "            ans['data'] += random.randint(self.lower, self.upper)\n",
    "            ans['feedback'] = 'think and compute carefully. it is just a simple addition.'\n",
    "            if ans['data'] != quiz.data[2]:\n",
    "                answers.append(dict(ans))\n",
    "            answers = mxqg_common.answer_union(answers)\n",
    "        return answers    "
   ]
  },
  {
   "cell_type": "markdown",
   "metadata": {},
   "source": [
    "Now we can control the behaviors of the generator by its initial arguments."
   ]
  },
  {
   "cell_type": "code",
   "execution_count": 5,
   "metadata": {},
   "outputs": [],
   "source": [
    "ia = integer_addition(lower=-500, upper=500)\n",
    "ia_quizzes = mxqg.generate(ia, category='refined minimum example')"
   ]
  },
  {
   "cell_type": "markdown",
   "metadata": {},
   "source": [
    "Please take a look at the mouse over text."
   ]
  },
  {
   "cell_type": "code",
   "execution_count": 7,
   "metadata": {},
   "outputs": [
    {
     "data": {
      "text/html": [
       "<div style=\"border: thin solid #000000; padding: 1em\"><div title=\"General Feedback:\n",
       "Correct Feedback:Your answer is correct.\n",
       "Partially Correct Feedback:Your answer is incorrect.\n",
       "Incorrect Feedback:Your answer is partially correct.\">Choose the result of the following arithmetic.<br />\\( 79 + 240 \\)<div style=\"text-align:right;font-size:smaller\">(Quiz ID:003)</div><ol style=\"list-style-type:none\"><li title=\"Score:0\n",
       "Feedback:The given arithmetic is not a substraction.\"><input type=\"radio\" name=\"preview3\">\\( 161 \\)</li><li title=\"Score:0\n",
       "Feedback:think and compute carefully. it is just a simple addition.\"><input type=\"radio\" name=\"preview3\">\\( 614 \\)</li><li title=\"Score:100\"><input type=\"radio\" name=\"preview3\">\\( 319 \\)</li><li title=\"Score:0\n",
       "Feedback:The given arithmetic is not a division.\"><input type=\"radio\" name=\"preview3\">\\( \\frac{240}{79} \\)</li><li title=\"Score:0\n",
       "Feedback:think and compute carefully. it is just a simple addition.\"><input type=\"radio\" name=\"preview3\">\\( 743 \\)</li><li title=\"Score:0\n",
       "Feedback:think and compute carefully. it is just a simple addition.\"><input type=\"radio\" name=\"preview3\">\\( 725 \\)</li><li title=\"Score:0\n",
       "Feedback:The given arithmetic is not a multiplication.\"><input type=\"radio\" name=\"preview3\">\\( 18960 \\)</li><li title=\"Score:0\n",
       "Feedback:think and compute carefully. it is just a simple addition.\"><input type=\"radio\" name=\"preview3\">\\( 744 \\)</li></ol></div></div><div style=\"border: thin solid #000000; padding: 1em\"><div title=\"General Feedback:\n",
       "Correct Feedback:Your answer is correct.\n",
       "Partially Correct Feedback:Your answer is incorrect.\n",
       "Incorrect Feedback:Your answer is partially correct.\">Choose the result of the following arithmetic.<br />\\( -467 - 57 \\)<div style=\"text-align:right;font-size:smaller\">(Quiz ID:005)</div><ol style=\"list-style-type:none\"><li title=\"Score:0\n",
       "Feedback:The given arithmetic is not a division.\"><input type=\"radio\" name=\"preview5\">\\( \\frac{57}{467} \\)</li><li title=\"Score:0\n",
       "Feedback:The given arithmetic is not a multiplication.\"><input type=\"radio\" name=\"preview5\">\\( 26619 \\)</li><li title=\"Score:0\n",
       "Feedback:The given arithmetic is not a substraction.\"><input type=\"radio\" name=\"preview5\">\\( 410 \\)</li><li title=\"Score:0\n",
       "Feedback:think and compute carefully. it is just a simple addition.\"><input type=\"radio\" name=\"preview5\">\\( 81 \\)</li><li title=\"Score:0\n",
       "Feedback:think and compute carefully. it is just a simple addition.\"><input type=\"radio\" name=\"preview5\">\\( -116 \\)</li><li title=\"Score:0\n",
       "Feedback:think and compute carefully. it is just a simple addition.\"><input type=\"radio\" name=\"preview5\">\\( -474 \\)</li><li title=\"Score:100\"><input type=\"radio\" name=\"preview5\">\\( -524 \\)</li><li title=\"Score:0\n",
       "Feedback:think and compute carefully. it is just a simple addition.\"><input type=\"radio\" name=\"preview5\">\\( -173 \\)</li></ol></div></div>"
      ],
      "text/plain": [
       "<IPython.core.display.HTML object>"
      ]
     },
     "metadata": {},
     "output_type": "display_data"
    }
   ],
   "source": [
    "ia_quizzes.preview(size=2)"
   ]
  },
  {
   "cell_type": "markdown",
   "metadata": {},
   "source": [
    "With the **internal=True** option, you can save the quizzes in the pickle format other than the Moodle XML format."
   ]
  },
  {
   "cell_type": "code",
   "execution_count": 15,
   "metadata": {},
   "outputs": [],
   "source": [
    "ia_quizzes.save('integer_addition_in_english.pickle', internal=True)"
   ]
  },
  {
   "cell_type": "markdown",
   "metadata": {},
   "source": [
    "To load the exported quizzes, use the **load_internal** method."
   ]
  },
  {
   "cell_type": "code",
   "execution_count": 16,
   "metadata": {},
   "outputs": [],
   "source": [
    "ia_quizzes = mxqg.load_internal('integer_addition_in_english.pickle')"
   ]
  },
  {
   "cell_type": "code",
   "execution_count": 17,
   "metadata": {},
   "outputs": [
    {
     "data": {
      "text/html": [
       "<div style=\"border: thin solid #000000; padding: 1em\"><div title=\"General Feedback:\n",
       "Correct Feedback:Your answer is correct.\n",
       "Partially Correct Feedback:Your answer is incorrect.\n",
       "Incorrect Feedback:Your answer is partially correct.\">Choose the result of the following arithmetic.<br />\\( -188 + 375 \\)<div style=\"text-align:right;font-size:smaller\">(Quiz ID:006)</div><ol style=\"list-style-type:none\"><li title=\"Score:0\n",
       "Feedback:The given arithmetic is not a multiplication.\"><input type=\"radio\" name=\"preview6\">\\( -70500 \\)</li><li title=\"Score:0\n",
       "Feedback:The given arithmetic is not a substraction.\"><input type=\"radio\" name=\"preview6\">\\( -563 \\)</li><li title=\"Score:0\n",
       "Feedback:think and compute carefully. it is just a simple addition.\"><input type=\"radio\" name=\"preview6\">\\( 296 \\)</li><li title=\"Score:0\n",
       "Feedback:The given arithmetic is not a division.\"><input type=\"radio\" name=\"preview6\">\\( - \\frac{188}{375} \\)</li><li title=\"Score:0\n",
       "Feedback:think and compute carefully. it is just a simple addition.\"><input type=\"radio\" name=\"preview6\">\\( 374 \\)</li><li title=\"Score:100\"><input type=\"radio\" name=\"preview6\">\\( 187 \\)</li><li title=\"Score:0\n",
       "Feedback:think and compute carefully. it is just a simple addition.\"><input type=\"radio\" name=\"preview6\">\\( 553 \\)</li><li title=\"Score:0\n",
       "Feedback:think and compute carefully. it is just a simple addition.\"><input type=\"radio\" name=\"preview6\">\\( 656 \\)</li></ol></div></div>"
      ],
      "text/plain": [
       "<IPython.core.display.HTML object>"
      ]
     },
     "metadata": {},
     "output_type": "display_data"
    }
   ],
   "source": [
    "ia_quizzes.preview(size=1)"
   ]
  },
  {
   "cell_type": "markdown",
   "metadata": {},
   "source": [
    "Moreover, you can load the quizzes in the Moodle XML format though some internal information (internal quiz *data*, quiz id *quiz_number* and *quiz_identifier*) will not be recovered. For this purpose, use the **load_xml** method as follows."
   ]
  },
  {
   "cell_type": "code",
   "execution_count": 18,
   "metadata": {},
   "outputs": [],
   "source": [
    "ia_quizzes.save('integer_addition_in_english.xml')\n",
    "ia_quizzes = mxqg.load_xml('integer_addition_in_english.xml')"
   ]
  },
  {
   "cell_type": "markdown",
   "metadata": {},
   "source": [
    "For example, you have to specify the option **show_quiz_number=False** when you use the methods: *preview* and *save* since already the quiz id is included in the question text as text. Otherwise, the quiz id will be duplicated."
   ]
  },
  {
   "cell_type": "code",
   "execution_count": 19,
   "metadata": {},
   "outputs": [
    {
     "data": {
      "text/html": [
       "<div style=\"border: thin solid #000000; padding: 1em\"><div title=\"General Feedback:\n",
       "Correct Feedback:Your answer is correct.\n",
       "Partially Correct Feedback:Your answer is incorrect.\n",
       "Incorrect Feedback:Your answer is partially correct.\">Choose the result of the following arithmetic.<br />\\( -196 + 136 \\)<div style=\"text-align:right;font-size:smaller\">(Quiz ID:003)</div><ol style=\"list-style-type:none\"><li title=\"Score:0.0\n",
       "Feedback:think and compute carefully. it is just a simple addition.\"><input type=\"radio\" name=\"preview0\">\\( -956 \\)</li><li title=\"Score:100.0\"><input type=\"radio\" name=\"preview0\">\\( -60 \\)</li><li title=\"Score:0.0\n",
       "Feedback:think and compute carefully. it is just a simple addition.\"><input type=\"radio\" name=\"preview0\">\\( -408 \\)</li><li title=\"Score:0.0\n",
       "Feedback:The given arithmetic is not a multiplication.\"><input type=\"radio\" name=\"preview0\">\\( -26656 \\)</li><li title=\"Score:0.0\n",
       "Feedback:think and compute carefully. it is just a simple addition.\"><input type=\"radio\" name=\"preview0\">\\( -655 \\)</li><li title=\"Score:0.0\n",
       "Feedback:The given arithmetic is not a substraction.\"><input type=\"radio\" name=\"preview0\">\\( 332 \\)</li><li title=\"Score:0.0\n",
       "Feedback:think and compute carefully. it is just a simple addition.\"><input type=\"radio\" name=\"preview0\">\\( -475 \\)</li><li title=\"Score:0.0\n",
       "Feedback:The given arithmetic is not a division.\"><input type=\"radio\" name=\"preview0\">\\( - \\frac{34}{49} \\)</li></ol></div></div>"
      ],
      "text/plain": [
       "<IPython.core.display.HTML object>"
      ]
     },
     "metadata": {},
     "output_type": "display_data"
    }
   ],
   "source": [
    "ia_quizzes.preview(size=1, show_quiz_number=False)"
   ]
  },
  {
   "cell_type": "code",
   "execution_count": null,
   "metadata": {},
   "outputs": [],
   "source": []
  }
 ],
 "metadata": {
  "kernelspec": {
   "display_name": "Python 3",
   "language": "python",
   "name": "python3"
  },
  "language_info": {
   "codemirror_mode": {
    "name": "ipython",
    "version": 3
   },
   "file_extension": ".py",
   "mimetype": "text/x-python",
   "name": "python",
   "nbconvert_exporter": "python",
   "pygments_lexer": "ipython3",
   "version": "3.7.6"
  },
  "toc": {
   "base_numbering": 1,
   "nav_menu": {},
   "number_sections": true,
   "sideBar": true,
   "skip_h1_title": false,
   "title_cell": "Table of Contents",
   "title_sidebar": "Contents",
   "toc_cell": false,
   "toc_position": {},
   "toc_section_display": true,
   "toc_window_display": false
  }
 },
 "nbformat": 4,
 "nbformat_minor": 2
}
