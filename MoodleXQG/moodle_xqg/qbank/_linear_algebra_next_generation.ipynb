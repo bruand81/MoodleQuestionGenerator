{
 "cells": [
  {
   "cell_type": "markdown",
   "metadata": {},
   "source": [
    "Moodle XML Question Generator, (C) 2019-2020 Kosaku Nagasaka (Kobe University)"
   ]
  },
  {
   "cell_type": "markdown",
   "metadata": {},
   "source": [
    "## モジュールファイルの生成"
   ]
  },
  {
   "cell_type": "code",
   "execution_count": 11,
   "metadata": {},
   "outputs": [],
   "source": [
    "if __name__ == \"__main__\":\n",
    "    import subprocess\n",
    "    subprocess.run(['jupyter', 'nbconvert', '--to', 'python', '_linear_algebra_next_generation.ipynb','--output','linear_algebra_next_generation.py'])"
   ]
  },
  {
   "cell_type": "markdown",
   "metadata": {},
   "source": [
    "# Helpers for Linear Algebra"
   ]
  },
  {
   "cell_type": "code",
   "execution_count": 1,
   "metadata": {
    "init_cell": true
   },
   "outputs": [],
   "source": [
    "import math\n",
    "import random\n",
    "import sympy\n",
    "import copy\n",
    "if __name__ == \"__main__\":\n",
    "    import IPython"
   ]
  },
  {
   "cell_type": "markdown",
   "metadata": {},
   "source": [
    "## NOTES"
   ]
  },
  {
   "cell_type": "markdown",
   "metadata": {},
   "source": [
    "- Any matrix will be translated in the latex format with \"pmatrix\". Please translate it with your preferable environment (e.g. bmatrix) by the option of the top level function.\n",
    "- Any vector symbol will be translated in the latex format with \"\\vec\". Please translate it with your preferable command (e.g. \\boldsymbol) by the option of the top level function."
   ]
  },
  {
   "cell_type": "markdown",
   "metadata": {
    "heading_collapsed": true
   },
   "source": [
    "## minor helpers"
   ]
  },
  {
   "cell_type": "code",
   "execution_count": 2,
   "metadata": {
    "hidden": true,
    "init_cell": true
   },
   "outputs": [],
   "source": [
    "def partition_list0(vec, n):\n",
    "    for i in range(0, len(vec), n):\n",
    "        yield vec[i:i + n]\n",
    "def partition_list(vec, n):\n",
    "    return list(partition_list0(vec,n))"
   ]
  },
  {
   "cell_type": "code",
   "execution_count": 15,
   "metadata": {
    "hidden": true
   },
   "outputs": [
    {
     "name": "stdout",
     "output_type": "stream",
     "text": [
      "[[1, 2, 3], [4, 5, 6], [7, 8, 9], [10]]\n"
     ]
    }
   ],
   "source": [
    "if __name__ == \"__main__\":\n",
    "    print(partition_list([1,2,3,4,5,6,7,8,9,10],3))"
   ]
  },
  {
   "cell_type": "code",
   "execution_count": 3,
   "metadata": {
    "hidden": true,
    "init_cell": true
   },
   "outputs": [],
   "source": [
    "def thread_list0(vec, n):\n",
    "    res = []\n",
    "    for i in range(0, len(vec)):\n",
    "        res += vec[i][n]\n",
    "    return res\n",
    "def thread_list(vec):\n",
    "    return [thread_list0(vec, i) for i in range(0, len(vec[0]))]"
   ]
  },
  {
   "cell_type": "code",
   "execution_count": 17,
   "metadata": {
    "hidden": true
   },
   "outputs": [
    {
     "name": "stdout",
     "output_type": "stream",
     "text": [
      "[[1, 2, 5, 6, 10, 11, 12], [3, 4, 7, 8, 13, 14, 15]]\n"
     ]
    }
   ],
   "source": [
    "if __name__ == \"__main__\":\n",
    "    print(thread_list([[[1,2],[3,4]],[[5,6],[7,8]],[[10,11,12],[13,14,15]]]))"
   ]
  },
  {
   "cell_type": "code",
   "execution_count": 18,
   "metadata": {
    "hidden": true
   },
   "outputs": [],
   "source": [
    "def sometimes_zero_randint(imin, imax, zratio):\n",
    "    if random.random() < zratio:\n",
    "        return 0\n",
    "    elif 0 < imin or imax < 0:\n",
    "        return random.randint(imin, imax)\n",
    "    else:\n",
    "        return random.choice(list(set(range(imin,imax+1)).difference(set([0]))))"
   ]
  },
  {
   "cell_type": "code",
   "execution_count": 19,
   "metadata": {
    "hidden": true
   },
   "outputs": [
    {
     "name": "stdout",
     "output_type": "stream",
     "text": [
      "[0, 1, -1, 0, 0, 1, 0, 0, 0, 0, 1, 1, 0, 0, 0, 0, 0, 1, 0, 1]\n"
     ]
    }
   ],
   "source": [
    "if __name__ == \"__main__\":\n",
    "    print([sometimes_zero_randint(-1,1,0.5) for i in range(20)])"
   ]
  },
  {
   "cell_type": "code",
   "execution_count": 4,
   "metadata": {
    "hidden": true,
    "init_cell": true
   },
   "outputs": [],
   "source": [
    "def nonzero_randint(imin, imax):\n",
    "    if 0 < imin or imax < 0:\n",
    "        return random.randint(imin, imax)\n",
    "    else:\n",
    "        return random.choice(list(set(range(imin,imax+1)).difference(set([0]))))"
   ]
  },
  {
   "cell_type": "code",
   "execution_count": 21,
   "metadata": {
    "hidden": true
   },
   "outputs": [
    {
     "name": "stdout",
     "output_type": "stream",
     "text": [
      "[-1, 1, 1, -1, 1, 1, 1, -1, 1, 1, -1, -1, 1, -1, 1, -1, -1, -1, -1, 1]\n"
     ]
    }
   ],
   "source": [
    "if __name__ == \"__main__\":\n",
    "    print([nonzero_randint(-1,1) for i in range(20)])"
   ]
  },
  {
   "cell_type": "code",
   "execution_count": 22,
   "metadata": {
    "hidden": true
   },
   "outputs": [],
   "source": [
    "def nonone_randint(imin, imax):\n",
    "    if 1 < imin or imax < 1:\n",
    "        return random.randint(imin, imax)\n",
    "    else:\n",
    "        return random.choice(list(set(range(imin,imax+1)).difference(set([1]))))"
   ]
  },
  {
   "cell_type": "code",
   "execution_count": 23,
   "metadata": {
    "hidden": true
   },
   "outputs": [
    {
     "name": "stdout",
     "output_type": "stream",
     "text": [
      "[3, 0, 3, 3, 0, 2, 0, 2, 0, 3, 0, 2, 3, 0, 2, 0, 0, 3, 3, 2]\n"
     ]
    }
   ],
   "source": [
    "if __name__ == \"__main__\":\n",
    "    print([nonone_randint(0,3) for i in range(20)])"
   ]
  },
  {
   "cell_type": "code",
   "execution_count": 11,
   "metadata": {
    "hidden": true
   },
   "outputs": [],
   "source": [
    "def nonzeroone_randint(imin, imax):\n",
    "    if 1 < imin or imax < -1:\n",
    "        return random.randint(imin, imax)\n",
    "    else:\n",
    "        return random.choice(list(set(range(imin,imax+1)).difference(set([-1,0,1]))))"
   ]
  },
  {
   "cell_type": "code",
   "execution_count": 13,
   "metadata": {
    "hidden": true
   },
   "outputs": [
    {
     "name": "stdout",
     "output_type": "stream",
     "text": [
      "[2, -3, -2, 2, 3, 2, -2, -3, 3, -3, 3, -3, -3, -3, -2, -2, -3, -2, 2, 3]\n"
     ]
    }
   ],
   "source": [
    "if __name__ == \"__main__\":\n",
    "    print([nonzeroone_randint(-3,3) for i in range(20)])"
   ]
  },
  {
   "cell_type": "code",
   "execution_count": 5,
   "metadata": {
    "hidden": true,
    "init_cell": true
   },
   "outputs": [],
   "source": [
    "def rationalized_vector(vec):\n",
    "    _denom = [sympy.denom(ele) for ele in vec]\n",
    "    if len(_denom) > 1:\n",
    "        _dlcm = sympy.ilcm(*_denom)\n",
    "    else:\n",
    "        _dlcm = _denom[0]\n",
    "    return [_dlcm*ele for ele in vec]"
   ]
  },
  {
   "cell_type": "code",
   "execution_count": 25,
   "metadata": {
    "hidden": true,
    "scrolled": true
   },
   "outputs": [
    {
     "name": "stdout",
     "output_type": "stream",
     "text": [
      "[-30, -140, 21]\n",
      "[-3]\n"
     ]
    }
   ],
   "source": [
    "if __name__ == \"__main__\":\n",
    "    print(rationalized_vector([sympy.Rational(-3,7),-2,sympy.Rational(3,10)]))\n",
    "    print(rationalized_vector([sympy.Rational(-3,7)]))"
   ]
  },
  {
   "cell_type": "code",
   "execution_count": 6,
   "metadata": {
    "hidden": true,
    "init_cell": true
   },
   "outputs": [],
   "source": [
    "def is_zero_vector(vec):\n",
    "    for ele in vec:\n",
    "        if ele != 0:\n",
    "            return False\n",
    "    return True"
   ]
  },
  {
   "cell_type": "code",
   "execution_count": 27,
   "metadata": {
    "hidden": true
   },
   "outputs": [
    {
     "name": "stdout",
     "output_type": "stream",
     "text": [
      "False True\n"
     ]
    }
   ],
   "source": [
    "if __name__ == \"__main__\":\n",
    "    print(is_zero_vector([1,2,3]), is_zero_vector([0,0,0]))"
   ]
  },
  {
   "cell_type": "code",
   "execution_count": 7,
   "metadata": {
    "hidden": true,
    "init_cell": true
   },
   "outputs": [],
   "source": [
    "def is_zero_vectors(vecs):\n",
    "    for vec in vecs:\n",
    "        if not is_zero_vector(vec):\n",
    "            return False\n",
    "    return True"
   ]
  },
  {
   "cell_type": "code",
   "execution_count": 29,
   "metadata": {
    "hidden": true
   },
   "outputs": [
    {
     "name": "stdout",
     "output_type": "stream",
     "text": [
      "False True\n"
     ]
    }
   ],
   "source": [
    "if __name__ == \"__main__\":\n",
    "    print(is_zero_vectors([[0,0,0],[1,2,3]]), is_zero_vectors([[0,0],[0,0,0]]))"
   ]
  },
  {
   "cell_type": "code",
   "execution_count": 8,
   "metadata": {
    "hidden": true,
    "init_cell": true
   },
   "outputs": [],
   "source": [
    "def is_integer_vector(vec):\n",
    "    for ele in vec:\n",
    "        if not sympy.sympify(ele).is_integer:\n",
    "            return False\n",
    "    return True"
   ]
  },
  {
   "cell_type": "code",
   "execution_count": 31,
   "metadata": {
    "hidden": true
   },
   "outputs": [
    {
     "name": "stdout",
     "output_type": "stream",
     "text": [
      "True False\n"
     ]
    }
   ],
   "source": [
    "if __name__ == \"__main__\":\n",
    "    print(is_integer_vector([1,2,3]), is_integer_vector([1,sympy.Rational(2,3),3]))"
   ]
  },
  {
   "cell_type": "code",
   "execution_count": 9,
   "metadata": {
    "hidden": true,
    "init_cell": true
   },
   "outputs": [],
   "source": [
    "def integer_to_quasi_square(n):\n",
    "    fcts = sympy.Integer(n).factors()\n",
    "    prms = []\n",
    "    for p, e in fcts.items():\n",
    "        for i in range(e):\n",
    "            prms.append(p)\n",
    "    r = 1\n",
    "    for i in range(1,len(prms),2):\n",
    "        r *= prms[i]\n",
    "    c = 1\n",
    "    for i in range(0,len(prms),2):\n",
    "        c *= prms[i]\n",
    "    return [r,c]"
   ]
  },
  {
   "cell_type": "code",
   "execution_count": 33,
   "metadata": {
    "hidden": true,
    "scrolled": true
   },
   "outputs": [
    {
     "name": "stdout",
     "output_type": "stream",
     "text": [
      "[2, 4]\n",
      "[1, 7]\n"
     ]
    }
   ],
   "source": [
    "if __name__ == \"__main__\":\n",
    "    print(integer_to_quasi_square(8))\n",
    "    print(integer_to_quasi_square(7))"
   ]
  },
  {
   "cell_type": "code",
   "execution_count": 10,
   "metadata": {
    "hidden": true,
    "init_cell": true
   },
   "outputs": [],
   "source": [
    "def flatten_list(alist):\n",
    "    rlist = []\n",
    "    for lis in alist:\n",
    "        rlist = rlist + lis\n",
    "    return rlist"
   ]
  },
  {
   "cell_type": "code",
   "execution_count": 35,
   "metadata": {
    "hidden": true
   },
   "outputs": [
    {
     "name": "stdout",
     "output_type": "stream",
     "text": [
      "[[1, 2, 3], [4, 5], 1, 2]\n"
     ]
    }
   ],
   "source": [
    "if __name__ == \"__main__\":\n",
    "    print(flatten_list([[[1,2,3],[4,5]],[1,2]]))"
   ]
  },
  {
   "cell_type": "code",
   "execution_count": 36,
   "metadata": {
    "hidden": true
   },
   "outputs": [],
   "source": [
    "def flatten_list_all(alist):\n",
    "    if type(alist) is not list:\n",
    "        return [alist]\n",
    "    rlist = []\n",
    "    for lis in alist:\n",
    "        rlist = rlist + flatten_list_all(lis)\n",
    "    return rlist"
   ]
  },
  {
   "cell_type": "code",
   "execution_count": 37,
   "metadata": {
    "hidden": true,
    "scrolled": true
   },
   "outputs": [
    {
     "name": "stdout",
     "output_type": "stream",
     "text": [
      "[1, 2, 3, 4, 5, 1, 2]\n"
     ]
    }
   ],
   "source": [
    "if __name__ == \"__main__\":\n",
    "    print(flatten_list_all([[[1,[2,3]],[[4],5]],[1,2]]))"
   ]
  },
  {
   "cell_type": "markdown",
   "metadata": {
    "heading_collapsed": true
   },
   "source": [
    "## matrix computations"
   ]
  },
  {
   "cell_type": "code",
   "execution_count": 270,
   "metadata": {
    "hidden": true
   },
   "outputs": [],
   "source": [
    "class MatrixComputations():\n",
    "    \"\"\"\n",
    "    This generates a general expression of vector and matrix.\n",
    "    \"\"\"\n",
    "    _incorrect_types = ['forgot_rest', 'forgot_next_cols', 'forgot_next_rows', 'computation_miss', 'mul_instead_dot', 'mixed']\n",
    "    _tex_scalars = [r'\\alpha', r'\\beta', r'\\gamma']\n",
    "    _tex_vectors = [r'\\vec{x}', r'\\vec{y}', r'\\vec{z}', r'\\vec{v}', r'\\vec{w}']\n",
    "    _tex_matrices = ['A', 'B', 'C', 'D', 'X', 'Y', 'Z']\n",
    "    _reserved_words = ['mul', 'add', 'sub', 'scal', 'mat', 'def']\n",
    "    # each skeleton = [defs, expr]\n",
    "    # defs = [['mat', rows, cols, name], ['scal', name], ...]\n",
    "    # expr = ['mul', expr0, expr1] (an example)\n",
    "    _skeletons = dict()\n",
    "    _skeletons[\"ms_22\"] = [[[['scal','scalA'],['mat',2,2,'matA']], ['mul','scalA', 'matA']]]\n",
    "    _skeletons[\"ms_mn\"] = [[[['scal','scalA'],['mat','m','n','matA']], ['mul','scalA', 'matA']]]\n",
    "    _skeletons[\"m_m_22\"] = [[[['mat',2,2,'matA'], ['mat',2,2,'matB']], ['add','matA','matB']], \n",
    "                            [[['mat',2,2,'matA'], ['mat',2,2,'matB']], ['sub','matA','matB']]]\n",
    "    _skeletons[\"m_m_mn\"] = [[[['mat','m','n','matA'], ['mat','m','n','matB']], ['add','matA','matB']], \n",
    "                            [[['mat','m','n','matA'], ['mat','m','n','matB']], ['sub','matA','matB']]]\n",
    "    _skeletons[\"mv_22\"] = [[[['mat',2,2,'matA'], ['mat',2,1,'vecB']], ['mul','matA','vecB']]]\n",
    "    _skeletons[\"mv_mn\"] = [[[['mat','m','n','matA'], ['mat','n',1,'vecB']], ['mul','matA','vecB']]]\n",
    "    _skeletons[\"mm_22\"] = [[[['mat',2,2,'matA'], ['mat',2,2,'matB']], ['mul','matA','matB']]]\n",
    "    _skeletons[\"mm_mn\"] = [[[['mat','m','m','matA'], ['mat','m','m','matB']], ['mul','matA','matB']],\n",
    "                           [[['mat','m','n','matA'], ['mat','n','k','matB']], ['mul','matA','matB']],\n",
    "                           [[['mat','m',1,'matA'], ['mat',1,'k','matB']], ['mul','matA','matB']]]\n",
    "    _skeletons[\"msvm_22\"] = [[[['scal','scalA'],['scal','scalB'],['mat',2,2,'matA']], ['add',['mul','scalA','matA'],['mul','scalB','matA']]],\n",
    "                             [[['scal','scalA'],['mat',2,2,'matA'],['mat',2,2,'matB']], ['add',['mul','scalA','matA'],['mul','scalA','matB']]],\n",
    "                             [[['scal','scalA'],['mat',2,2,'matA'],['mat',2,1,'vecB'],['mat',2,1,'vecC']], ['add',['mul','matA','vecB'],['mul','scalA',['mul','matA','vecC']]]],\n",
    "                             [[['scal','scalA'],['mat',2,2,'matA'],['mat',2,2,'matB'],['mat',2,1,'vecC']], ['add',['mul','matA','vecC'],['mul','scalA',['mul','matB','vecC']]]],\n",
    "                             [[['mat',2,2,'matA'],['mat',2,2,'matB'],['mat',2,2,'matC']], ['add',['mul','matA','matB'],['mul','matA','matC']]],\n",
    "                             [[['mat',2,2,'matA'],['mat',2,2,'matB'],['mat',2,2,'matC']], ['sub',['mul','matA','matB'],['mul','matA','matC']]],\n",
    "                             [[['mat',2,2,'matA'],['mat',2,2,'matB'],['mat',2,2,'matC']], ['add',['mul','matA','matC'],['mul','matB','matC']]],\n",
    "                             [[['mat',2,2,'matA'],['mat',2,2,'matB'],['mat',2,2,'matC']], ['sub',['mul','matA','matC'],['mul','matB','matC']]],\n",
    "                             [[['mat',2,2,'matA'],['mat',2,2,'matB']], ['add',['mul','matA','matA'],['mul','matA','matB'],['mul','matB','matA'],['mul','matB','matB']]],\n",
    "                             [[['mat',2,2,'matA'],['mat',2,2,'matB'],['def',2,'scalA']], ['add',['mul','matA','matA'],['mul','scalA',['mul','matA','matB']],['mul','matB','matB']]],\n",
    "                             [[['mat',2,2,'matA'],['mat',2,2,'matB'],['mat',2,2,'matC'],['mat',2,1,'vecD']], ['mul',['mul',['mul','matA','matB'],'matC'],'vecD']]]\n",
    "    _skeletons[\"msvm_mn\"] = [[[['scal','scalA'],['scal','scalB'],['mat','m','n','matA']], ['add',['mul','scalA','matA'],['mul','scalB','matA']]],\n",
    "                             [[['scal','scalA'],['mat','m','n','matA'],['mat','m','n','matB']], ['add',['mul','scalA','matA'],['mul','scalA','matB']]],\n",
    "                             [[['scal','scalA'],['mat','m','n','matA'],['mat','n',1,'vecB'],['mat','n',1,'vecC']], ['add',['mul','matA','vecB'],['mul','scalA',['mul','matA','vecC']]]],\n",
    "                             [[['scal','scalA'],['mat','m','n','matA'],['mat','m','n','matB'],['mat','n',1,'vecC']], ['add',['mul','matA','vecC'],['mul','scalA',['mul','matB','vecC']]]],\n",
    "                             [[['mat','m','n','matA'],['mat','n','k','matB'],['mat','n','k','matC']], ['add',['mul','matA','matB'],['mul','matA','matC']]],\n",
    "                             [[['mat','m','n','matA'],['mat','n','k','matB'],['mat','n','k','matC']], ['sub',['mul','matA','matB'],['mul','matA','matC']]],\n",
    "                             [[['mat','m','n','matA'],['mat','m','n','matB'],['mat','n','k','matC']], ['add',['mul','matA','matC'],['mul','matB','matC']]],\n",
    "                             [[['mat','m','n','matA'],['mat','m','n','matB'],['mat','n','k','matC']], ['sub',['mul','matA','matC'],['mul','matB','matC']]],\n",
    "                             [[['mat','m','m','matA'],['mat','m','m','matB']], ['add',['mul','matA','matA'],['mul','matA','matB'],['mul','matB','matA'],['mul','matB','matB']]],\n",
    "                             [[['mat','m','m','matA'],['mat','m','m','matB'],['def',2,'scalA']], ['add',['mul','matA','matA'],['mul','scalA',['mul','matA','matB']],['mul','matB','matB']]],\n",
    "                             [[['mat','p','m','matA'],['mat','m','n','matB'],['mat','n','k','matC'],['mat','k',1,'vecD']], ['mul',['mul',['mul','matA','matB'],'matC'],'vecD']]]\n",
    "    def __init__(self, other=None):\n",
    "        if other is not None:\n",
    "            self.dim_min = copy.deepcopy(other.dim_min)\n",
    "            self.dim_max = copy.deepcopy(other.dim_max)\n",
    "            self.elem_min = copy.deepcopy(other.elem_min)\n",
    "            self.elem_max = copy.deepcopy(other.elem_max)\n",
    "            self.expression = copy.deepcopy(other.expression)\n",
    "            self.definition = copy.deepcopy(other.definition)\n",
    "            self.tex_symbol = copy.deepcopy(other.tex_symbol)\n",
    "            self.value = copy.deepcopy(other.value)\n",
    "            self.id = copy.deepcopy(other.id)\n",
    "        else:\n",
    "            self.dim_min = 1\n",
    "            self.dim_max = 4\n",
    "            self.elem_min = -3\n",
    "            self.elem_max = +3\n",
    "            self.expression = [0]\n",
    "            self.definition = dict()\n",
    "            self.tex_symbol = dict()\n",
    "            self.value = 0\n",
    "            self.id = random.random()\n",
    "    def __eq__(self, other):\n",
    "        if not isinstance(other, MatrixComputations):\n",
    "            return False\n",
    "        elif self.expression != other.expression:\n",
    "            return False\n",
    "        elif self.definition != other.definition:\n",
    "            return False\n",
    "        elif self.value != other.value:\n",
    "            return False\n",
    "        return True\n",
    "    def __hash__(self):\n",
    "        self.id = hash(str(self.expression) + str(self.definition) + str(self.value))\n",
    "        return self.id\n",
    "    def set_dimension_range(self, dmin, dmax):\n",
    "        \"\"\"\n",
    "        The range of dimension of vector and matrix.\n",
    "        \"\"\"\n",
    "        self.dim_min = dmin\n",
    "        self.dim_max = dmax\n",
    "    def set_element_range(self, emin, emax):\n",
    "        \"\"\"\n",
    "        The range of elements of vector and matrix.\n",
    "        \"\"\"\n",
    "        self.elem_min = emin\n",
    "        self.elem_max = emax\n",
    "    def _generate_definition_in_skeleton(self, _defs, _dim_words):\n",
    "        self.definition = dict()\n",
    "        self.tex_symbol = dict()\n",
    "        _idx_scalars = 0\n",
    "        _idx_vectors = 0\n",
    "        _idx_matrices = 0\n",
    "        for _def in _defs:\n",
    "            if _def[0] == 'mat':\n",
    "                self.definition[_def[3]] = sympy.Matrix([[random.randint(self.elem_min, self.elem_max) for j in range(_dim_words[_def[2]] if type(_def[2]) is str else _def[2])] for i in range(_dim_words[_def[1]] if type(_def[1]) is str else _def[1])])\n",
    "                if _def[2] == 1:\n",
    "                    self.tex_symbol[_def[3]] = MatrixComputations._tex_vectors[_idx_vectors]\n",
    "                    _idx_vectors+=1\n",
    "                else:\n",
    "                    self.tex_symbol[_def[3]] = MatrixComputations._tex_matrices[_idx_matrices]\n",
    "                    _idx_matrices+=1\n",
    "            elif _def[0] == 'scal':\n",
    "                self.definition[_def[1]] = nonone_randint(self.elem_min, self.elem_max)\n",
    "                self.tex_symbol[_def[1]] = MatrixComputations._tex_scalars[_idx_scalars]\n",
    "                _idx_scalars+=1\n",
    "            elif _def[0] == 'def':\n",
    "                if type(_def[1]) is list:\n",
    "                    self.definition[_def[2]] = sympy.Matrix(_def[1])\n",
    "                    if self.definition[_def[2]].shape[1] == 1:\n",
    "                        self.tex_symbol[_def[2]] = MatrixComputations._tex_vectors[_idx_vectors]\n",
    "                        _idx_vectors+=1\n",
    "                    else:\n",
    "                        self.tex_symbol[_def[2]] = MatrixComputations._tex_matrices[_idx_matrices]\n",
    "                        _idx_matrices+=1\n",
    "                else:\n",
    "                    self.definition[_def[2]] = _def[1]\n",
    "                    self.tex_symbol[_def[2]] = MatrixComputations._tex_scalars[_idx_scalars]\n",
    "                    _idx_scalars+=1\n",
    "    def _evaluate(self, expr):\n",
    "        if type(expr) is list:\n",
    "            if expr[0] == 'add':\n",
    "                temp = self._evaluate(expr[1])\n",
    "                for _expr in expr[2:]:\n",
    "                    temp += self._evaluate(_expr)\n",
    "                return temp\n",
    "            elif expr[0] == 'sub':\n",
    "                return self._evaluate(expr[1]) - self._evaluate(expr[2])\n",
    "            elif expr[0] == 'mul':\n",
    "                return self._evaluate(expr[1]) * self._evaluate(expr[2])\n",
    "            else:\n",
    "                raise AttributeError('unknown header')\n",
    "        elif expr in self.definition:\n",
    "            return self.definition[expr]\n",
    "        else:\n",
    "            raise AttributeError('unknown header')\n",
    "    def generate(self, t):\n",
    "        [_defs, self.expression] = random.choice(MatrixComputations._skeletons[t])\n",
    "        _dim_words = dict()\n",
    "        for _def in _defs:\n",
    "            for w in _def[1:-1]:\n",
    "                _dim_words[w] = random.randint(self.dim_min, self.dim_max)\n",
    "        self._generate_definition_in_skeleton(_defs, _dim_words)\n",
    "        self.value = self._evaluate(self.expression)\n",
    "    def get_expression(self):\n",
    "        return self.expression\n",
    "    def get_definition(self):\n",
    "        return self.definition\n",
    "    def get_value(self):\n",
    "        return self.value\n",
    "    def _get_incorrect_value_forgot_rest(self, expr):\n",
    "        if type(expr) is list:\n",
    "            if expr[0] == 'add':\n",
    "                temp = self._evaluate(expr[1])\n",
    "                for _expr in expr[2:-1]:\n",
    "                    temp += self._evaluate(_expr)\n",
    "                return temp\n",
    "            elif expr[0] == 'sub':\n",
    "                return self._evaluate(expr[1])\n",
    "            elif expr[0] == 'mul':\n",
    "                return self._evaluate(expr[1])\n",
    "            else:\n",
    "                raise AttributeError('unknown header')\n",
    "        elif expr in self.definition:\n",
    "            return self.definition[expr]\n",
    "        else:\n",
    "            raise AttributeError('unknown header')\n",
    "    def _get_incorrect_value_forgot_next_cols(self, expr):\n",
    "        _value = self._evaluate(self.expression)\n",
    "        if isinstance(_value, sympy.Matrix):\n",
    "            while _value.shape[1] > 1:\n",
    "                _value.col_del(1)\n",
    "        return _value\n",
    "    def _get_incorrect_value_forgot_next_rows(self, expr):\n",
    "        _value = self._evaluate(self.expression)\n",
    "        if isinstance(_value, sympy.Matrix):\n",
    "            while _value.shape[0] > 1:\n",
    "                _value.row_del(1)\n",
    "        return _value\n",
    "    def _get_incorrect_value_computation_miss(self, expr):\n",
    "        _value = self._evaluate(self.expression)\n",
    "        if isinstance(_value, sympy.Matrix):\n",
    "            _value += sympy.Matrix([[random.choice([-1,0,1]) for j in range(_value.shape[1])] for i in range(_value.shape[0])])\n",
    "        else:\n",
    "            _value += random.choice([-1,1])\n",
    "        return _value\n",
    "    def _get_incorrect_value_mul_instead_dot(self, expr):\n",
    "        if type(expr) is list:\n",
    "            if expr[0] == 'add':\n",
    "                temp = self._get_incorrect_value_mul_instead_dot(expr[1])\n",
    "                for _expr in expr[2:]:\n",
    "                    temp += self._get_incorrect_value_mul_instead_dot(_expr)\n",
    "                return temp\n",
    "            elif expr[0] == 'sub':\n",
    "                return self._get_incorrect_value_mul_instead_dot(expr[1]) - self._get_incorrect_value_mul_instead_dot(expr[2])\n",
    "            elif expr[0] == 'mul':\n",
    "                _matA = self._get_incorrect_value_mul_instead_dot(expr[1])\n",
    "                _matB = self._get_incorrect_value_mul_instead_dot(expr[2])\n",
    "                if isinstance(_matA, sympy.Matrix) and isinstance(_matB, sympy.Matrix):\n",
    "                    if _matA.shape == _matB.shape:\n",
    "                        _matA = _matA.tolist()\n",
    "                        _matB = _matB.tolist()\n",
    "                        return sympy.Matrix([[_matA[i][j]*_matB[i][j] for j in range(len(_matA[0]))] for i in range(len(_matA))])\n",
    "                return _matA * _matB \n",
    "            else:\n",
    "                raise AttributeError('unknown header')\n",
    "        elif expr in self.definition:\n",
    "            return self.definition[expr]\n",
    "        else:\n",
    "            raise AttributeError('unknown header')\n",
    "    def _get_incorrect_value_mixed(self, expr):\n",
    "        incorrect_type = random.choice(MatrixComputations._incorrect_types)\n",
    "        if incorrect_type == 'forgot_rest':\n",
    "            _value = self._get_incorrect_value_forgot_rest(self.expression)\n",
    "        elif incorrect_type == 'forgot_next_cols':\n",
    "            _value = self._get_incorrect_value_forgot_next_cols(self.expression)            \n",
    "        elif incorrect_type == 'forgot_next_rows':\n",
    "            _value = self._get_incorrect_value_forgot_next_rows(self.expression)         \n",
    "        elif incorrect_type == 'mul_instead_dot':\n",
    "            _value = self._get_incorrect_value_mul_instead_dot(self.expression)             \n",
    "        else:\n",
    "            _value = self._get_incorrect_value_computation_miss(self.expression)    \n",
    "        if isinstance(_value, sympy.Matrix):\n",
    "            _value += sympy.Matrix([[random.choice([-1,0,1]) for j in range(_value.shape[1])] for i in range(_value.shape[0])])\n",
    "        else:\n",
    "            _value += random.choice([-1,1])\n",
    "        return _value\n",
    "    def get_incorrect_value(self, incorrect_type=None):\n",
    "        if incorrect_type is None:\n",
    "            incorrect_type = random.choice(MatrixComputations._incorrect_types)\n",
    "        if incorrect_type == 'forgot_rest':\n",
    "            return self._get_incorrect_value_forgot_rest(self.expression)\n",
    "        elif incorrect_type == 'forgot_next_cols':\n",
    "            return self._get_incorrect_value_forgot_next_cols(self.expression)            \n",
    "        elif incorrect_type == 'forgot_next_rows':\n",
    "            return self._get_incorrect_value_forgot_next_rows(self.expression)            \n",
    "        elif incorrect_type == 'computation_miss':\n",
    "            return self._get_incorrect_value_computation_miss(self.expression)            \n",
    "        elif incorrect_type == 'mul_instead_dot':\n",
    "            return self._get_incorrect_value_mul_instead_dot(self.expression)              \n",
    "        elif incorrect_type == 'mixed':\n",
    "            return self._get_incorrect_value_mixed(self.expression)            \n",
    "        else:\n",
    "            raise AttributeError('unknown incorrect type')\n",
    "    def _str_expression(self, expr, is_symbolic=True):\n",
    "        if type(expr) is not list:\n",
    "            if is_symbolic:\n",
    "                return self.tex_symbol[expr]\n",
    "            else:\n",
    "                return sympy.latex(self.definition[expr], mat_delim='', mat_str='pmatrix')\n",
    "        elif expr[0] == 'mul':\n",
    "            _text = self._str_expression(expr[1], is_symbolic=is_symbolic) + r' '\n",
    "            if type(expr[2]) is list:\n",
    "                if expr[2][0] != 'mul':\n",
    "                    _text += r'\\left('\n",
    "            _text += self._str_expression(expr[2], is_symbolic=is_symbolic) + r' '\n",
    "            if type(expr[2]) is list:\n",
    "                if expr[2][0] != 'mul':\n",
    "                    _text += r'\\right)'\n",
    "            return _text            \n",
    "        elif expr[0] == 'add':\n",
    "            _text = ''\n",
    "            for _expr in expr[1:]:\n",
    "                _text += self._str_expression(_expr, is_symbolic=is_symbolic) + r'+'\n",
    "            return _text[:-1]\n",
    "        elif expr[0] == 'sub':\n",
    "            _text = self._str_expression(expr[1], is_symbolic=is_symbolic) + r'-'\n",
    "            if type(expr[2]) is list:\n",
    "                if expr[2][0] != 'mul':\n",
    "                    _text += r'\\left('\n",
    "            _text += self._str_expression(expr[2], is_symbolic=is_symbolic) + r' '\n",
    "            if type(expr[2]) is list:\n",
    "                if expr[2][0] != 'mul':\n",
    "                    _text += r'\\right)'\n",
    "            return _text\n",
    "        else:\n",
    "            raise AttributeError('unknown header')\n",
    "    def str_expression(self, is_latex_closure=True, is_symbolic=True):\n",
    "        if is_latex_closure:\n",
    "            _text = r'\\( '\n",
    "        else:\n",
    "            _text = ''\n",
    "        _text += self._str_expression(self.expression, is_symbolic=is_symbolic)\n",
    "        _text = _text.replace(r'+-',r'-').replace(r'-+',r'-').replace(r'--',r'+').replace(r'++',r'+')\n",
    "        _text = _text.replace(r'+1 \\b',r'+ \\b').replace(r'-1 \\b',r'- \\b')\n",
    "        if is_latex_closure:\n",
    "            _text += r' \\)'\n",
    "        return _text       \n",
    "    def str_definition(self, is_latex_closure=True):\n",
    "        if is_latex_closure:\n",
    "            _text = r'\\( '\n",
    "        else:\n",
    "            _text = ''\n",
    "        for _key,_val in self.definition.items():\n",
    "            _text += self.tex_symbol[_key] + '=' + sympy.latex(_val, mat_delim='', mat_str='pmatrix') + r',\\;'\n",
    "        _text = _text[:-3]\n",
    "        if is_latex_closure:\n",
    "            _text += r' \\)'\n",
    "        return _text       "
   ]
  },
  {
   "cell_type": "code",
   "execution_count": 274,
   "metadata": {
    "hidden": true
   },
   "outputs": [
    {
     "data": {
      "text/plain": [
       "[['add',\n",
       "  ['mul', 'matA', 'matA'],\n",
       "  ['mul', 'matA', 'matB'],\n",
       "  ['mul', 'matB', 'matA'],\n",
       "  ['mul', 'matB', 'matB']],\n",
       " {'matA': Matrix([\n",
       "  [-2, -3],\n",
       "  [-3,  1]]), 'matB': Matrix([\n",
       "  [0, -3],\n",
       "  [1,  2]])}]"
      ]
     },
     "metadata": {},
     "output_type": "display_data"
    },
    {
     "data": {
      "text/html": [
       "\\( \\begin{pmatrix}-2 & -3\\\\-3 & 1\\end{pmatrix} \\begin{pmatrix}-2 & -3\\\\-3 & 1\\end{pmatrix} +\\begin{pmatrix}-2 & -3\\\\-3 & 1\\end{pmatrix} \\begin{pmatrix}0 & -3\\\\1 & 2\\end{pmatrix} +\\begin{pmatrix}0 & -3\\\\1 & 2\\end{pmatrix} \\begin{pmatrix}-2 & -3\\\\-3 & 1\\end{pmatrix} +\\begin{pmatrix}0 & -3\\\\1 & 2\\end{pmatrix} \\begin{pmatrix}0 & -3\\\\1 & 2\\end{pmatrix}  \\)"
      ],
      "text/plain": [
       "<IPython.core.display.HTML object>"
      ]
     },
     "metadata": {},
     "output_type": "display_data"
    },
    {
     "data": {
      "text/html": [
       "\\( A A +A B +B A +B B  \\)"
      ],
      "text/plain": [
       "<IPython.core.display.HTML object>"
      ]
     },
     "metadata": {},
     "output_type": "display_data"
    },
    {
     "data": {
      "text/html": [
       "\\( A=\\begin{pmatrix}-2 & -3\\\\-3 & 1\\end{pmatrix},\\;B=\\begin{pmatrix}0 & -3\\\\1 & 2\\end{pmatrix} \\)"
      ],
      "text/plain": [
       "<IPython.core.display.HTML object>"
      ]
     },
     "metadata": {},
     "output_type": "display_data"
    },
    {
     "data": {
      "text/plain": [
       "[Matrix([\n",
       " [16, -6],\n",
       " [-2, 21]]), Matrix([\n",
       " [17, -6],\n",
       " [-4, 19]])]"
      ]
     },
     "metadata": {},
     "output_type": "display_data"
    }
   ],
   "source": [
    "if __name__ == \"__main__\":\n",
    "    mc = MatrixComputations()\n",
    "    mc.set_dimension_range(1,4)\n",
    "    mc.set_element_range(-3,3)\n",
    "    mc.generate(\"msvm_22\")\n",
    "    display([mc.get_expression(), mc.get_definition()])\n",
    "    IPython.display.display(IPython.display.HTML(mc.str_expression(is_symbolic=False)))\n",
    "    IPython.display.display(IPython.display.HTML(mc.str_expression()))\n",
    "    IPython.display.display(IPython.display.HTML(mc.str_definition()))\n",
    "    display([mc.get_value(), mc._get_incorrect_value_mixed(mc.get_expression())])"
   ]
  },
  {
   "cell_type": "markdown",
   "metadata": {
    "heading_collapsed": true
   },
   "source": [
    "## matrix in reduced row echelon form"
   ]
  },
  {
   "cell_type": "code",
   "execution_count": 41,
   "metadata": {
    "hidden": true
   },
   "outputs": [],
   "source": [
    "class MatrixInReducedRowEchelonForm():\n",
    "    \"\"\"\n",
    "    This generates a general expression of reduced row echelon form.\n",
    "    \"\"\"\n",
    "    def __init__(self, other=None):\n",
    "        if other is not None:\n",
    "            self.dim_min = copy.deepcopy(other.dim_min)\n",
    "            self.dim_max = copy.deepcopy(other.dim_max)\n",
    "            self.elem_min = copy.deepcopy(other.elem_min)\n",
    "            self.elem_max = copy.deepcopy(other.elem_max)\n",
    "            self.zero_vector_ratio = copy.deepcopy(other.zero_vector_ratio)\n",
    "            self.zero_elements_rest = copy.deepcopy(other.zero_elements_rest)\n",
    "            self.rows = copy.deepcopy(other.rows)\n",
    "            self.cols = copy.deepcopy(other.cols)\n",
    "            self.pivots = copy.deepcopy(other.pivots)\n",
    "            self.row_space_basis = copy.deepcopy(other.row_space_basis)\n",
    "            self.rref = copy.deepcopy(other.rref)\n",
    "            self.matrix = copy.deepcopy(other.matrix)\n",
    "            self.id = copy.deepcopy(other.id)\n",
    "        else:\n",
    "            self.dim_min = 3\n",
    "            self.dim_max = 5\n",
    "            self.elem_min = -3\n",
    "            self.elem_max = +3\n",
    "            self.zero_vector_ratio = 0.5\n",
    "            self.zero_elements_rest = -1\n",
    "            self.id = random.random()\n",
    "    def __eq__(self, other):\n",
    "        if not isinstance(other, MatrixReductions):\n",
    "            return False\n",
    "        elif self.row_space_basis != other.row_space_basis:\n",
    "            return False\n",
    "        elif self.rref != other.rref:\n",
    "            return False\n",
    "        elif self.matrix != other.matrix:\n",
    "            return False\n",
    "        return True\n",
    "    def __hash__(self):\n",
    "        self.id = hash(str(self.row_space_basis) + str(self.rref) + str(self.matrix))\n",
    "        return self.id\n",
    "    def set_dimension_range(self, dmin, dmax):\n",
    "        \"\"\"\n",
    "        The range of dimension of matrix.\n",
    "        \"\"\"\n",
    "        self.dim_min = dmin\n",
    "        self.dim_max = dmax\n",
    "    def set_element_range(self, emin, emax):\n",
    "        \"\"\"\n",
    "        The range of elements of matrix.\n",
    "        \"\"\"\n",
    "        self.elem_min = emin\n",
    "        self.elem_max = emax\n",
    "    def set_zero_vector_ratio(self, zratio):\n",
    "        \"\"\"\n",
    "        The ratio of zero row vector.\n",
    "        \"\"\"\n",
    "        self.zero_vector_ratio = zratio\n",
    "    def set_zero_elements_rest(self, zratio):\n",
    "        \"\"\"\n",
    "        The maximum number of zero elements.\n",
    "        \"\"\"\n",
    "        self.zero_elements_rest = zratio\n",
    "    def _generate_row_space_basis(self):\n",
    "        _indices = [_p[1] for _p in self.pivots]\n",
    "        _basis = []\n",
    "        for i in range(len(self.pivots)):\n",
    "            _vector = []\n",
    "            for j in range(self.cols):\n",
    "                if j < self.pivots[i][1]:\n",
    "                    _vector.append(0)\n",
    "                elif j == self.pivots[i][1]:\n",
    "                    _vector.append(1)\n",
    "                elif j in _indices:\n",
    "                    _vector.append(0)\n",
    "                else:\n",
    "                    _vector.append(random.randint(self.elem_min, self.elem_max))\n",
    "            _basis.append(_vector)\n",
    "        return _basis\n",
    "    def _generate_mixed_matrix(self):\n",
    "        _op_types = ['n->kn', 'n<->m', 'n->n+km']\n",
    "        _matrix = sympy.Matrix(self.row_space_basis + [random.choice(self.row_space_basis) for i in range(self.rows - len(self.row_space_basis))])\n",
    "        _min = min(self.rows, self.cols) if self.zero_elements_rest < 0 else self.zero_elements_rest\n",
    "        while max(abs(_matrix)) <= 2*max(abs(self.elem_min),abs(self.elem_max)) and flatten_list_all([_v[:-1] for _v in _matrix.tolist()]).count(0) > _min:\n",
    "            for i in range(max([self.rows, self.cols])):\n",
    "                _op = random.choice(_op_types)\n",
    "                _k = 1 if random.random() < 0.5 else -1\n",
    "                _row = random.choice(range(self.rows))\n",
    "                _row2 = _row\n",
    "                while _row == _row2:\n",
    "                    _row2 = random.choice(range(self.rows))\n",
    "                _matrix = _matrix.elementary_row_op(op=_op, row=_row, k=_k, row2=_row2)\n",
    "        if _matrix.rank() != len(self.row_space_basis):\n",
    "            return self._generate_mixed_matrix()\n",
    "        for _v in _matrix.tolist():\n",
    "            if is_zero_vector(_v):\n",
    "                return self._generate_mixed_matrix()\n",
    "        if max(abs(self.elem_min), abs(self.elem_max)) > 1:\n",
    "            _list = _matrix.tolist()\n",
    "            while True:\n",
    "                _is_continue = False\n",
    "                for i in range(len(_list)):\n",
    "                    if _list[i] in _list[:i] + _list[i+1:]:\n",
    "                        _k = nonzero_randint(self.elem_min, self.elem_max)\n",
    "                        _matrix = _matrix.elementary_row_op(op='n->kn', row=i, k=_k)\n",
    "                        _list = _matrix.tolist() \n",
    "                        _is_continue = True\n",
    "                if not _is_continue:\n",
    "                        break\n",
    "        return _matrix.tolist()\n",
    "    def generate(self, is_size_fixed=False):\n",
    "        if not is_size_fixed:\n",
    "            self.rows = random.randint(self.dim_min, self.dim_max)\n",
    "            self.cols = max(random.randint(self.dim_min, self.dim_max), self.rows)\n",
    "        self.pivots = [(0,0)]\n",
    "        for i in range(1,self.cols):\n",
    "            if random.random() > self.zero_vector_ratio:\n",
    "                self.pivots.append((len(self.pivots),i))\n",
    "        self.pivots = self.pivots[:min([len(self.pivots), self.rows, self.cols])]\n",
    "        self.row_space_basis = self._generate_row_space_basis()\n",
    "        self.rref = self.row_space_basis + [[0 for j in range(self.cols)] for i in range(self.rows - len(self.pivots))]\n",
    "        self.matrix = self._generate_mixed_matrix()\n",
    "    def get_pivots(self):\n",
    "        return self.pivots\n",
    "    def get_row_space_basis(self):\n",
    "        return self.row_space_basis\n",
    "    def get_rref(self):\n",
    "        return self.rref\n",
    "    def get_matrix(self):\n",
    "        return self.matrix\n",
    "    def str_rref(self, is_latex_closure=True):\n",
    "        if is_latex_closure:\n",
    "            _text = r'\\( '\n",
    "        else:\n",
    "            _text = ''\n",
    "        _text += sympy.latex(sympy.Matrix(self.rref), mat_delim='', mat_str='pmatrix')\n",
    "        if is_latex_closure:\n",
    "            _text += r' \\)'\n",
    "        return _text\n",
    "    def str_matrix(self, is_latex_closure=True):\n",
    "        if is_latex_closure:\n",
    "            _text = r'\\( '\n",
    "        else:\n",
    "            _text = ''\n",
    "        _text += sympy.latex(sympy.Matrix(self.matrix), mat_delim='', mat_str='pmatrix')\n",
    "        if is_latex_closure:\n",
    "            _text += r' \\)'\n",
    "        return _text"
   ]
  },
  {
   "cell_type": "code",
   "execution_count": 39,
   "metadata": {
    "hidden": true
   },
   "outputs": [
    {
     "data": {
      "text/plain": [
       "5"
      ]
     },
     "metadata": {},
     "output_type": "display_data"
    },
    {
     "data": {
      "text/plain": [
       "5"
      ]
     },
     "metadata": {},
     "output_type": "display_data"
    },
    {
     "data": {
      "text/plain": [
       "[(0, 0), (1, 3), (2, 4)]"
      ]
     },
     "metadata": {},
     "output_type": "display_data"
    },
    {
     "data": {
      "text/plain": [
       "[[1, -2, 1, 0, 0], [0, 0, 0, 1, 0], [0, 0, 0, 0, 1]]"
      ]
     },
     "metadata": {},
     "output_type": "display_data"
    },
    {
     "data": {
      "text/plain": [
       "[[1, -2, 1, 0, 0],\n",
       " [0, 0, 0, 1, 0],\n",
       " [0, 0, 0, 0, 1],\n",
       " [0, 0, 0, 0, 0],\n",
       " [0, 0, 0, 0, 0]]"
      ]
     },
     "metadata": {},
     "output_type": "display_data"
    },
    {
     "data": {
      "text/plain": [
       "[[-1, 2, -1, -2, 1],\n",
       " [1, -2, 1, -1, 0],\n",
       " [0, 0, 0, -2, 0],\n",
       " [1, -2, 1, -2, 0],\n",
       " [1, -2, 1, 0, 1]]"
      ]
     },
     "metadata": {},
     "output_type": "display_data"
    },
    {
     "data": {
      "text/html": [
       "\\( \\begin{pmatrix}1 & -2 & 1 & 0 & 0\\\\0 & 0 & 0 & 1 & 0\\\\0 & 0 & 0 & 0 & 1\\\\0 & 0 & 0 & 0 & 0\\\\0 & 0 & 0 & 0 & 0\\end{pmatrix} \\)"
      ],
      "text/plain": [
       "<IPython.core.display.HTML object>"
      ]
     },
     "metadata": {},
     "output_type": "display_data"
    },
    {
     "data": {
      "text/html": [
       "\\( \\begin{pmatrix}-1 & 2 & -1 & -2 & 1\\\\1 & -2 & 1 & -1 & 0\\\\0 & 0 & 0 & -2 & 0\\\\1 & -2 & 1 & -2 & 0\\\\1 & -2 & 1 & 0 & 1\\end{pmatrix} \\)"
      ],
      "text/plain": [
       "<IPython.core.display.HTML object>"
      ]
     },
     "metadata": {},
     "output_type": "display_data"
    }
   ],
   "source": [
    "if __name__ == \"__main__\":\n",
    "    mr = MatrixInReducedRowEchelonForm()\n",
    "    mr.set_dimension_range(3,5)\n",
    "    mr.set_element_range(-3,3)\n",
    "    mr.generate()\n",
    "    display(mr.rows)\n",
    "    display(mr.cols)\n",
    "    display(mr.pivots)\n",
    "    display(mr.row_space_basis)\n",
    "    display(mr.rref)\n",
    "    display(mr.matrix)\n",
    "    IPython.display.display(IPython.display.HTML(mr.str_rref()))\n",
    "    IPython.display.display(IPython.display.HTML(mr.str_matrix()))"
   ]
  },
  {
   "cell_type": "markdown",
   "metadata": {},
   "source": [
    "## linear equation"
   ]
  },
  {
   "cell_type": "code",
   "execution_count": 63,
   "metadata": {},
   "outputs": [],
   "source": [
    "class LinearEquation():\n",
    "    \"\"\"\n",
    "    This generates a linear equation.\n",
    "    \"\"\"\n",
    "    def __init__(self, other=None):\n",
    "        if other is not None:\n",
    "            self.dim_min = copy.deepcopy(other.dim_min)\n",
    "            self.dim_max = copy.deepcopy(other.dim_max)\n",
    "            self.elem_min = copy.deepcopy(other.elem_min)\n",
    "            self.elem_max = copy.deepcopy(other.elem_max)\n",
    "            self.zero_vector_ratio = copy.deepcopy(other.zero_vector_ratio)\n",
    "            self.zero_elements_rest = copy.deepcopy(other.zero_elements_rest)\n",
    "            self.inconsistent_ratio = copy.deepcopy(other.inconsistent_ratio)\n",
    "            self.matrix_rref = copy.deepcopy(other.matrix_rref)\n",
    "            self.solution_basis = copy.deepcopy(other.solution_basis)            \n",
    "            self.id = copy.deepcopy(other.id)\n",
    "        else:\n",
    "            self.dim_min = 3\n",
    "            self.dim_max = 5\n",
    "            self.elem_min = -3\n",
    "            self.elem_max = +3\n",
    "            self.zero_vector_ratio = 0.5\n",
    "            self.zero_elements_rest = -1\n",
    "            self.inconsistent_ratio = 0.25\n",
    "            self.id = random.random()\n",
    "    def __eq__(self, other):\n",
    "        if not isinstance(other, LinearEquation):\n",
    "            return False\n",
    "        elif self.matrix_rref != other.matrix_rref:\n",
    "            return False\n",
    "        return True\n",
    "    def __hash__(self):\n",
    "        self.id = hash(self.matrix_rref)\n",
    "        return self.id\n",
    "    def set_dimension_range(self, dmin, dmax):\n",
    "        \"\"\"\n",
    "        The range of dimension of augmented matrix.\n",
    "        \"\"\"\n",
    "        self.dim_min = dmin\n",
    "        self.dim_max = dmax\n",
    "    def set_element_range(self, emin, emax):\n",
    "        \"\"\"\n",
    "        The range of elements of matrix.\n",
    "        \"\"\"\n",
    "        self.elem_min = emin\n",
    "        self.elem_max = emax\n",
    "    def set_zero_vector_ratio(self, zratio):\n",
    "        \"\"\"\n",
    "        The ratio of zero row vector.\n",
    "        \"\"\"\n",
    "        self.zero_vector_ratio = zratio\n",
    "    def set_zero_elements_rest(self, zratio):\n",
    "        \"\"\"\n",
    "        The maximum number of zero elements.\n",
    "        \"\"\"\n",
    "        self.zero_elements_rest = zratio\n",
    "    def set_inconsistent_ratio(self, iratio):\n",
    "        \"\"\"\n",
    "        The ratio of inconsistent.\n",
    "        \"\"\"\n",
    "        self.inconsistent_ratio = iratio\n",
    "    def generate_solution_basis(self, force_to_generate=False):\n",
    "        if self.get_degrees_of_freedom() < 0 and not force_to_generate:\n",
    "            self.solution_basis = []\n",
    "            return            \n",
    "        _pivots = self.matrix_rref.get_pivots()\n",
    "        _const = [_v[-1] for _v in self.matrix_rref.get_row_space_basis()]\n",
    "        _rsb = [_v[:-1] for _v in self.matrix_rref.get_row_space_basis()]\n",
    "        if self.get_degrees_of_freedom() < 0:\n",
    "            _pivots = _pivots[:-1]\n",
    "            _const = _const[:-1]\n",
    "            _rsb = _rsb[:-1]\n",
    "        _n = len(_rsb[0])\n",
    "        _zero_vector = [0 for i in range(_n)]\n",
    "        _matrix = []\n",
    "        _vector = []\n",
    "        _current_i = 0\n",
    "        for i in range(_n):\n",
    "            if _current_i >= len(_pivots):\n",
    "                _matrix.append(_zero_vector)\n",
    "                _vector.append(0)\n",
    "            elif _pivots[_current_i][1] == i:\n",
    "                _matrix.append(_rsb[_current_i])\n",
    "                _vector.append(_const[_current_i])\n",
    "                _current_i = _current_i + 1\n",
    "            else:\n",
    "                _matrix.append(_zero_vector)\n",
    "                _vector.append(0)\n",
    "        self.solution_basis = [_vector]\n",
    "        _matrix = (sympy.eye(_n) - sympy.Matrix(_matrix)).transpose().tolist()\n",
    "        for _v in _matrix:\n",
    "            if not is_zero_vector(_v):\n",
    "                self.solution_basis.append(_v)\n",
    "    def generate(self):\n",
    "        self.matrix_rref = MatrixInReducedRowEchelonForm()\n",
    "        self.matrix_rref.set_dimension_range(self.dim_min,self.dim_max)\n",
    "        self.matrix_rref.set_element_range(self.elem_min,self.elem_max)\n",
    "        self.matrix_rref.set_zero_vector_ratio(self.zero_vector_ratio)\n",
    "        self.matrix_rref.set_zero_elements_rest(self.zero_elements_rest)\n",
    "        self.matrix_rref.set_zero_elements_rest(1)\n",
    "        if random.random() <= self.inconsistent_ratio:\n",
    "            _is_inconsistent = True\n",
    "        else:\n",
    "            _is_inconsistent = False\n",
    "        while True:\n",
    "            self.matrix_rref.generate()\n",
    "            _is_zero = False\n",
    "            for _v in self.matrix_rref.get_matrix():\n",
    "                if is_zero_vector(_v[:-1]):\n",
    "                    _is_zero = True\n",
    "            if _is_zero:\n",
    "                continue\n",
    "            for _v in (sympy.Matrix(self.matrix_rref.get_matrix()).transpose().tolist())[:-1]:\n",
    "                if is_zero_vector(_v):\n",
    "                    _is_zero = True\n",
    "            if _is_zero:\n",
    "                continue            \n",
    "            if _is_inconsistent:\n",
    "                if self.get_degrees_of_freedom() < 0:\n",
    "                    break\n",
    "            else:\n",
    "                if self.get_degrees_of_freedom() >= 0:\n",
    "                    break                 \n",
    "        self.generate_solution_basis()\n",
    "    def get_degrees_of_freedom(self):\n",
    "        _m = sympy.Matrix(self.matrix_rref.get_rref())\n",
    "        for _p in self.matrix_rref.get_pivots():\n",
    "            if _p[1] == _m.cols - 1:\n",
    "                return -1\n",
    "        _num_of_variables = _m.cols - 1\n",
    "        _num_of_restrictions = _m.rank()\n",
    "        return _num_of_variables - _num_of_restrictions\n",
    "    def get_rref(self):\n",
    "        return self.matrix_rref.get_rref()\n",
    "    def get_matrix(self):\n",
    "        return self.matrix_rref.get_matrix()\n",
    "    def get_solution_basis(self):\n",
    "        return self.solution_basis\n",
    "    def get_fake_solution_basis_basic_sign(self):\n",
    "        _pivots = self.matrix_rref.get_pivots()\n",
    "        _const = [_v[-1] for _v in self.matrix_rref.get_row_space_basis()]\n",
    "        _rsb = [_v[:-1] for _v in self.matrix_rref.get_row_space_basis()]\n",
    "        if self.get_degrees_of_freedom() < 0:\n",
    "            _pivots = _pivots[:-1]\n",
    "            _const = _const[:-1]\n",
    "            _rsb = _rsb[:-1]\n",
    "        _n = len(_rsb[0])\n",
    "        _zero_vector = [0 for i in range(_n)]\n",
    "        _matrix = []\n",
    "        _vector = []\n",
    "        _current_i = 0\n",
    "        for i in range(_n):\n",
    "            if _current_i >= len(_pivots):\n",
    "                _matrix.append(_zero_vector)\n",
    "                _vector.append(0)\n",
    "            elif _pivots[_current_i][1] == i:\n",
    "                _matrix.append(_rsb[_current_i])\n",
    "                _vector.append(_const[_current_i])\n",
    "                _current_i = _current_i + 1\n",
    "            else:\n",
    "                _matrix.append(_zero_vector)\n",
    "                _vector.append(0)\n",
    "        _fake_solution_basis = [_vector]\n",
    "        _matrix = [[_matrix[i][j] if i == j else -_matrix[i][j] for j in range(len(_matrix[0]))] for i in range(len(_matrix))]        \n",
    "        _matrix = (sympy.eye(_n) - sympy.Matrix(_matrix)).transpose().tolist()\n",
    "        for _v in _matrix:\n",
    "            if not is_zero_vector(_v):\n",
    "                _fake_solution_basis.append(_v)\n",
    "        if len(_fake_solution_basis) > 1:\n",
    "            return [_fake_solution_basis]\n",
    "        else:\n",
    "            return []\n",
    "    def get_fake_solution_basis_special_sign(self):\n",
    "        _pivots = self.matrix_rref.get_pivots()\n",
    "        _const = [_v[-1] for _v in self.matrix_rref.get_row_space_basis()]\n",
    "        _rsb = [_v[:-1] for _v in self.matrix_rref.get_row_space_basis()]\n",
    "        if self.get_degrees_of_freedom() < 0:\n",
    "            _pivots = _pivots[:-1]\n",
    "            _const = _const[:-1]\n",
    "            _rsb = _rsb[:-1]\n",
    "        _n = len(_rsb[0])\n",
    "        _zero_vector = [0 for i in range(_n)]\n",
    "        _matrix = []\n",
    "        _vector = []\n",
    "        _current_i = 0\n",
    "        for i in range(_n):\n",
    "            if _current_i >= len(_pivots):\n",
    "                _matrix.append(_zero_vector)\n",
    "                _vector.append(0)\n",
    "            elif _pivots[_current_i][1] == i:\n",
    "                _matrix.append(_rsb[_current_i])\n",
    "                _vector.append(-_const[_current_i])\n",
    "                _current_i = _current_i + 1\n",
    "            else:\n",
    "                _matrix.append(_zero_vector)\n",
    "                _vector.append(0)\n",
    "        _fake_solution_basis = [_vector]\n",
    "        _matrix = (sympy.eye(_n) - sympy.Matrix(_matrix)).transpose().tolist()\n",
    "        for _v in _matrix:\n",
    "            if not is_zero_vector(_v):\n",
    "                _fake_solution_basis.append(_v)\n",
    "        if self.get_degrees_of_freedom() < 0 or not self.is_solution(_fake_solution_basis[0]):\n",
    "            return [_fake_solution_basis]\n",
    "        else:\n",
    "            return []\n",
    "    def get_fake_solution_basis_basic_drop(self):\n",
    "        _pivots = self.matrix_rref.get_pivots()\n",
    "        _const = [_v[-1] for _v in self.matrix_rref.get_row_space_basis()]\n",
    "        _rsb = [_v[:-1] for _v in self.matrix_rref.get_row_space_basis()]\n",
    "        if self.get_degrees_of_freedom() < 0:\n",
    "            _pivots = _pivots[:-1]\n",
    "            _const = _const[:-1]\n",
    "            _rsb = _rsb[:-1]\n",
    "        _n = len(_rsb[0])\n",
    "        _zero_vector = [0 for i in range(_n)]\n",
    "        _matrix = []\n",
    "        _vector = []\n",
    "        _current_i = 0\n",
    "        for i in range(_n):\n",
    "            if _current_i >= len(_pivots):\n",
    "                _matrix.append(_zero_vector)\n",
    "                _vector.append(0)\n",
    "            elif _pivots[_current_i][1] == i:\n",
    "                _matrix.append(_rsb[_current_i])\n",
    "                _vector.append(_const[_current_i])\n",
    "                _current_i = _current_i + 1\n",
    "            else:\n",
    "                _matrix.append(_zero_vector)\n",
    "                _vector.append(0)\n",
    "        _fake_solution_basis = [_vector]\n",
    "        _matrix = (sympy.eye(_n) - sympy.Matrix(_matrix)).transpose().tolist()\n",
    "        for _v in _matrix:\n",
    "            if not is_zero_vector(_v):\n",
    "                _fake_solution_basis.append(_v)\n",
    "        if len(_fake_solution_basis) > 1:\n",
    "            _fakes = []\n",
    "            for i in range(1,len(_fake_solution_basis)):\n",
    "                _fakes.append(_fake_solution_basis[:i] + _fake_solution_basis[i+1:])\n",
    "            return _fakes\n",
    "        else:\n",
    "            return []\n",
    "    def get_fake_solution_basis_basic_fulldrop(self):\n",
    "        _pivots = self.matrix_rref.get_pivots()\n",
    "        _const = [_v[-1] for _v in self.matrix_rref.get_row_space_basis()]\n",
    "        _rsb = [_v[:-1] for _v in self.matrix_rref.get_row_space_basis()]\n",
    "        if self.get_degrees_of_freedom() < 0:\n",
    "            _pivots = _pivots[:-1]\n",
    "            _const = _const[:-1]\n",
    "            _rsb = _rsb[:-1]\n",
    "        _n = len(_rsb[0])\n",
    "        _zero_vector = [0 for i in range(_n)]\n",
    "        _matrix = []\n",
    "        _vector = []\n",
    "        _current_i = 0\n",
    "        for i in range(_n):\n",
    "            if _current_i >= len(_pivots):\n",
    "                _matrix.append(_zero_vector)\n",
    "                _vector.append(0)\n",
    "            elif _pivots[_current_i][1] == i:\n",
    "                _matrix.append(_rsb[_current_i])\n",
    "                _vector.append(_const[_current_i])\n",
    "                _current_i = _current_i + 1\n",
    "            else:\n",
    "                _matrix.append(_zero_vector)\n",
    "                _vector.append(0)\n",
    "        _fake_solution_basis = [_vector]\n",
    "        _matrix = (sympy.eye(_n) - sympy.Matrix(_matrix)).transpose().tolist()\n",
    "        for _v in _matrix:\n",
    "            if not is_zero_vector(_v):\n",
    "                return [_fake_solution_basis]\n",
    "        return []\n",
    "    def get_fake_solution_basis_special_random(self):\n",
    "        _pivots = self.matrix_rref.get_pivots()\n",
    "        _const = [_v[-1] for _v in self.matrix_rref.get_row_space_basis()]\n",
    "        _rsb = [_v[:-1] for _v in self.matrix_rref.get_row_space_basis()]\n",
    "        _n = len(_rsb[0])\n",
    "        if len(_const) > _n + 1:\n",
    "            _const = _const[:_n+1]\n",
    "        elif len(_const) < _n + 1:\n",
    "            _const = _const + [0 for i in range(_n + 1 - len(_const))]\n",
    "        _fakes = []\n",
    "        for _v in [_const[:i] + _const[i+1:] for i in range(_n+1)]:\n",
    "            if not self.is_solution(_v):\n",
    "                _fakes.append([_v])\n",
    "        return _fakes            \n",
    "    def get_fake_solution_basis_special_drop(self):\n",
    "        _pivots = self.matrix_rref.get_pivots()\n",
    "        _const = [_v[-1] for _v in self.matrix_rref.get_row_space_basis()]\n",
    "        _rsb = [_v[:-1] for _v in self.matrix_rref.get_row_space_basis()]\n",
    "        if self.get_degrees_of_freedom() < 0:\n",
    "            _pivots = _pivots[:-1]\n",
    "            _const = _const[:-1]\n",
    "            _rsb = _rsb[:-1]\n",
    "        _n = len(_rsb[0])\n",
    "        _zero_vector = [0 for i in range(_n)]\n",
    "        _matrix = []\n",
    "        _vector = []\n",
    "        _current_i = 0\n",
    "        for i in range(_n):\n",
    "            if _current_i >= len(_pivots):\n",
    "                _matrix.append(_zero_vector)\n",
    "                _vector.append(0)\n",
    "            elif _pivots[_current_i][1] == i:\n",
    "                _matrix.append(_rsb[_current_i])\n",
    "                _vector.append(0)\n",
    "                _current_i = _current_i + 1\n",
    "            else:\n",
    "                _matrix.append(_zero_vector)\n",
    "                _vector.append(0)\n",
    "        _fake_solution_basis = [_vector]\n",
    "        _matrix = (sympy.eye(_n) - sympy.Matrix(_matrix)).transpose().tolist()\n",
    "        for _v in _matrix:\n",
    "            if not is_zero_vector(_v):\n",
    "                _fake_solution_basis.append(_v)\n",
    "        if self.get_degrees_of_freedom() < 0 or not self.is_solution(_fake_solution_basis[0]):\n",
    "            return [_fake_solution_basis]\n",
    "        else:\n",
    "            return []\n",
    "    def get_fake_solution_basis(self, itype):\n",
    "        if itype == 'basic_fulldrop':\n",
    "            return self.get_fake_solution_basis_basic_fulldrop()\n",
    "        elif itype == 'basic_drop':\n",
    "            return self.get_fake_solution_basis_basic_drop()\n",
    "        elif itype == 'special_drop':\n",
    "            return self.get_fake_solution_basis_special_drop()\n",
    "        elif itype == 'basic_sign':\n",
    "            return self.get_fake_solution_basis_basic_sign()\n",
    "        elif itype == 'special_sign':\n",
    "            return self.get_fake_solution_basis_special_sign()\n",
    "        elif itype == 'special_random':\n",
    "            return self.get_fake_solution_basis_special_random()\n",
    "        else:\n",
    "            return []\n",
    "    def is_solution(self, vect):\n",
    "        _matAT = sympy.Matrix(self.get_matrix())\n",
    "        return _matAT[:,:-1]*sympy.Matrix(vect) == _matAT[:,-1]\n",
    "    def str_equation(self, is_latex_closure=True):\n",
    "        if is_latex_closure:\n",
    "            _text = r'\\( '\n",
    "        else:\n",
    "            _text = ''\n",
    "        _text += r'\\left\\{\\begin{array}{l}'\n",
    "        _matrix = self.get_matrix()\n",
    "        _vars = [sympy.Symbol('x' + str(i)) for i in range(1,len(_matrix[0]))]\n",
    "        for _v in _matrix:\n",
    "            _eq = 0\n",
    "            for _i in range(len(_v[:-1])):\n",
    "                _eq += _v[_i] * _vars[_i]\n",
    "            _text += sympy.latex(sympy.Eq(_eq, _v[-1])) + r'\\\\'\n",
    "        _text += r'\\end{array}\\right.'\n",
    "        if is_latex_closure:\n",
    "            _text += r' \\)'\n",
    "        return _text            \n",
    "    def str_solution(self, is_latex_closure=True):\n",
    "        if len(self.solution_basis) == 0:\n",
    "            return r'解なし'\n",
    "        if is_latex_closure:\n",
    "            _text = r'\\( '\n",
    "        else:\n",
    "            _text = ''\n",
    "        _vars = [sympy.Symbol('x' + str(i)) for i in range(1,len(self.get_matrix()[0]))]\n",
    "        _text += sympy.latex(sympy.Matrix([_vars]).transpose(), mat_delim='', mat_str='pmatrix')\n",
    "        _text += r' = '\n",
    "        for i in range(1,len(self.solution_basis)):\n",
    "            _text += sympy.latex(sympy.Matrix([self.solution_basis[i]]).transpose(), mat_delim='', mat_str='pmatrix')\n",
    "            _text += r' c_{' + str(i) + r'} + '\n",
    "        if is_zero_vector(self.solution_basis[0]) and len(self.solution_basis) > 1:\n",
    "            _text = _text[:-2]\n",
    "        else:\n",
    "            _text += sympy.latex(sympy.Matrix([self.solution_basis[0]]).transpose(), mat_delim='', mat_str='pmatrix')\n",
    "        for i in range(1,len(self.solution_basis)):\n",
    "            _text += r',\\;c_{' + str(i) + r'}\\in\\mathbb{R}'\n",
    "        if is_latex_closure:\n",
    "            _text += r' \\)'\n",
    "        return _text            \n",
    "    def str_rref(self, is_latex_closure=True):\n",
    "        if is_latex_closure:\n",
    "            _text = r'\\( '\n",
    "        else:\n",
    "            _text = ''\n",
    "        _text += sympy.latex(sympy.Matrix(self.get_rref()), mat_delim='', mat_str='pmatrix')\n",
    "        if is_latex_closure:\n",
    "            _text += r' \\)'\n",
    "        return _text\n",
    "    def str_matrix(self, is_latex_closure=True):\n",
    "        if is_latex_closure:\n",
    "            _text = r'\\( '\n",
    "        else:\n",
    "            _text = ''\n",
    "        _text += sympy.latex(sympy.Matrix(self.get_matrix()), mat_delim='', mat_str='pmatrix')\n",
    "        if is_latex_closure:\n",
    "            _text += r' \\)'\n",
    "        return _text"
   ]
  },
  {
   "cell_type": "code",
   "execution_count": 71,
   "metadata": {},
   "outputs": [
    {
     "data": {
      "text/plain": [
       "-1"
      ]
     },
     "metadata": {},
     "output_type": "display_data"
    },
    {
     "data": {
      "text/html": [
       "\\( \\begin{pmatrix}1 & 0 & 0\\\\0 & 1 & 0\\\\0 & 0 & 1\\end{pmatrix} \\)"
      ],
      "text/plain": [
       "<IPython.core.display.HTML object>"
      ]
     },
     "metadata": {},
     "output_type": "display_data"
    },
    {
     "data": {
      "text/html": [
       "\\( \\begin{pmatrix}-1 & 1 & -5\\\\1 & -1 & 4\\\\-2 & 1 & -3\\end{pmatrix} \\)"
      ],
      "text/plain": [
       "<IPython.core.display.HTML object>"
      ]
     },
     "metadata": {},
     "output_type": "display_data"
    },
    {
     "data": {
      "text/html": [
       "\\( \\left\\{\\begin{array}{l}- x_{1} + x_{2} = -5\\\\x_{1} - x_{2} = 4\\\\- 2 x_{1} + x_{2} = -3\\\\\\end{array}\\right. \\)"
      ],
      "text/plain": [
       "<IPython.core.display.HTML object>"
      ]
     },
     "metadata": {},
     "output_type": "display_data"
    },
    {
     "data": {
      "text/html": [
       "解なし"
      ],
      "text/plain": [
       "<IPython.core.display.HTML object>"
      ]
     },
     "metadata": {},
     "output_type": "display_data"
    },
    {
     "data": {
      "text/html": [
       "\\( \\begin{pmatrix}x_{1}\\\\x_{2}\\end{pmatrix} = \\begin{pmatrix}0\\\\0\\end{pmatrix} \\)"
      ],
      "text/plain": [
       "<IPython.core.display.HTML object>"
      ]
     },
     "metadata": {},
     "output_type": "display_data"
    },
    {
     "data": {
      "text/plain": [
       "[]"
      ]
     },
     "metadata": {},
     "output_type": "display_data"
    },
    {
     "data": {
      "text/plain": [
       "[[[0, 0]]]"
      ]
     },
     "metadata": {},
     "output_type": "display_data"
    },
    {
     "data": {
      "text/plain": [
       "[]"
      ]
     },
     "metadata": {},
     "output_type": "display_data"
    },
    {
     "data": {
      "text/plain": [
       "[]"
      ]
     },
     "metadata": {},
     "output_type": "display_data"
    },
    {
     "data": {
      "text/plain": [
       "[[[0, 0]]]"
      ]
     },
     "metadata": {},
     "output_type": "display_data"
    },
    {
     "data": {
      "text/plain": [
       "[[[0, 1]], [[0, 1]], [[0, 0]]]"
      ]
     },
     "metadata": {},
     "output_type": "display_data"
    }
   ],
   "source": [
    "if __name__ == \"__main__\":\n",
    "    le = LinearEquation()\n",
    "    le.set_dimension_range(3,4)\n",
    "    le.set_element_range(-3,3)\n",
    "    le.generate()\n",
    "    display(le.get_degrees_of_freedom())\n",
    "    IPython.display.display(IPython.display.HTML(le.str_rref()))\n",
    "    IPython.display.display(IPython.display.HTML(le.str_matrix()))\n",
    "    IPython.display.display(IPython.display.HTML(le.str_equation()))\n",
    "    IPython.display.display(IPython.display.HTML(le.str_solution()))\n",
    "    le.generate_solution_basis(force_to_generate=True)\n",
    "    IPython.display.display(IPython.display.HTML(le.str_solution()))\n",
    "    display(le.get_fake_solution_basis('basic_sign'))\n",
    "    display(le.get_fake_solution_basis('special_sign'))\n",
    "    display(le.get_fake_solution_basis('basic_fulldrop'))\n",
    "    display(le.get_fake_solution_basis('basic_drop'))\n",
    "    display(le.get_fake_solution_basis('special_drop'))\n",
    "    display(le.get_fake_solution_basis('special_random'))"
   ]
  },
  {
   "cell_type": "markdown",
   "metadata": {
    "heading_collapsed": true
   },
   "source": [
    "## matrix in row echelon form"
   ]
  },
  {
   "cell_type": "code",
   "execution_count": 13,
   "metadata": {
    "hidden": true
   },
   "outputs": [],
   "source": [
    "class MatrixInRowEchelonForm():\n",
    "    \"\"\"\n",
    "    This generates a general expression of row echelon form.\n",
    "    \"\"\"\n",
    "    def __init__(self, other=None):\n",
    "        if other is not None:\n",
    "            self.dim_min = copy.deepcopy(other.dim_min)\n",
    "            self.dim_max = copy.deepcopy(other.dim_max)\n",
    "            self.elem_min = copy.deepcopy(other.elem_min)\n",
    "            self.elem_max = copy.deepcopy(other.elem_max)\n",
    "            self.zero_vector_ratio = copy.deepcopy(other.zero_vector_ratio)\n",
    "            self.rows = copy.deepcopy(other.rows)\n",
    "            self.cols = copy.deepcopy(other.cols)\n",
    "            self.pivots = copy.deepcopy(other.pivots)\n",
    "            self.row_space_basis = copy.deepcopy(other.row_space_basis)\n",
    "            self.ref = copy.deepcopy(other.ref)\n",
    "            self.matrix = copy.deepcopy(other.matrix)\n",
    "            self.id = copy.deepcopy(other.id)\n",
    "        else:\n",
    "            self.dim_min = 3\n",
    "            self.dim_max = 5\n",
    "            self.elem_min = -3\n",
    "            self.elem_max = +3\n",
    "            self.zero_vector_ratio = 0.5\n",
    "            self.id = random.random()\n",
    "    def __eq__(self, other):\n",
    "        if not isinstance(other, MatrixReductions):\n",
    "            return False\n",
    "        elif self.row_space_basis != other.row_space_basis:\n",
    "            return False\n",
    "        elif self.ref != other.ref:\n",
    "            return False\n",
    "        elif self.matrix != other.matrix:\n",
    "            return False\n",
    "        return True\n",
    "    def __hash__(self):\n",
    "        self.id = hash(str(self.row_space_basis) + str(self.ref) + str(self.matrix))\n",
    "        return self.id\n",
    "    def set_dimension_range(self, dmin, dmax):\n",
    "        \"\"\"\n",
    "        The range of dimension of matrix.\n",
    "        \"\"\"\n",
    "        self.dim_min = dmin\n",
    "        self.dim_max = dmax\n",
    "    def set_element_range(self, emin, emax):\n",
    "        \"\"\"\n",
    "        The range of elements of matrix.\n",
    "        \"\"\"\n",
    "        self.elem_min = emin\n",
    "        self.elem_max = emax\n",
    "    def set_zero_vector_ratio(self, zratio):\n",
    "        \"\"\"\n",
    "        The ratio of zero row vector.\n",
    "        \"\"\"\n",
    "        self.zero_vector_ratio = zratio\n",
    "    def _generate_row_space_basis(self):\n",
    "        _indices = [_p[1] for _p in self.pivots]\n",
    "        _basis = []\n",
    "        for i in range(len(self.pivots)):\n",
    "            _vector = []\n",
    "            for j in range(self.cols):\n",
    "                if j < self.pivots[i][1]:\n",
    "                    _vector.append(0)\n",
    "                elif j == self.pivots[i][1]:\n",
    "                    _vector.append(nonzero_randint(self.elem_min, self.elem_max))\n",
    "                else:\n",
    "                    _vector.append(random.randint(self.elem_min, self.elem_max))\n",
    "            _basis.append(_vector)\n",
    "        return _basis\n",
    "    def _generate_mixed_matrix(self):\n",
    "        _op_types = ['n->kn', 'n<->m', 'n->n+km']\n",
    "        _matrix = sympy.Matrix(self.row_space_basis + [random.choice(self.row_space_basis) for i in range(self.rows - len(self.row_space_basis))])\n",
    "        while max(abs(_matrix)) <= 4*max(abs(self.elem_min),abs(self.elem_max)) and flatten_list_all(_matrix.tolist()).count(0) > min(self.rows, self.cols):\n",
    "            for i in range(max([self.rows, self.cols])):\n",
    "                _op = random.choice(_op_types)\n",
    "                _k = 1 if random.random() < 0.5 else -1\n",
    "                _row = random.choice(range(self.rows))\n",
    "                _row2 = _row\n",
    "                while _row == _row2:\n",
    "                    _row2 = random.choice(range(self.rows))\n",
    "                _matrix = _matrix.elementary_row_op(op=_op, row=_row, k=_k, row2=_row2)\n",
    "        if _matrix.rank() != len(self.row_space_basis):\n",
    "            return self._generate_mixed_matrix()\n",
    "        return _matrix.tolist()\n",
    "    def _generate_swapped_matrix(self):\n",
    "        _op_types = ['n<->m']\n",
    "        _matrix = sympy.Matrix(self.row_space_basis + [[0 for j in range(self.cols)] for i in range(self.rows - len(self.row_space_basis))])\n",
    "        for i in range(max([self.rows, self.cols])):\n",
    "            _op = random.choice(_op_types)\n",
    "            _k = 1 if random.random() < 0.5 else -1\n",
    "            _row = random.choice(range(self.rows))\n",
    "            _row2 = _row\n",
    "            while _row == _row2:\n",
    "                _row2 = random.choice(range(self.rows))\n",
    "            _matrix = _matrix.elementary_row_op(op=_op, row=_row, k=_k, row2=_row2)\n",
    "        if _matrix.rank() != len(self.row_space_basis):\n",
    "            return self._generate_swapped_matrix()\n",
    "        return _matrix.tolist()\n",
    "    def generate(self, is_size_fixed=False, is_swap_only=False):\n",
    "        if not is_size_fixed:\n",
    "            self.rows = random.randint(self.dim_min, self.dim_max)\n",
    "            self.cols = max(random.randint(self.dim_min, self.dim_max), self.rows)\n",
    "        self.pivots = [(0,0)]\n",
    "        for i in range(1,self.cols):\n",
    "            if random.random() > self.zero_vector_ratio:\n",
    "                self.pivots.append((len(self.pivots),i))\n",
    "        self.pivots = self.pivots[:min([len(self.pivots), self.rows, self.cols])]\n",
    "        self.row_space_basis = self._generate_row_space_basis()\n",
    "        self.ref = self.row_space_basis + [[0 for j in range(self.cols)] for i in range(self.rows - len(self.pivots))]\n",
    "        if is_swap_only:\n",
    "            self.matrix = self._generate_swapped_matrix()\n",
    "        else:\n",
    "            self.matrix = self._generate_mixed_matrix()\n",
    "    def get_rank(self):\n",
    "        return len(self.pivots)\n",
    "    def get_ref(self):\n",
    "        return self.ref\n",
    "    def get_matrix(self):\n",
    "        return self.matrix\n",
    "    def str_ref(self, is_latex_closure=True):\n",
    "        if is_latex_closure:\n",
    "            _text = r'\\( '\n",
    "        else:\n",
    "            _text = ''\n",
    "        _text += sympy.latex(sympy.Matrix(self.ref), mat_delim='', mat_str='pmatrix')\n",
    "        if is_latex_closure:\n",
    "            _text += r' \\)'\n",
    "        return _text\n",
    "    def str_matrix(self, is_latex_closure=True):\n",
    "        if is_latex_closure:\n",
    "            _text = r'\\( '\n",
    "        else:\n",
    "            _text = ''\n",
    "        _text += sympy.latex(sympy.Matrix(self.matrix), mat_delim='', mat_str='pmatrix')\n",
    "        if is_latex_closure:\n",
    "            _text += r' \\)'\n",
    "        return _text"
   ]
  },
  {
   "cell_type": "code",
   "execution_count": 178,
   "metadata": {
    "hidden": true,
    "scrolled": true
   },
   "outputs": [
    {
     "data": {
      "text/plain": [
       "3"
      ]
     },
     "metadata": {},
     "output_type": "display_data"
    },
    {
     "data": {
      "text/plain": [
       "5"
      ]
     },
     "metadata": {},
     "output_type": "display_data"
    },
    {
     "data": {
      "text/plain": [
       "[(0, 0), (1, 1), (2, 2)]"
      ]
     },
     "metadata": {},
     "output_type": "display_data"
    },
    {
     "data": {
      "text/plain": [
       "[[3, -2, 1, -2, 3], [0, -3, 0, -2, 2], [0, 0, 2, 3, 2]]"
      ]
     },
     "metadata": {},
     "output_type": "display_data"
    },
    {
     "data": {
      "text/plain": [
       "[[3, -2, 1, -2, 3], [0, -3, 0, -2, 2], [0, 0, 2, 3, 2]]"
      ]
     },
     "metadata": {},
     "output_type": "display_data"
    },
    {
     "data": {
      "text/plain": [
       "[[3, -2, 1, -2, 3], [0, -3, 0, -2, 2], [0, 3, -2, -1, -4]]"
      ]
     },
     "metadata": {},
     "output_type": "display_data"
    },
    {
     "data": {
      "text/html": [
       "\\( \\begin{pmatrix}3 & -2 & 1 & -2 & 3\\\\0 & -3 & 0 & -2 & 2\\\\0 & 0 & 2 & 3 & 2\\end{pmatrix} \\)"
      ],
      "text/plain": [
       "<IPython.core.display.HTML object>"
      ]
     },
     "metadata": {},
     "output_type": "display_data"
    },
    {
     "data": {
      "text/html": [
       "\\( \\begin{pmatrix}3 & -2 & 1 & -2 & 3\\\\0 & -3 & 0 & -2 & 2\\\\0 & 3 & -2 & -1 & -4\\end{pmatrix} \\)"
      ],
      "text/plain": [
       "<IPython.core.display.HTML object>"
      ]
     },
     "metadata": {},
     "output_type": "display_data"
    }
   ],
   "source": [
    "if __name__ == \"__main__\":\n",
    "    mr = MatrixInRowEchelonForm()\n",
    "    mr.set_dimension_range(3,5)\n",
    "    mr.set_element_range(-3,3)\n",
    "    mr.generate()\n",
    "    display(mr.rows)\n",
    "    display(mr.cols)\n",
    "    display(mr.pivots)\n",
    "    display(mr.row_space_basis)\n",
    "    display(mr.ref)\n",
    "    display(mr.matrix)\n",
    "    IPython.display.display(IPython.display.HTML(mr.str_ref()))\n",
    "    IPython.display.display(IPython.display.HTML(mr.str_matrix()))"
   ]
  },
  {
   "cell_type": "markdown",
   "metadata": {
    "heading_collapsed": true
   },
   "source": [
    "## inverse matrix"
   ]
  },
  {
   "cell_type": "code",
   "execution_count": 13,
   "metadata": {
    "hidden": true
   },
   "outputs": [],
   "source": [
    "class InverseMatrix():\n",
    "    \"\"\"\n",
    "    This generates a general expression of matrix will be inversed.\n",
    "    \"\"\"\n",
    "    def __init__(self, other=None):\n",
    "        if other is not None:\n",
    "            self.dim_min = copy.deepcopy(other.dim_min)\n",
    "            self.dim_max = copy.deepcopy(other.dim_max)\n",
    "            self.square_ratio = copy.deepcopy(other.square_ratio)\n",
    "            self.singular_ratio = copy.deepcopy(other.singular_ratio)\n",
    "            self.num_swap = copy.deepcopy(other.num_swap)\n",
    "            self.num_add = copy.deepcopy(other.num_add)\n",
    "            self.num_scale = copy.deepcopy(other.num_scale)\n",
    "            self.scale_min = copy.deepcopy(other.scale_min)\n",
    "            self.scale_max = copy.deepcopy(other.scale_max)\n",
    "            self.rows = copy.deepcopy(other.rows)\n",
    "            self.cols = copy.deepcopy(other.cols)\n",
    "            self.row_space_generator = copy.deepcopy(other.row_space_generator)\n",
    "            self.matrix = copy.deepcopy(other.matrix)\n",
    "            self.is_singular = copy.deepcopy(other.is_singular)\n",
    "            self.matrix_extended = copy.deepcopy(other.matrix_extended)\n",
    "            self.matrix_extended_rref = copy.deepcopy(other.matrix_extended_rref)\n",
    "            self.inverse_matrix = copy.deepcopy(other.inverse_matrix)\n",
    "            self.id = copy.deepcopy(other.id)\n",
    "        else:\n",
    "            self.dim_min = 3\n",
    "            self.dim_max = 5\n",
    "            self.square_ratio = 0.75\n",
    "            self.singular_ratio = 0.5\n",
    "            self.num_swap = 2\n",
    "            self.num_add = 10\n",
    "            self.num_scale = 0            \n",
    "            self.scale_min = -2\n",
    "            self.scale_max = +2\n",
    "            self.id = random.random()\n",
    "    def __eq__(self, other):\n",
    "        if not isinstance(other, MatrixReductions):\n",
    "            return False\n",
    "        elif self.row_space_generator != other.row_space_generator:\n",
    "            return False\n",
    "        elif self.matrix != other.matrix:\n",
    "            return False\n",
    "        elif self.inverse_matrix != other.inverse_matrix:\n",
    "            return False\n",
    "        return True\n",
    "    def __hash__(self):\n",
    "        self.id = hash(str(self.row_space_generator) + str(self.matrix) + str(self.inverse_matrix))\n",
    "        return self.id\n",
    "    def set_dimension_range(self, dmin, dmax):\n",
    "        \"\"\"\n",
    "        The range of dimension of matrix.\n",
    "        \"\"\"\n",
    "        self.dim_min = dmin\n",
    "        self.dim_max = dmax\n",
    "    def set_ratio(self, square_ratio, singular_ratio):\n",
    "        \"\"\"\n",
    "        The ratios of generated matrix.\n",
    "        \"\"\"\n",
    "        self.square_ratio = square_ratio\n",
    "        self.singular_ratio = singular_ratio\n",
    "    def set_elementary_operation(self, num_swap, num_add, num_scale, scale_min, scale_max):\n",
    "        \"\"\"\n",
    "        The configurations of elementary row operations.\n",
    "        \"\"\"\n",
    "        self.num_swap = num_swap\n",
    "        self.num_add = num_add\n",
    "        self.num_scale = num_scale\n",
    "        self.scale_min = scale_min\n",
    "        self.scale_max = scale_max\n",
    "    def _generate_row_space_generator(self):\n",
    "        self.rows = random.randint(self.dim_min, self.dim_max)\n",
    "        self.cols = self.rows\n",
    "        if random.random() > self.square_ratio:\n",
    "            while self.rows == self.cols:\n",
    "                self.cols = random.randint(self.dim_min, self.dim_max)\n",
    "        if self.cols == self.rows and random.random() > self.singular_ratio:\n",
    "            self.is_singular = False\n",
    "            return [[0 if i != j else 1 for j in range(self.cols)] for i in range(self.rows)]\n",
    "        else:\n",
    "            self.is_singular = True\n",
    "        _maxrows = self.rows\n",
    "        while _maxrows >= self.cols:\n",
    "            _maxrows -= 1\n",
    "        _generator = []\n",
    "        while sympy.Matrix(_generator).rank() == 0:\n",
    "            _generator = [[random.choice([-1,0,1]) for j in range(self.cols)] for i in range(_maxrows)]\n",
    "        while len(_generator) < self.rows:\n",
    "            _generator.append(random.choice(_generator))\n",
    "        return _generator\n",
    "    def _generate_matrix(self):\n",
    "        _matrix = sympy.Matrix(self.row_space_generator)\n",
    "        for i in range(self.num_add):\n",
    "            _k = random.choice([-1,1])\n",
    "            _row = random.choice(range(self.rows))\n",
    "            _row2 = _row\n",
    "            while _row == _row2:\n",
    "                _row2 = random.choice(range(self.rows))\n",
    "            _matrix = _matrix.elementary_row_op(op='n->n+km', row=_row, k=_k, row2=_row2)\n",
    "        for i in range(self.num_swap):\n",
    "            _row = random.choice(range(self.rows))\n",
    "            _row2 = _row\n",
    "            while _row == _row2:\n",
    "                _row2 = random.choice(range(self.rows))\n",
    "            _matrix = _matrix.elementary_row_op(op='n<->m', row=_row, row2=_row2)\n",
    "        for i in range(self.num_scale):\n",
    "            _k = nonzero_randint(self.scale_min, self.scale_max)\n",
    "            _row = random.choice(range(self.rows))\n",
    "            _matrix = _matrix.elementary_row_op(op='n->kn', row=_row, k=_k)\n",
    "        return _matrix.tolist()\n",
    "    def _generate_extended_matrix(self):\n",
    "        _identity = [[0 if i != j else 1 for j in range(self.rows)] for i in range(self.rows)]\n",
    "        _matrix = [_l + _r for _l,_r in zip(self.matrix, _identity)]\n",
    "        return _matrix\n",
    "    def _generate_extended_matrix_rref(self):\n",
    "        _rref = sympy.Matrix(self.matrix_extended).rref()[0]\n",
    "        return _rref.tolist()\n",
    "    def _generate_inverse_matrix(self):\n",
    "        if not self.is_singular:\n",
    "            _inv = sympy.Matrix(self.matrix)**-1\n",
    "            return _inv.tolist()\n",
    "        return [_elems[self.cols:] for _elems in self.matrix_extended_rref]\n",
    "    def generate(self):\n",
    "        self.row_space_generator = self._generate_row_space_generator()\n",
    "        self.matrix = self._generate_matrix()\n",
    "        self.matrix_extended = self._generate_extended_matrix()\n",
    "        self.matrix_extended_rref = self._generate_extended_matrix_rref()\n",
    "        self.inverse_matrix = self._generate_inverse_matrix()    \n",
    "    def get_inverse_matrix(self):\n",
    "        return self.inverse_matrix\n",
    "    def str_inverse_matrix(self, is_latex_closure=True):\n",
    "        if is_latex_closure:\n",
    "            _text = r'\\( '\n",
    "        else:\n",
    "            _text = ''\n",
    "        _text += sympy.latex(sympy.Matrix(self.inverse_matrix), mat_delim='', mat_str='pmatrix')\n",
    "        if is_latex_closure:\n",
    "            _text += r' \\)'\n",
    "        return _text\n",
    "    def get_matrix(self):\n",
    "        return self.matrix\n",
    "    def str_matrix(self, is_latex_closure=True):\n",
    "        if is_latex_closure:\n",
    "            _text = r'\\( '\n",
    "        else:\n",
    "            _text = ''\n",
    "        _text += sympy.latex(sympy.Matrix(self.matrix), mat_delim='', mat_str='pmatrix')\n",
    "        if is_latex_closure:\n",
    "            _text += r' \\)'\n",
    "        return _text\n",
    "    def get_matrix_extended(self):\n",
    "        return self.matrix_extended\n",
    "    def str_matrix_extended(self, is_latex_closure=True):\n",
    "        if is_latex_closure:\n",
    "            _text = r'\\( '\n",
    "        else:\n",
    "            _text = ''\n",
    "        _text += sympy.latex(sympy.Matrix(self.matrix_extended), mat_delim='', mat_str='pmatrix')\n",
    "        if is_latex_closure:\n",
    "            _text += r' \\)'\n",
    "        return _text\n",
    "    def get_matrix_extended_rref(self):\n",
    "        return self.matrix_extended_rref\n",
    "    def str_matrix_extended_rref(self, is_latex_closure=True):\n",
    "        if is_latex_closure:\n",
    "            _text = r'\\( '\n",
    "        else:\n",
    "            _text = ''\n",
    "        _text += sympy.latex(sympy.Matrix(self.matrix_extended_rref), mat_delim='', mat_str='pmatrix')\n",
    "        if is_latex_closure:\n",
    "            _text += r' \\)'\n",
    "        return _text"
   ]
  },
  {
   "cell_type": "code",
   "execution_count": 39,
   "metadata": {
    "hidden": true,
    "scrolled": false
   },
   "outputs": [
    {
     "data": {
      "text/plain": [
       "5"
      ]
     },
     "metadata": {},
     "output_type": "display_data"
    },
    {
     "data": {
      "text/plain": [
       "3"
      ]
     },
     "metadata": {},
     "output_type": "display_data"
    },
    {
     "data": {
      "text/plain": [
       "[[-1, 1, -1], [0, 1, 1], [0, 1, 1], [-1, 1, -1], [-1, 1, -1]]"
      ]
     },
     "metadata": {},
     "output_type": "display_data"
    },
    {
     "data": {
      "text/plain": [
       "True"
      ]
     },
     "metadata": {},
     "output_type": "display_data"
    },
    {
     "data": {
      "text/html": [
       "\\( \\begin{pmatrix}-6 & 8 & -4\\\\1 & -2 & 0\\\\1 & 1 & 3\\\\-2 & 2 & -2\\\\0 & 2 & 2\\end{pmatrix} \\)"
      ],
      "text/plain": [
       "<IPython.core.display.HTML object>"
      ]
     },
     "metadata": {},
     "output_type": "display_data"
    },
    {
     "data": {
      "text/html": [
       "\\( \\begin{pmatrix}0 & 0 & 0 & - \\frac{1}{2} & \\frac{1}{2}\\\\0 & 0 & 0 & 0 & \\frac{1}{2}\\\\1 & 0 & 0 & -3 & -1\\\\0 & 1 & 0 & \\frac{1}{2} & \\frac{1}{2}\\\\0 & 0 & 1 & \\frac{1}{2} & -1\\end{pmatrix} \\)"
      ],
      "text/plain": [
       "<IPython.core.display.HTML object>"
      ]
     },
     "metadata": {},
     "output_type": "display_data"
    },
    {
     "data": {
      "text/html": [
       "\\( \\begin{pmatrix}-6 & 8 & -4 & 1 & 0 & 0 & 0 & 0\\\\1 & -2 & 0 & 0 & 1 & 0 & 0 & 0\\\\1 & 1 & 3 & 0 & 0 & 1 & 0 & 0\\\\-2 & 2 & -2 & 0 & 0 & 0 & 1 & 0\\\\0 & 2 & 2 & 0 & 0 & 0 & 0 & 1\\end{pmatrix} \\)"
      ],
      "text/plain": [
       "<IPython.core.display.HTML object>"
      ]
     },
     "metadata": {},
     "output_type": "display_data"
    },
    {
     "data": {
      "text/html": [
       "\\( \\begin{pmatrix}1 & 0 & 2 & 0 & 0 & 0 & - \\frac{1}{2} & \\frac{1}{2}\\\\0 & 1 & 1 & 0 & 0 & 0 & 0 & \\frac{1}{2}\\\\0 & 0 & 0 & 1 & 0 & 0 & -3 & -1\\\\0 & 0 & 0 & 0 & 1 & 0 & \\frac{1}{2} & \\frac{1}{2}\\\\0 & 0 & 0 & 0 & 0 & 1 & \\frac{1}{2} & -1\\end{pmatrix} \\)"
      ],
      "text/plain": [
       "<IPython.core.display.HTML object>"
      ]
     },
     "metadata": {},
     "output_type": "display_data"
    }
   ],
   "source": [
    "if __name__ == \"__main__\":\n",
    "    mr = InverseMatrix()\n",
    "    mr.set_dimension_range(3,5)\n",
    "    mr.set_ratio(0.25, 0.5)\n",
    "    mr.set_elementary_operation(2, 10, 0, -2, 2)\n",
    "    mr.generate()\n",
    "    display(mr.rows)\n",
    "    display(mr.cols)\n",
    "    display(mr.row_space_generator)\n",
    "    display(mr.is_singular)\n",
    "    IPython.display.display(IPython.display.HTML(mr.str_matrix()))\n",
    "    IPython.display.display(IPython.display.HTML(mr.str_inverse_matrix()))\n",
    "    IPython.display.display(IPython.display.HTML(mr.str_matrix_extended()))\n",
    "    IPython.display.display(IPython.display.HTML(mr.str_matrix_extended_rref()))"
   ]
  },
  {
   "cell_type": "code",
   "execution_count": null,
   "metadata": {
    "hidden": true
   },
   "outputs": [],
   "source": []
  }
 ],
 "metadata": {
  "kernelspec": {
   "display_name": "Python 3",
   "language": "python",
   "name": "python3"
  },
  "language_info": {
   "codemirror_mode": {
    "name": "ipython",
    "version": 3
   },
   "file_extension": ".py",
   "mimetype": "text/x-python",
   "name": "python",
   "nbconvert_exporter": "python",
   "pygments_lexer": "ipython3",
   "version": "3.7.6"
  },
  "toc": {
   "base_numbering": 1,
   "nav_menu": {},
   "number_sections": false,
   "sideBar": true,
   "skip_h1_title": false,
   "title_cell": "Table of Contents",
   "title_sidebar": "Contents",
   "toc_cell": false,
   "toc_position": {
    "height": "calc(100% - 180px)",
    "left": "10px",
    "top": "150px",
    "width": "232.833px"
   },
   "toc_section_display": true,
   "toc_window_display": true
  }
 },
 "nbformat": 4,
 "nbformat_minor": 2
}
